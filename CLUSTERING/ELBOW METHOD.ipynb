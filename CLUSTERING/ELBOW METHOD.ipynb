{
 "cells": [
  {
   "cell_type": "markdown",
   "id": "6804fed4",
   "metadata": {},
   "source": [
    "#  ELBOW METHOD\n",
    "\n",
    "###  WCSS - WITHIN CLUSTER SUM OF SQAURE"
   ]
  },
  {
   "cell_type": "code",
   "execution_count": 2,
   "id": "f6ee5da6",
   "metadata": {},
   "outputs": [],
   "source": [
    "from sklearn.cluster import KMeans\n",
    "import numpy as np\n",
    "from scipy.spatial.distance import cdist\n",
    "import matplotlib.pyplot as plt"
   ]
  },
  {
   "cell_type": "code",
   "execution_count": 3,
   "id": "3ab4e4bc",
   "metadata": {},
   "outputs": [],
   "source": [
    " from sklearn.datasets import make_blobs"
   ]
  },
  {
   "cell_type": "code",
   "execution_count": 4,
   "id": "4ca66a3e",
   "metadata": {},
   "outputs": [],
   "source": [
    "data, _= make_blobs(n_samples=20)"
   ]
  },
  {
   "cell_type": "code",
   "execution_count": 5,
   "id": "d3398af6",
   "metadata": {},
   "outputs": [
    {
     "data": {
      "image/png": "[encoded data removed]",
      "text/plain": [
       "<Figure size 720x432 with 1 Axes>"
      ]
     },
     "metadata": {
      "needs_background": "light"
     },
     "output_type": "display_data"
    }
   ],
   "source": [
    "plt.figure(figsize=(10,6))\n",
    "plt.scatter(data[:, 0], data[:,1])\n",
    "plt.show()"
   ]
  },
  {
   "cell_type": "code",
   "execution_count": 6,
   "id": "3ae90472",
   "metadata": {},
   "outputs": [
    {
     "name": "stderr",
     "output_type": "stream",
     "text": [
      "C:\\ProgramData\\Anaconda3\\lib\\site-packages\\sklearn\\cluster\\_kmeans.py:881: UserWarning: KMeans is known to have a memory leak on Windows with MKL, when there are less chunks than available threads. You can avoid it by setting the environment variable OMP_NUM_THREADS=1.\n",
      "  warnings.warn(\n"
     ]
    }
   ],
   "source": [
    "distortions  = []\n",
    "clusters = range(1,11)\n",
    "n = len(data)\n",
    "\n",
    "for k in clusters:\n",
    "    model = KMeans(n_clusters=k).fit(data)\n",
    "    distortions.append(sum(np.min(cdist(data, model.cluster_centers_, 'euclidean'), axis=1)) / n)"
   ]
  },
  {
   "cell_type": "code",
   "execution_count": 7,
   "id": "1c4038d9",
   "metadata": {},
   "outputs": [
    {
     "data": {
      "text/plain": [
       "[5.140237890689684,\n",
       " 2.2091734104881455,\n",
       " 1.1973642344818496,\n",
       " 1.0331850972864034,\n",
       " 0.8341054178095879,\n",
       " 0.666296280985836,\n",
       " 0.5053766985076475,\n",
       " 0.4392018324853734,\n",
       " 0.3881532058304413,\n",
       " 0.3437978127972121]"
      ]
     },
     "execution_count": 7,
     "metadata": {},
     "output_type": "execute_result"
    }
   ],
   "source": [
    "distortions"
   ]
  },
  {
   "cell_type": "code",
   "execution_count": 8,
   "id": "06d74144",
   "metadata": {},
   "outputs": [
    {
     "data": {
      "image/png": "[encoded data removed]",
      "text/plain": [
       "<Figure size 432x288 with 1 Axes>"
      ]
     },
     "metadata": {
      "needs_background": "light"
     },
     "output_type": "display_data"
    }
   ],
   "source": [
    "plt.plot(clusters, distortions, 'bx-')\n",
    "plt.show()"
   ]
  },
  {
   "cell_type": "code",
   "execution_count": null,
   "id": "07d789f2",
   "metadata": {},
   "outputs": [],
   "source": []
  }
 ],
 "metadata": {
  "kernelspec": {
   "display_name": "Python 3",
   "language": "python",
   "name": "python3"
  },
  "language_info": {
   "codemirror_mode": {
    "name": "ipython",
    "version": 3
   },
   "file_extension": ".py",
   "mimetype": "text/x-python",
   "name": "python",
   "nbconvert_exporter": "python",
   "pygments_lexer": "ipython3",
   "version": "3.8.8"
  }
 },
 "nbformat": 4,
 "nbformat_minor": 5
}
