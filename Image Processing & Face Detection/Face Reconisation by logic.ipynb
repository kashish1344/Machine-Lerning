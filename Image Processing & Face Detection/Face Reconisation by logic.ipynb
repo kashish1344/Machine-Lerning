{
 "cells": [
  {
   "cell_type": "code",
   "execution_count": 1,
   "id": "2cecf8c7",
   "metadata": {},
   "outputs": [],
   "source": [
    "import numpy as np\n",
    "import cv2"
   ]
  },
  {
   "cell_type": "code",
   "execution_count": 2,
   "id": "955597ca",
   "metadata": {},
   "outputs": [],
   "source": [
    "my_faces = np.load('my_faces.npy')\n",
    "unknown_faces = np.load('unknown_faces.npy')"
   ]
  },
  {
   "cell_type": "code",
   "execution_count": 3,
   "id": "3cb18992",
   "metadata": {},
   "outputs": [],
   "source": [
    "import matplotlib.pyplot as plt"
   ]
  },
  {
   "cell_type": "code",
   "execution_count": 4,
   "id": "1c73d4df",
   "metadata": {},
   "outputs": [],
   "source": [
    "#plt.imshow(unknown_faces[0])"
   ]
  },
  {
   "cell_type": "code",
   "execution_count": 5,
   "id": "089954b5",
   "metadata": {},
   "outputs": [],
   "source": [
    "data = np.r_[my_faces.reshape(400,-1), unknown_faces.reshape(400,-1)]"
   ]
  },
  {
   "cell_type": "code",
   "execution_count": 6,
   "id": "a2e79561",
   "metadata": {},
   "outputs": [
    {
     "data": {
      "text/plain": [
       "(800, 7500)"
      ]
     },
     "execution_count": 6,
     "metadata": {},
     "output_type": "execute_result"
    }
   ],
   "source": [
    "data = data / 255.0\n",
    "data.shape"
   ]
  },
  {
   "cell_type": "code",
   "execution_count": 7,
   "id": "b37c95ac",
   "metadata": {},
   "outputs": [
    {
     "data": {
      "text/plain": [
       "(800, 7500)"
      ]
     },
     "execution_count": 7,
     "metadata": {},
     "output_type": "execute_result"
    }
   ],
   "source": [
    "data.shape"
   ]
  },
  {
   "cell_type": "code",
   "execution_count": 8,
   "id": "6e77770f",
   "metadata": {},
   "outputs": [],
   "source": [
    "labels = np.zeros((data.shape[0],1))"
   ]
  },
  {
   "cell_type": "code",
   "execution_count": 9,
   "id": "232bce01",
   "metadata": {},
   "outputs": [],
   "source": [
    "labels[400:,:] = 1.0"
   ]
  },
  {
   "cell_type": "code",
   "execution_count": 10,
   "id": "a5738c6b",
   "metadata": {},
   "outputs": [
    {
     "data": {
      "text/plain": [
       "array([[0.],\n",
       "       [0.],\n",
       "       [0.],\n",
       "       [0.],\n",
       "       [0.],\n",
       "       [0.],\n",
       "       [0.],\n",
       "       [0.],\n",
       "       [0.],\n",
       "       [0.]])"
      ]
     },
     "execution_count": 10,
     "metadata": {},
     "output_type": "execute_result"
    }
   ],
   "source": [
    "labels[:10]"
   ]
  },
  {
   "cell_type": "code",
   "execution_count": 11,
   "id": "cf1d6b26",
   "metadata": {},
   "outputs": [
    {
     "data": {
      "text/plain": [
       "(array([0., 1.]), array([400, 400], dtype=int64))"
      ]
     },
     "execution_count": 11,
     "metadata": {},
     "output_type": "execute_result"
    }
   ],
   "source": [
    "np.unique(labels,return_counts=True)"
   ]
  },
  {
   "cell_type": "code",
   "execution_count": 12,
   "id": "fa89e621",
   "metadata": {},
   "outputs": [],
   "source": [
    "names = {\n",
    "    0 : \"KASHISH\" ,\n",
    "    1 : \"UNKNOWN\"\n",
    "}"
   ]
  },
  {
   "cell_type": "code",
   "execution_count": 13,
   "id": "528b4118",
   "metadata": {},
   "outputs": [],
   "source": [
    "np.random.seed(101)\n",
    "np.random.shuffle(data)\n",
    "np.random.seed(101)\n",
    "np.random.shuffle(labels)"
   ]
  },
  {
   "cell_type": "code",
   "execution_count": 14,
   "id": "9bda887c",
   "metadata": {
    "scrolled": true
   },
   "outputs": [],
   "source": [
    "data = np.c_[data, labels]"
   ]
  },
  {
   "cell_type": "code",
   "execution_count": 15,
   "id": "e658951a",
   "metadata": {},
   "outputs": [
    {
     "data": {
      "text/plain": [
       "array([[0.54901961, 0.52156863, 0.5372549 , ..., 0.69411765, 0.78039216,\n",
       "        0.        ],\n",
       "       [0.98039216, 0.25490196, 0.91372549, ..., 0.25490196, 0.91372549,\n",
       "        1.        ],\n",
       "       [0.55686275, 0.45490196, 0.43529412, ..., 0.2627451 , 0.15686275,\n",
       "        0.        ],\n",
       "       ...,\n",
       "       [0.98039216, 0.25490196, 0.91372549, ..., 0.25490196, 0.91372549,\n",
       "        1.        ],\n",
       "       [0.45490196, 0.4       , 0.42352941, ..., 0.22352941, 0.1254902 ,\n",
       "        0.        ],\n",
       "       [0.98039216, 0.25490196, 0.91372549, ..., 0.25490196, 0.91372549,\n",
       "        1.        ]])"
      ]
     },
     "execution_count": 15,
     "metadata": {},
     "output_type": "execute_result"
    }
   ],
   "source": [
    "data"
   ]
  },
  {
   "cell_type": "code",
   "execution_count": 16,
   "id": "b06a0a82",
   "metadata": {},
   "outputs": [],
   "source": [
    "np.random.shuffle(data)"
   ]
  },
  {
   "cell_type": "code",
   "execution_count": 17,
   "id": "d9864245",
   "metadata": {},
   "outputs": [],
   "source": [
    "labels = data[:,-1]"
   ]
  },
  {
   "cell_type": "code",
   "execution_count": 18,
   "id": "be882e1f",
   "metadata": {},
   "outputs": [
    {
     "data": {
      "text/plain": [
       "array([1., 1., 1., 1., 0., 0., 1., 1., 0., 0., 0., 0., 0., 0., 1., 1., 0.,\n",
       "       1., 0., 1., 1., 0., 1., 0., 1., 0., 0., 0., 0., 0., 1., 0., 0., 0.,\n",
       "       1., 1., 1., 1., 0., 1., 0., 1., 1., 0., 0., 1., 0., 1., 0., 0., 0.,\n",
       "       1., 0., 0., 0., 1., 1., 0., 0., 0., 0., 0., 1., 0., 0., 1., 1., 1.,\n",
       "       0., 1., 1., 0., 1., 1., 1., 0., 1., 0., 0., 0., 1., 0., 1., 0., 0.,\n",
       "       0., 0., 1., 1., 0., 1., 1., 1., 1., 1., 1., 0., 0., 1., 0., 1., 1.,\n",
       "       1., 0., 1., 0., 1., 1., 1., 1., 1., 0., 1., 0., 0., 1., 1., 1., 1.,\n",
       "       0., 1., 0., 1., 1., 0., 0., 1., 0., 0., 1., 1., 0., 0., 0., 0., 0.,\n",
       "       0., 0., 1., 0., 1., 1., 1., 1., 1., 0., 1., 0., 0., 1., 0., 1., 0.,\n",
       "       0., 1., 0., 1., 0., 1., 1., 1., 1., 1., 1., 1., 0., 0., 0., 1., 0.,\n",
       "       0., 1., 0., 0., 1., 1., 1., 1., 1., 0., 1., 0., 1., 0., 0., 1., 1.,\n",
       "       0., 0., 1., 1., 1., 0., 1., 0., 0., 1., 0., 1., 0., 0., 1., 0., 0.,\n",
       "       1., 1., 0., 0., 1., 0., 1., 0., 1., 1., 1., 1., 0., 1., 0., 0., 1.,\n",
       "       0., 1., 1., 1., 1., 0., 0., 0., 0., 1., 1., 1., 0., 1., 1., 1., 1.,\n",
       "       0., 0., 0., 1., 0., 1., 0., 1., 1., 0., 1., 1., 0., 0., 0., 0., 0.,\n",
       "       0., 0., 1., 0., 1., 1., 0., 1., 1., 1., 1., 0., 0., 0., 0., 0., 0.,\n",
       "       0., 1., 0., 0., 0., 1., 0., 1., 1., 0., 0., 1., 0., 0., 0., 1., 1.,\n",
       "       1., 0., 0., 0., 0., 1., 0., 0., 1., 1., 0., 1., 0., 1., 0., 1., 1.,\n",
       "       1., 0., 0., 0., 0., 1., 1., 0., 0., 1., 1., 0., 0., 1., 0., 1., 1.,\n",
       "       1., 1., 1., 1., 1., 0., 0., 1., 1., 0., 1., 0., 0., 1., 1., 1., 0.,\n",
       "       1., 0., 1., 1., 1., 0., 1., 0., 0., 0., 1., 0., 0., 0., 0., 0., 1.,\n",
       "       0., 0., 0., 1., 0., 0., 1., 1., 1., 1., 0., 0., 0., 1., 0., 1., 0.,\n",
       "       1., 1., 1., 0., 0., 1., 0., 0., 1., 1., 0., 1., 1., 1., 0., 1., 1.,\n",
       "       1., 0., 1., 1., 1., 0., 1., 0., 0., 0., 1., 0., 0., 0., 1., 1., 1.,\n",
       "       0., 1., 1., 1., 0., 0., 0., 1., 1., 0., 0., 1., 1., 0., 1., 1., 1.,\n",
       "       1., 0., 0., 0., 1., 1., 0., 0., 1., 0., 1., 1., 0., 1., 1., 1., 1.,\n",
       "       0., 0., 1., 0., 1., 1., 0., 0., 1., 1., 1., 1., 0., 1., 0., 0., 1.,\n",
       "       1., 0., 1., 0., 1., 1., 1., 0., 0., 0., 1., 1., 1., 1., 0., 1., 0.,\n",
       "       1., 0., 1., 0., 1., 0., 1., 0., 1., 0., 1., 1., 0., 0., 0., 0., 1.,\n",
       "       0., 0., 1., 0., 1., 1., 0., 1., 1., 1., 0., 1., 0., 1., 1., 0., 1.,\n",
       "       1., 1., 0., 0., 0., 1., 0., 0., 0., 1., 0., 0., 1., 1., 1., 1., 0.,\n",
       "       1., 0., 1., 0., 1., 1., 1., 0., 0., 0., 1., 0., 0., 0., 1., 1., 1.,\n",
       "       1., 1., 1., 1., 0., 0., 1., 1., 1., 1., 1., 0., 1., 0., 0., 0., 0.,\n",
       "       1., 0., 1., 0., 1., 1., 0., 1., 0., 0., 1., 0., 1., 1., 0., 0., 0.,\n",
       "       0., 0., 0., 0., 0., 0., 1., 0., 1., 0., 1., 1., 1., 1., 1., 0., 0.,\n",
       "       0., 1., 1., 1., 1., 0., 1., 0., 0., 0., 0., 0., 1., 1., 0., 0., 0.,\n",
       "       1., 1., 1., 0., 0., 1., 0., 0., 0., 1., 0., 1., 0., 0., 1., 1., 0.,\n",
       "       0., 1., 0., 1., 0., 0., 0., 1., 1., 1., 0., 1., 1., 1., 0., 1., 0.,\n",
       "       0., 1., 0., 1., 0., 1., 0., 0., 1., 0., 1., 0., 0., 0., 1., 0., 0.,\n",
       "       0., 1., 0., 1., 1., 1., 1., 1., 0., 1., 0., 0., 1., 0., 0., 1., 0.,\n",
       "       0., 1., 0., 0., 0., 0., 0., 1., 1., 0., 0., 0., 0., 0., 0., 1., 1.,\n",
       "       1., 1., 1., 0., 1., 1., 0., 1., 1., 0., 0., 0., 0., 0., 0., 1., 1.,\n",
       "       0., 1., 1., 1., 0., 0., 1., 1., 0., 0., 0., 0., 1., 0., 0., 1., 0.,\n",
       "       0., 0., 1., 1., 1., 0., 1., 1., 1., 0., 1., 0., 0., 0., 1., 0., 1.,\n",
       "       1., 1., 0., 1., 1., 0., 0., 0., 0., 1., 0., 1., 0., 0., 1., 1., 0.,\n",
       "       0., 0., 1., 1., 0., 0., 1., 1., 1., 1., 0., 1., 0., 0., 0., 0., 1.,\n",
       "       1., 0., 0., 1., 1., 1., 1., 1., 0., 1., 0., 1., 0., 1., 0., 0., 1.,\n",
       "       1.])"
      ]
     },
     "execution_count": 18,
     "metadata": {},
     "output_type": "execute_result"
    }
   ],
   "source": [
    "labels"
   ]
  },
  {
   "cell_type": "code",
   "execution_count": 19,
   "id": "c1c8b505",
   "metadata": {},
   "outputs": [],
   "source": [
    "data = data[:,0:-1]"
   ]
  },
  {
   "cell_type": "code",
   "execution_count": 20,
   "id": "6d69343b",
   "metadata": {
    "scrolled": true
   },
   "outputs": [
    {
     "data": {
      "text/plain": [
       "(800, 7500)"
      ]
     },
     "execution_count": 20,
     "metadata": {},
     "output_type": "execute_result"
    }
   ],
   "source": [
    "data.shape"
   ]
  },
  {
   "cell_type": "code",
   "execution_count": 21,
   "id": "a3777043",
   "metadata": {},
   "outputs": [],
   "source": [
    "#plt.imshow(data[0].reshape(50,50))"
   ]
  },
  {
   "cell_type": "code",
   "execution_count": 22,
   "id": "c879c4a7",
   "metadata": {},
   "outputs": [],
   "source": [
    "def distance(x1,x2):\n",
    "    return np.sqrt(np.sum((x1-x2) ** 2))\n",
    "    "
   ]
  },
  {
   "cell_type": "code",
   "execution_count": 25,
   "id": "35626ccf",
   "metadata": {},
   "outputs": [],
   "source": [
    "def knn(data, target, k=11):\n",
    "    dist = []\n",
    "    for i in range(len(data)):\n",
    "        dist.append(distance(data[i], target))\n",
    "    #print(dist)\n",
    "    sorted_index = np.argsort(dist)\n",
    "    sorted_labels = labels[sorted_index][:k]\n",
    "    #print(sorted_labels)\n",
    "    unique_labels = np.unique(sorted_labels, return_counts=True)\n",
    "    #print(unique_labels)\n",
    "    majority_element = np.argmax(unique_labels[1])\n",
    "    return majority_element"
   ]
  },
  {
   "cell_type": "code",
   "execution_count": 32,
   "id": "4b327432",
   "metadata": {},
   "outputs": [],
   "source": [
    "haardata = cv2.CascadeClassifier('haarcascade_frontalface_default.xml')\n",
    "\n",
    "#cap = cv2.VideoCapture(0)\n",
    "cap = cv2.VideoCapture('video_1.wmv')\n",
    "faceData = []\n",
    "font = cv2.FONT_HERSHEY_COMPLEX\n",
    "while True:\n",
    "    flag, img = cap.read()\n",
    "    if flag:\n",
    "        img = cv2.resize(img, None, fx=0.5, fy=0.5)\n",
    "        faces = haardata.detectMultiScale(img,1.2)\n",
    "        for x,y,w,h in faces:\n",
    "            cv2.rectangle(img, (x,y), (x+w, y+h), (0,0,255), 5)\n",
    "            face = img[y:y+h, x:x+w, :]\n",
    "            face = cv2.resize(face, (50,50))\n",
    "            #face = face / 255.0\n",
    "            pred = knn(data, face.reshape(1,-1))\n",
    "            name = names[int(pred)]\n",
    "            #print(pred)\n",
    "            cv2.putText(img, name, (x,y), font, 1, (0,255,0),1)\n",
    "        cv2.imshow('img', img)\n",
    "        if cv2.waitKey(1) == 27 or len(faceData) >= 400:\n",
    "            break\n",
    "    else:\n",
    "        print(\"Camera is not detected...\")\n",
    "        break\n",
    "cv2.destroyAllWindows()\n",
    "cap.release()"
   ]
  },
  {
   "cell_type": "code",
   "execution_count": null,
   "id": "9c0194a3",
   "metadata": {},
   "outputs": [],
   "source": []
  },
  {
   "cell_type": "code",
   "execution_count": null,
   "id": "e52671cb",
   "metadata": {},
   "outputs": [],
   "source": []
  }
 ],
 "metadata": {
  "kernelspec": {
   "display_name": "Python 3",
   "language": "python",
   "name": "python3"
  },
  "language_info": {
   "codemirror_mode": {
    "name": "ipython",
    "version": 3
   },
   "file_extension": ".py",
   "mimetype": "text/x-python",
   "name": "python",
   "nbconvert_exporter": "python",
   "pygments_lexer": "ipython3",
   "version": "3.8.8"
  }
 },
 "nbformat": 4,
 "nbformat_minor": 5
}
