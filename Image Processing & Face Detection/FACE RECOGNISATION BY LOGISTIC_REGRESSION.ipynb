{
 "cells": [
  {
   "cell_type": "code",
   "execution_count": 33,
   "id": "d4206766",
   "metadata": {},
   "outputs": [],
   "source": [
    "import numpy as np\n",
    "import cv2\n",
    "import matplotlib.pyplot as plt"
   ]
  },
  {
   "cell_type": "code",
   "execution_count": 34,
   "id": "f5a400cd",
   "metadata": {},
   "outputs": [],
   "source": [
    "from sklearn.linear_model import LogisticRegression\n",
    "from sklearn.neighbors import KNeighborsClassifier\n",
    "from sklearn.metrics import accuracy_score\n",
    "from sklearn.model_selection import train_test_split"
   ]
  },
  {
   "cell_type": "code",
   "execution_count": 35,
   "id": "c4144625",
   "metadata": {},
   "outputs": [],
   "source": [
    "my_faces = np.load('my_faces.npy')\n",
    "unknown_faces = np.load('unknown_faces.npy')"
   ]
  },
  {
   "cell_type": "code",
   "execution_count": 36,
   "id": "1bc877e9",
   "metadata": {},
   "outputs": [],
   "source": [
    "data = np.r_[my_faces.reshape(400,-1), unknown_faces.reshape(400,-1)]"
   ]
  },
  {
   "cell_type": "code",
   "execution_count": 37,
   "id": "1fd2aaba",
   "metadata": {},
   "outputs": [],
   "source": [
    "# Normalisation\n",
    "\n",
    "data = data / 255.0"
   ]
  },
  {
   "cell_type": "code",
   "execution_count": 38,
   "id": "1e5e2e66",
   "metadata": {},
   "outputs": [
    {
     "data": {
      "text/plain": [
       "(800, 7500)"
      ]
     },
     "execution_count": 38,
     "metadata": {},
     "output_type": "execute_result"
    }
   ],
   "source": [
    "data.shape"
   ]
  },
  {
   "cell_type": "code",
   "execution_count": 39,
   "id": "de5c0825",
   "metadata": {},
   "outputs": [
    {
     "data": {
      "text/plain": [
       "(800, 1)"
      ]
     },
     "execution_count": 39,
     "metadata": {},
     "output_type": "execute_result"
    }
   ],
   "source": [
    "data.shape[0],1"
   ]
  },
  {
   "cell_type": "code",
   "execution_count": 40,
   "id": "82ffda1b",
   "metadata": {},
   "outputs": [],
   "source": [
    "labels = np.zeros((data.shape[0],1))"
   ]
  },
  {
   "cell_type": "code",
   "execution_count": 41,
   "id": "8963861f",
   "metadata": {},
   "outputs": [
    {
     "data": {
      "text/plain": [
       "(800, 1)"
      ]
     },
     "execution_count": 41,
     "metadata": {},
     "output_type": "execute_result"
    }
   ],
   "source": [
    "labels.shape"
   ]
  },
  {
   "cell_type": "code",
   "execution_count": 42,
   "id": "2697695b",
   "metadata": {},
   "outputs": [],
   "source": [
    "labels[400:,0] = 1.0"
   ]
  },
  {
   "cell_type": "code",
   "execution_count": 43,
   "id": "c8c6dc01",
   "metadata": {},
   "outputs": [
    {
     "data": {
      "text/plain": [
       "(array([0., 1.]), array([400, 400], dtype=int64))"
      ]
     },
     "execution_count": 43,
     "metadata": {},
     "output_type": "execute_result"
    }
   ],
   "source": [
    "np.unique(labels, return_counts=True)"
   ]
  },
  {
   "cell_type": "code",
   "execution_count": 44,
   "id": "ba4facaa",
   "metadata": {},
   "outputs": [],
   "source": [
    "names = {\n",
    "    0 : 'Kashish',\n",
    "    1 : 'Unknown'\n",
    "    \n",
    "}"
   ]
  },
  {
   "cell_type": "code",
   "execution_count": 45,
   "id": "a0ae9586",
   "metadata": {},
   "outputs": [
    {
     "data": {
      "text/plain": [
       "(800, 1)"
      ]
     },
     "execution_count": 45,
     "metadata": {},
     "output_type": "execute_result"
    }
   ],
   "source": [
    "labels.shape"
   ]
  },
  {
   "cell_type": "code",
   "execution_count": 46,
   "id": "01df7b12",
   "metadata": {},
   "outputs": [
    {
     "data": {
      "text/plain": [
       "array([[0.],\n",
       "       [0.],\n",
       "       [0.],\n",
       "       [0.],\n",
       "       [0.],\n",
       "       [0.],\n",
       "       [0.],\n",
       "       [0.],\n",
       "       [0.],\n",
       "       [0.]])"
      ]
     },
     "execution_count": 46,
     "metadata": {},
     "output_type": "execute_result"
    }
   ],
   "source": [
    "labels[:10]"
   ]
  },
  {
   "cell_type": "code",
   "execution_count": 75,
   "id": "598e43fe",
   "metadata": {},
   "outputs": [],
   "source": [
    "# Train_Test_Splitting\n",
    "\n",
    "x_train , x_test , y_train , y_test = train_test_split(data, labels, test_size=0.20)"
   ]
  },
  {
   "cell_type": "code",
   "execution_count": 76,
   "id": "9df58bf9",
   "metadata": {},
   "outputs": [
    {
     "data": {
      "text/plain": [
       "((640, 7500), (160, 7500), (640, 1), (160, 1))"
      ]
     },
     "execution_count": 76,
     "metadata": {},
     "output_type": "execute_result"
    }
   ],
   "source": [
    "x_train.shape , x_test.shape , y_train.shape , y_test.shape"
   ]
  },
  {
   "cell_type": "code",
   "execution_count": 77,
   "id": "140129a9",
   "metadata": {},
   "outputs": [
    {
     "data": {
      "text/plain": [
       "array([[1.],\n",
       "       [0.],\n",
       "       [0.],\n",
       "       [0.],\n",
       "       [0.],\n",
       "       [1.],\n",
       "       [1.],\n",
       "       [1.],\n",
       "       [0.],\n",
       "       [0.]])"
      ]
     },
     "execution_count": 77,
     "metadata": {},
     "output_type": "execute_result"
    }
   ],
   "source": [
    "y_train[:10]"
   ]
  },
  {
   "cell_type": "code",
   "execution_count": 78,
   "id": "0d4f864f",
   "metadata": {},
   "outputs": [
    {
     "data": {
      "text/plain": [
       "LogisticRegression()"
      ]
     },
     "execution_count": 78,
     "metadata": {},
     "output_type": "execute_result"
    }
   ],
   "source": [
    "logistic = LogisticRegression()\n",
    "logistic.fit(x_train,y_train.flatten())"
   ]
  },
  {
   "cell_type": "code",
   "execution_count": 79,
   "id": "8d62479b",
   "metadata": {},
   "outputs": [],
   "source": [
    "y_pred = logistic.predict(x_test)\n"
   ]
  },
  {
   "cell_type": "code",
   "execution_count": 80,
   "id": "e42db2d1",
   "metadata": {},
   "outputs": [
    {
     "data": {
      "text/plain": [
       "1.0"
      ]
     },
     "execution_count": 80,
     "metadata": {},
     "output_type": "execute_result"
    }
   ],
   "source": [
    "accuracy_score(y_test, y_pred)"
   ]
  },
  {
   "cell_type": "code",
   "execution_count": 81,
   "id": "20fc78a6",
   "metadata": {},
   "outputs": [
    {
     "data": {
      "text/plain": [
       "KNeighborsClassifier()"
      ]
     },
     "execution_count": 81,
     "metadata": {},
     "output_type": "execute_result"
    }
   ],
   "source": [
    "knn = KNeighborsClassifier()\n",
    "knn.fit(x_train, y_train.flatten())"
   ]
  },
  {
   "cell_type": "code",
   "execution_count": 82,
   "id": "e448af9a",
   "metadata": {},
   "outputs": [],
   "source": [
    "y_pred_knn = knn.predict(x_test)"
   ]
  },
  {
   "cell_type": "code",
   "execution_count": 83,
   "id": "0f883c90",
   "metadata": {},
   "outputs": [
    {
     "data": {
      "text/plain": [
       "1.0"
      ]
     },
     "execution_count": 83,
     "metadata": {},
     "output_type": "execute_result"
    }
   ],
   "source": [
    "accuracy_score(y_test, y_pred_knn)"
   ]
  },
  {
   "cell_type": "code",
   "execution_count": 84,
   "id": "445a66a0",
   "metadata": {
    "scrolled": true
   },
   "outputs": [],
   "source": [
    "haardata = cv2.CascadeClassifier('haarcascade_frontalface_default.xml')\n",
    "\n",
    "#cap = cv2.VideoCapture(0)\n",
    "cap = cv2.VideoCapture('videoplayback.wmv')\n",
    "faceData = []\n",
    "font = cv2.FONT_HERSHEY_COMPLEX\n",
    "while True:\n",
    "    flag, img = cap.read()\n",
    "    if flag:\n",
    "        #img = cv2.resize(img, None, fx=0.5, fy=0.5)\n",
    "        faces = haardata.detectMultiScale(img,1.2)\n",
    "        for x,y,w,h in faces:\n",
    "            cv2.rectangle(img, (x,y), (x+w, y+h), (0,0,255), 5)\n",
    "            face = img[y:y+h, x:x+w, :]\n",
    "            face = cv2.resize(face, (50,50))\n",
    "            face = face / 255.0\n",
    "            pred = logistic.predict(face.reshape(1,-1))\n",
    "            name = names[int(pred)]\n",
    "            #print(pred)\n",
    "            cv2.putText(img, name, (x,y), font, 1, (0,255,0),1)\n",
    "        cv2.imshow('img', img)\n",
    "        if cv2.waitKey(1) == 27 or len(faceData) >= 400:\n",
    "            break\n",
    "    else:\n",
    "        print(\"Camera is not detected...\")\n",
    "        break\n",
    "cv2.destroyAllWindows()\n",
    "cap.release()"
   ]
  },
  {
   "cell_type": "code",
   "execution_count": 64,
   "id": "3260a00d",
   "metadata": {},
   "outputs": [],
   "source": [
    "from sklearn.metrics import confusion_matrix"
   ]
  },
  {
   "cell_type": "code",
   "execution_count": 65,
   "id": "fb3e48f7",
   "metadata": {},
   "outputs": [
    {
     "data": {
      "text/plain": [
       "array([[100,   0],\n",
       "       [  0, 100]], dtype=int64)"
      ]
     },
     "execution_count": 65,
     "metadata": {},
     "output_type": "execute_result"
    }
   ],
   "source": [
    "confusion_matrix(y_test, y_pred)"
   ]
  },
  {
   "cell_type": "code",
   "execution_count": null,
   "id": "ef94a109",
   "metadata": {},
   "outputs": [],
   "source": []
  }
 ],
 "metadata": {
  "kernelspec": {
   "display_name": "Python 3",
   "language": "python",
   "name": "python3"
  },
  "language_info": {
   "codemirror_mode": {
    "name": "ipython",
    "version": 3
   },
   "file_extension": ".py",
   "mimetype": "text/x-python",
   "name": "python",
   "nbconvert_exporter": "python",
   "pygments_lexer": "ipython3",
   "version": "3.8.8"
  }
 },
 "nbformat": 4,
 "nbformat_minor": 5
}
