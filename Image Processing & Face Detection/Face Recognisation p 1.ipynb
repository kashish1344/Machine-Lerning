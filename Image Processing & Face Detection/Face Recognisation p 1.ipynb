{
 "cells": [
  {
   "cell_type": "code",
   "execution_count": 1,
   "id": "6cd1d505",
   "metadata": {},
   "outputs": [],
   "source": [
    "import numpy as np\n",
    "import cv2"
   ]
  },
  {
   "cell_type": "code",
   "execution_count": 2,
   "id": "bf3fbbe1",
   "metadata": {},
   "outputs": [],
   "source": [
    "my_faces = np.load('my_faces.npy')\n",
    "unknown_faces = np.load('unknown_faces.npy')"
   ]
  },
  {
   "cell_type": "code",
   "execution_count": 3,
   "id": "650440bf",
   "metadata": {},
   "outputs": [],
   "source": [
    "import matplotlib.pyplot as plt"
   ]
  },
  {
   "cell_type": "code",
   "execution_count": 4,
   "id": "183998bf",
   "metadata": {},
   "outputs": [],
   "source": [
    "data = np.r_[my_faces.reshape(400,-1), unknown_faces.reshape(400,-1)]"
   ]
  },
  {
   "cell_type": "code",
   "execution_count": 5,
   "id": "10420347",
   "metadata": {},
   "outputs": [],
   "source": [
    "data = data / 255.0\n"
   ]
  },
  {
   "cell_type": "code",
   "execution_count": 6,
   "id": "af94b0cf",
   "metadata": {},
   "outputs": [
    {
     "data": {
      "text/plain": [
       "(800, 7500)"
      ]
     },
     "execution_count": 6,
     "metadata": {},
     "output_type": "execute_result"
    }
   ],
   "source": [
    "data.shape"
   ]
  },
  {
   "cell_type": "code",
   "execution_count": 7,
   "id": "a1b00aec",
   "metadata": {},
   "outputs": [],
   "source": [
    "labels = np.zeros((data.shape[0],1))"
   ]
  },
  {
   "cell_type": "code",
   "execution_count": 8,
   "id": "3472f402",
   "metadata": {},
   "outputs": [],
   "source": [
    "labels[400:,:] = 1.0"
   ]
  },
  {
   "cell_type": "code",
   "execution_count": 9,
   "id": "52f84649",
   "metadata": {},
   "outputs": [
    {
     "data": {
      "text/plain": [
       "(array([0., 1.]), array([400, 400], dtype=int64))"
      ]
     },
     "execution_count": 9,
     "metadata": {},
     "output_type": "execute_result"
    }
   ],
   "source": [
    "np.unique(labels, return_counts=True)"
   ]
  },
  {
   "cell_type": "code",
   "execution_count": 10,
   "id": "c76158a5",
   "metadata": {},
   "outputs": [],
   "source": [
    "names = {\n",
    "    0 : 'Kashish',\n",
    "    1 : 'Unknown_Face'\n",
    "}"
   ]
  },
  {
   "cell_type": "code",
   "execution_count": 11,
   "id": "4b551933",
   "metadata": {},
   "outputs": [
    {
     "data": {
      "text/plain": [
       "array([[0.],\n",
       "       [0.],\n",
       "       [0.],\n",
       "       [0.],\n",
       "       [0.],\n",
       "       [0.],\n",
       "       [0.],\n",
       "       [0.],\n",
       "       [0.],\n",
       "       [0.]])"
      ]
     },
     "execution_count": 11,
     "metadata": {},
     "output_type": "execute_result"
    }
   ],
   "source": [
    "labels[:10]"
   ]
  },
  {
   "cell_type": "code",
   "execution_count": 12,
   "id": "5a9c6414",
   "metadata": {},
   "outputs": [
    {
     "data": {
      "text/plain": [
       "<matplotlib.image.AxesImage at 0x5e10303820>"
      ]
     },
     "execution_count": 12,
     "metadata": {},
     "output_type": "execute_result"
    },
    {
     "data": {
      "image/png": "[encoded data removed]",
      "text/plain": [
       "<Figure size 432x288 with 1 Axes>"
      ]
     },
     "metadata": {
      "needs_background": "light"
     },
     "output_type": "display_data"
    }
   ],
   "source": [
    "plt.imshow(data[8].reshape(50,50,3))"
   ]
  },
  {
   "cell_type": "code",
   "execution_count": 13,
   "id": "c0551433",
   "metadata": {},
   "outputs": [],
   "source": [
    "data = np.c_[data,labels]"
   ]
  },
  {
   "cell_type": "code",
   "execution_count": 14,
   "id": "42bbb223",
   "metadata": {},
   "outputs": [
    {
     "data": {
      "text/plain": [
       "array([[0.58823529, 0.55686275, 0.54509804, ..., 0.28235294, 0.33333333,\n",
       "        0.        ],\n",
       "       [0.58431373, 0.55686275, 0.54901961, ..., 0.26666667, 0.30588235,\n",
       "        0.        ],\n",
       "       [0.58431373, 0.55686275, 0.54901961, ..., 0.26666667, 0.30588235,\n",
       "        0.        ],\n",
       "       ...,\n",
       "       [0.98039216, 0.25490196, 0.91372549, ..., 0.25490196, 0.91372549,\n",
       "        1.        ],\n",
       "       [0.98039216, 0.25490196, 0.91372549, ..., 0.25490196, 0.91372549,\n",
       "        1.        ],\n",
       "       [0.98039216, 0.25490196, 0.91372549, ..., 0.25490196, 0.91372549,\n",
       "        1.        ]])"
      ]
     },
     "execution_count": 14,
     "metadata": {},
     "output_type": "execute_result"
    }
   ],
   "source": [
    "data"
   ]
  },
  {
   "cell_type": "code",
   "execution_count": 15,
   "id": "c38ffa44",
   "metadata": {},
   "outputs": [],
   "source": [
    "np.random.shuffle(data)"
   ]
  },
  {
   "cell_type": "code",
   "execution_count": 16,
   "id": "a10e3ef6",
   "metadata": {},
   "outputs": [],
   "source": [
    "labels = data[:,-1]"
   ]
  },
  {
   "cell_type": "code",
   "execution_count": 17,
   "id": "ed23255f",
   "metadata": {},
   "outputs": [
    {
     "data": {
      "text/plain": [
       "(array([0., 1.]), array([400, 400], dtype=int64))"
      ]
     },
     "execution_count": 17,
     "metadata": {},
     "output_type": "execute_result"
    }
   ],
   "source": [
    "np.unique(labels,return_counts=True)"
   ]
  },
  {
   "cell_type": "code",
   "execution_count": 18,
   "id": "5cc81b10",
   "metadata": {},
   "outputs": [
    {
     "data": {
      "text/plain": [
       "array([[0.98039216, 0.25490196, 0.91372549, ..., 0.25490196, 0.91372549,\n",
       "        1.        ],\n",
       "       [0.98039216, 0.25490196, 0.91372549, ..., 0.25490196, 0.91372549,\n",
       "        1.        ],\n",
       "       [0.98039216, 0.25490196, 0.91372549, ..., 0.25490196, 0.91372549,\n",
       "        1.        ],\n",
       "       ...,\n",
       "       [0.48235294, 0.51764706, 0.54509804, ..., 0.65882353, 0.82745098,\n",
       "        0.        ],\n",
       "       [0.5254902 , 0.52156863, 0.52941176, ..., 0.7372549 , 0.76470588,\n",
       "        0.        ],\n",
       "       [0.47058824, 0.43137255, 0.46666667, ..., 0.24705882, 0.16078431,\n",
       "        0.        ]])"
      ]
     },
     "execution_count": 18,
     "metadata": {},
     "output_type": "execute_result"
    }
   ],
   "source": [
    "data"
   ]
  },
  {
   "cell_type": "code",
   "execution_count": 19,
   "id": "3b64ee4c",
   "metadata": {},
   "outputs": [],
   "source": [
    "def distance(x1,x2):\n",
    "    return np.sqrt(np.sum((x1-x2) ** 2))"
   ]
  },
  {
   "cell_type": "code",
   "execution_count": 22,
   "id": "249ba565",
   "metadata": {},
   "outputs": [],
   "source": [
    "def knn(data, target, k=11):\n",
    "    dist = []\n",
    "    for i in range(len(data)):\n",
    "        dist.append(distance(data[i], target))\n",
    "    #print(dist)\n",
    "    sorted_index = np.argsort(dist)\n",
    "    sorted_labels = labels[sorted_index][:k]\n",
    "    #print(sorted_labels)\n",
    "    unique_labels = np.unique(sorted_labels, return_counts=True)\n",
    "    #print(unique_labels)\n",
    "    majority_element = np.argmax(unique_labels[1])\n",
    "    return majority_element"
   ]
  },
  {
   "cell_type": "code",
   "execution_count": 25,
   "id": "88e0b6f6",
   "metadata": {},
   "outputs": [
    {
     "ename": "ValueError",
     "evalue": "operands could not be broadcast together with shapes (7501,) (1,7500) ",
     "output_type": "error",
     "traceback": [
      "\u001b[1;31m---------------------------------------------------------------------------\u001b[0m",
      "\u001b[1;31mValueError\u001b[0m                                Traceback (most recent call last)",
      "\u001b[1;32m<ipython-input-25-04f6dbca1ff1>\u001b[0m in \u001b[0;36m<module>\u001b[1;34m\u001b[0m\n\u001b[0;32m     15\u001b[0m             \u001b[0mface\u001b[0m \u001b[1;33m=\u001b[0m \u001b[0mcv2\u001b[0m\u001b[1;33m.\u001b[0m\u001b[0mresize\u001b[0m\u001b[1;33m(\u001b[0m\u001b[0mface\u001b[0m\u001b[1;33m,\u001b[0m \u001b[1;33m(\u001b[0m\u001b[1;36m50\u001b[0m\u001b[1;33m,\u001b[0m\u001b[1;36m50\u001b[0m\u001b[1;33m)\u001b[0m\u001b[1;33m)\u001b[0m\u001b[1;33m\u001b[0m\u001b[1;33m\u001b[0m\u001b[0m\n\u001b[0;32m     16\u001b[0m             \u001b[1;31m#face = face / 255.0\u001b[0m\u001b[1;33m\u001b[0m\u001b[1;33m\u001b[0m\u001b[1;33m\u001b[0m\u001b[0m\n\u001b[1;32m---> 17\u001b[1;33m             \u001b[0mpred\u001b[0m \u001b[1;33m=\u001b[0m \u001b[0mknn\u001b[0m\u001b[1;33m(\u001b[0m\u001b[0mdata\u001b[0m\u001b[1;33m,\u001b[0m \u001b[0mface\u001b[0m\u001b[1;33m.\u001b[0m\u001b[0mreshape\u001b[0m\u001b[1;33m(\u001b[0m\u001b[1;36m1\u001b[0m\u001b[1;33m,\u001b[0m\u001b[1;33m-\u001b[0m\u001b[1;36m1\u001b[0m\u001b[1;33m)\u001b[0m\u001b[1;33m)\u001b[0m\u001b[1;33m\u001b[0m\u001b[1;33m\u001b[0m\u001b[0m\n\u001b[0m\u001b[0;32m     18\u001b[0m             \u001b[0mname\u001b[0m \u001b[1;33m=\u001b[0m \u001b[0mnames\u001b[0m\u001b[1;33m[\u001b[0m\u001b[0mint\u001b[0m\u001b[1;33m(\u001b[0m\u001b[0mpred\u001b[0m\u001b[1;33m)\u001b[0m\u001b[1;33m]\u001b[0m\u001b[1;33m\u001b[0m\u001b[1;33m\u001b[0m\u001b[0m\n\u001b[0;32m     19\u001b[0m             \u001b[1;31m#print(pred)\u001b[0m\u001b[1;33m\u001b[0m\u001b[1;33m\u001b[0m\u001b[1;33m\u001b[0m\u001b[0m\n",
      "\u001b[1;32m<ipython-input-22-be9a481fe4d4>\u001b[0m in \u001b[0;36mknn\u001b[1;34m(data, target, k)\u001b[0m\n\u001b[0;32m      2\u001b[0m     \u001b[0mdist\u001b[0m \u001b[1;33m=\u001b[0m \u001b[1;33m[\u001b[0m\u001b[1;33m]\u001b[0m\u001b[1;33m\u001b[0m\u001b[1;33m\u001b[0m\u001b[0m\n\u001b[0;32m      3\u001b[0m     \u001b[1;32mfor\u001b[0m \u001b[0mi\u001b[0m \u001b[1;32min\u001b[0m \u001b[0mrange\u001b[0m\u001b[1;33m(\u001b[0m\u001b[0mlen\u001b[0m\u001b[1;33m(\u001b[0m\u001b[0mdata\u001b[0m\u001b[1;33m)\u001b[0m\u001b[1;33m)\u001b[0m\u001b[1;33m:\u001b[0m\u001b[1;33m\u001b[0m\u001b[1;33m\u001b[0m\u001b[0m\n\u001b[1;32m----> 4\u001b[1;33m         \u001b[0mdist\u001b[0m\u001b[1;33m.\u001b[0m\u001b[0mappend\u001b[0m\u001b[1;33m(\u001b[0m\u001b[0mdistance\u001b[0m\u001b[1;33m(\u001b[0m\u001b[0mdata\u001b[0m\u001b[1;33m[\u001b[0m\u001b[0mi\u001b[0m\u001b[1;33m]\u001b[0m\u001b[1;33m,\u001b[0m \u001b[0mtarget\u001b[0m\u001b[1;33m)\u001b[0m\u001b[1;33m)\u001b[0m\u001b[1;33m\u001b[0m\u001b[1;33m\u001b[0m\u001b[0m\n\u001b[0m\u001b[0;32m      5\u001b[0m     \u001b[1;31m#print(dist)\u001b[0m\u001b[1;33m\u001b[0m\u001b[1;33m\u001b[0m\u001b[1;33m\u001b[0m\u001b[0m\n\u001b[0;32m      6\u001b[0m     \u001b[0msorted_index\u001b[0m \u001b[1;33m=\u001b[0m \u001b[0mnp\u001b[0m\u001b[1;33m.\u001b[0m\u001b[0margsort\u001b[0m\u001b[1;33m(\u001b[0m\u001b[0mdist\u001b[0m\u001b[1;33m)\u001b[0m\u001b[1;33m\u001b[0m\u001b[1;33m\u001b[0m\u001b[0m\n",
      "\u001b[1;32m<ipython-input-19-7a7d2b10edd4>\u001b[0m in \u001b[0;36mdistance\u001b[1;34m(x1, x2)\u001b[0m\n\u001b[0;32m      1\u001b[0m \u001b[1;32mdef\u001b[0m \u001b[0mdistance\u001b[0m\u001b[1;33m(\u001b[0m\u001b[0mx1\u001b[0m\u001b[1;33m,\u001b[0m\u001b[0mx2\u001b[0m\u001b[1;33m)\u001b[0m\u001b[1;33m:\u001b[0m\u001b[1;33m\u001b[0m\u001b[1;33m\u001b[0m\u001b[0m\n\u001b[1;32m----> 2\u001b[1;33m     \u001b[1;32mreturn\u001b[0m \u001b[0mnp\u001b[0m\u001b[1;33m.\u001b[0m\u001b[0msqrt\u001b[0m\u001b[1;33m(\u001b[0m\u001b[0mnp\u001b[0m\u001b[1;33m.\u001b[0m\u001b[0msum\u001b[0m\u001b[1;33m(\u001b[0m\u001b[1;33m(\u001b[0m\u001b[0mx1\u001b[0m\u001b[1;33m-\u001b[0m\u001b[0mx2\u001b[0m\u001b[1;33m)\u001b[0m \u001b[1;33m**\u001b[0m \u001b[1;36m2\u001b[0m\u001b[1;33m)\u001b[0m\u001b[1;33m)\u001b[0m\u001b[1;33m\u001b[0m\u001b[1;33m\u001b[0m\u001b[0m\n\u001b[0m",
      "\u001b[1;31mValueError\u001b[0m: operands could not be broadcast together with shapes (7501,) (1,7500) "
     ]
    }
   ],
   "source": [
    "haardata = cv2.CascadeClassifier('haarcascade_frontalface_default.xml')\n",
    "\n",
    "cap = cv2.VideoCapture(0)\n",
    "#cap = cv2.VideoCapture('video_1.mp4')\n",
    "faceData = []\n",
    "font = cv2.FONT_HERSHEY_COMPLEX\n",
    "while True:\n",
    "    flag, img = cap.read()\n",
    "    if flag:\n",
    "        img = cv2.resize(img, None, fx=0.5, fy=0.5)\n",
    "        faces = haardata.detectMultiScale(img,1.2)\n",
    "        for x,y,w,h in faces:\n",
    "            cv2.rectangle(img, (x,y), (x+w, y+h), (0,0,255), 5)\n",
    "            face = img[y:y+h, x:x+w, :]\n",
    "            face = cv2.resize(face, (50,50))\n",
    "            #face = face / 255.0\n",
    "            pred = knn(data, face.reshape(1,-1))\n",
    "            name = names[int(pred)]\n",
    "            #print(pred)\n",
    "            cv2.putText(img, name, (x,y), font, 1, (0,255,0),1)\n",
    "        cv2.imshow('img', img)\n",
    "        if cv2.waitKey(1) == 27 or len(faceData) >= 400:\n",
    "            break\n",
    "    else:\n",
    "        print(\"Camera is not detected...\")\n",
    "        break\n",
    "cv2.destroyAllWindows()\n",
    "cap.release()"
   ]
  },
  {
   "cell_type": "code",
   "execution_count": null,
   "id": "74cd1452",
   "metadata": {},
   "outputs": [],
   "source": []
  }
 ],
 "metadata": {
  "kernelspec": {
   "display_name": "Python 3",
   "language": "python",
   "name": "python3"
  },
  "language_info": {
   "codemirror_mode": {
    "name": "ipython",
    "version": 3
   },
   "file_extension": ".py",
   "mimetype": "text/x-python",
   "name": "python",
   "nbconvert_exporter": "python",
   "pygments_lexer": "ipython3",
   "version": "3.8.8"
  }
 },
 "nbformat": 4,
 "nbformat_minor": 5
}
