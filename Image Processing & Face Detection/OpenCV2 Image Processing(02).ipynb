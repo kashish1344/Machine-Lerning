{
 "cells": [
  {
   "cell_type": "code",
   "execution_count": 1,
   "id": "6605efc8",
   "metadata": {},
   "outputs": [],
   "source": [
    "import cv2"
   ]
  },
  {
   "cell_type": "code",
   "execution_count": 2,
   "id": "a1389cd8",
   "metadata": {},
   "outputs": [],
   "source": [
    "img = cv2.imread('Dhoni.jpg')"
   ]
  },
  {
   "cell_type": "code",
   "execution_count": 3,
   "id": "dc1e1664",
   "metadata": {},
   "outputs": [],
   "source": [
    "img = cv2.resize(img, None, fx=0.5, fy =0.5)"
   ]
  },
  {
   "cell_type": "code",
   "execution_count": 4,
   "id": "c7cebfd2",
   "metadata": {},
   "outputs": [],
   "source": [
    "\n",
    "img = cv2.imread('Dhoni.jpg')\n",
    "font = cv2.FONT_HERSHEY_COMPLEX\n",
    "img = cv2.resize(img, None, fx=0.5, fy =0.5)\n",
    "\n",
    "# cv2.rectangle(img, (X,Y),(Width,Height) , (B,G,R),  Thickness_of_b0rder)\n",
    "cv2.rectangle(img, (210,150),(330,270) , (255,0,0),  5)\n",
    "\n",
    "#cv2.putText(img, 'Dhoni' , (X,Y), font , small/Bog , (B,G,R) , Bold )\n",
    "cv2.putText(img, 'Dhoni' , (200,140), font,1,(0,0,255),2 )\n",
    "\n",
    "cv2.imshow('result',img)\n",
    "cv2.waitKey(0)\n",
    "cv2.destroyAllWindows()"
   ]
  },
  {
   "cell_type": "code",
   "execution_count": null,
   "id": "9c4fe5cb",
   "metadata": {},
   "outputs": [],
   "source": []
  },
  {
   "cell_type": "code",
   "execution_count": 5,
   "id": "12c3c9d6",
   "metadata": {},
   "outputs": [],
   "source": [
    "cap = cv2.VideoCapture('video_1.wmv')\n",
    "#cap = cv2.VideoCapture(0)  # laptop Default Camera\n",
    "#cap = cv2.VideoCapture(1) # Laptop Additional Camera\n",
    "\n",
    "while True:\n",
    "    flag , img = cap.read()\n",
    "    if flag:\n",
    "        cv2.imshow('img',img)\n",
    "        if cv2.waitKey(1) == 27:\n",
    "            break\n",
    "    else:\n",
    "        print(\"Vedio Not Found...\")\n",
    "        break\n",
    "\n",
    "cap.release()\n",
    "cv2.destroyAllWindows()"
   ]
  },
  {
   "cell_type": "code",
   "execution_count": 7,
   "id": "b83069b3",
   "metadata": {},
   "outputs": [],
   "source": [
    "#cap = cv2.VideoCapture('video_1.wmv')\n",
    "cap = cv2.VideoCapture(0)  # laptop Default Camera\n",
    "#cap = cv2.VideoCapture(1) # Laptop Additional Camera\n",
    "i =0\n",
    "while True:\n",
    "    flag , img = cap.read()\n",
    "    if flag:\n",
    "        cv2.imshow('img',img)\n",
    "        cv2.imwrite(f'pics/{i}.png', img)\n",
    "        i +=1\n",
    "        if cv2.waitKey(1) == 27:\n",
    "            break\n",
    "    else:\n",
    "        print(\"Vedio Not Found...\")\n",
    "        break\n",
    "\n",
    "cap.release()\n",
    "cv2.destroyAllWindows()"
   ]
  },
  {
   "cell_type": "code",
   "execution_count": null,
   "id": "6f50284f",
   "metadata": {},
   "outputs": [],
   "source": []
  }
 ],
 "metadata": {
  "kernelspec": {
   "display_name": "Python 3",
   "language": "python",
   "name": "python3"
  },
  "language_info": {
   "codemirror_mode": {
    "name": "ipython",
    "version": 3
   },
   "file_extension": ".py",
   "mimetype": "text/x-python",
   "name": "python",
   "nbconvert_exporter": "python",
   "pygments_lexer": "ipython3",
   "version": "3.8.8"
  }
 },
 "nbformat": 4,
 "nbformat_minor": 5
}
