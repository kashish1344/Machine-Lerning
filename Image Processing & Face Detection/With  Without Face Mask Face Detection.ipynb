{
 "cells": [
  {
   "cell_type": "code",
   "execution_count": 1,
   "id": "6e56a91a",
   "metadata": {},
   "outputs": [],
   "source": [
    "import matplotlib.pyplot as plt\n",
    "import cv2\n",
    "import numpy as np"
   ]
  },
  {
   "cell_type": "code",
   "execution_count": 2,
   "id": "bf26e745",
   "metadata": {},
   "outputs": [],
   "source": [
    "with_mask = np.load('With_Mask.npy')\n",
    "without_mask = np.load('Without_mask.npy')"
   ]
  },
  {
   "cell_type": "code",
   "execution_count": 3,
   "id": "f59a9493",
   "metadata": {},
   "outputs": [
    {
     "data": {
      "text/plain": [
       "(200, 50, 50, 3)"
      ]
     },
     "execution_count": 3,
     "metadata": {},
     "output_type": "execute_result"
    }
   ],
   "source": [
    "with_mask.shape"
   ]
  },
  {
   "cell_type": "code",
   "execution_count": 4,
   "id": "598b3a3c",
   "metadata": {},
   "outputs": [
    {
     "data": {
      "text/plain": [
       "(106, 50, 50, 3)"
      ]
     },
     "execution_count": 4,
     "metadata": {},
     "output_type": "execute_result"
    }
   ],
   "source": [
    "without_mask.shape"
   ]
  },
  {
   "cell_type": "code",
   "execution_count": 5,
   "id": "a40a90fb",
   "metadata": {},
   "outputs": [],
   "source": [
    "with_mask = with_mask.reshape(200,50*50*3)\n",
    "without_mask = without_mask.reshape(106,50*50*3)"
   ]
  },
  {
   "cell_type": "code",
   "execution_count": 6,
   "id": "84f56ac7",
   "metadata": {},
   "outputs": [
    {
     "data": {
      "text/plain": [
       "(200, 7500)"
      ]
     },
     "execution_count": 6,
     "metadata": {},
     "output_type": "execute_result"
    }
   ],
   "source": [
    "with_mask.shape"
   ]
  },
  {
   "cell_type": "code",
   "execution_count": 7,
   "id": "adb52a68",
   "metadata": {},
   "outputs": [
    {
     "data": {
      "text/plain": [
       "(106, 7500)"
      ]
     },
     "execution_count": 7,
     "metadata": {},
     "output_type": "execute_result"
    }
   ],
   "source": [
    "without_mask.shape"
   ]
  },
  {
   "cell_type": "code",
   "execution_count": 8,
   "id": "090f158b",
   "metadata": {},
   "outputs": [],
   "source": [
    "x = np.r_[with_mask, without_mask]"
   ]
  },
  {
   "cell_type": "code",
   "execution_count": 9,
   "id": "71bbc41a",
   "metadata": {},
   "outputs": [
    {
     "data": {
      "text/plain": [
       "(306, 7500)"
      ]
     },
     "execution_count": 9,
     "metadata": {},
     "output_type": "execute_result"
    }
   ],
   "source": [
    "x.shape"
   ]
  },
  {
   "cell_type": "code",
   "execution_count": 10,
   "id": "a1622813",
   "metadata": {},
   "outputs": [],
   "source": [
    "y = np.zeros(x.shape[0])"
   ]
  },
  {
   "cell_type": "code",
   "execution_count": 11,
   "id": "b1403011",
   "metadata": {},
   "outputs": [],
   "source": [
    "y[100:] = 1.0"
   ]
  },
  {
   "cell_type": "code",
   "execution_count": 12,
   "id": "e2c83b8b",
   "metadata": {},
   "outputs": [],
   "source": [
    "names = {0 : 'Mask', 1 :'No Mask'}"
   ]
  },
  {
   "cell_type": "code",
   "execution_count": 13,
   "id": "a4dc6a2a",
   "metadata": {},
   "outputs": [],
   "source": [
    "# SVM- Support Vector Machine\n",
    "# SVC - Support Vector Classification\n",
    "\n",
    "from sklearn.svm import SVC\n",
    "from sklearn.metrics import accuracy_score"
   ]
  },
  {
   "cell_type": "code",
   "execution_count": 14,
   "id": "8c1d6b52",
   "metadata": {},
   "outputs": [],
   "source": [
    "from sklearn.model_selection import train_test_split"
   ]
  },
  {
   "cell_type": "code",
   "execution_count": 15,
   "id": "cb216624",
   "metadata": {},
   "outputs": [],
   "source": [
    "x_train, x_test , y_train , y_test = train_test_split(x,y, test_size=0.25)\n"
   ]
  },
  {
   "cell_type": "code",
   "execution_count": 16,
   "id": "10e5bf1d",
   "metadata": {},
   "outputs": [
    {
     "data": {
      "text/plain": [
       "(229, 7500)"
      ]
     },
     "execution_count": 16,
     "metadata": {},
     "output_type": "execute_result"
    }
   ],
   "source": [
    "x_train.shape"
   ]
  },
  {
   "cell_type": "code",
   "execution_count": 17,
   "id": "4c203535",
   "metadata": {},
   "outputs": [
    {
     "data": {
      "text/plain": [
       "(229,)"
      ]
     },
     "execution_count": 17,
     "metadata": {},
     "output_type": "execute_result"
    }
   ],
   "source": [
    "y_train.shape"
   ]
  },
  {
   "cell_type": "code",
   "execution_count": 18,
   "id": "c4c51ccc",
   "metadata": {},
   "outputs": [],
   "source": [
    "# PCA - Principal COmponent Analysis\n",
    "from sklearn.decomposition import PCA"
   ]
  },
  {
   "cell_type": "code",
   "execution_count": 19,
   "id": "0b6a1005",
   "metadata": {},
   "outputs": [],
   "source": [
    "pca = PCA(n_components=3)\n",
    "x_train = pca.fit_transform(x_train)\n"
   ]
  },
  {
   "cell_type": "code",
   "execution_count": 20,
   "id": "ff8d97de",
   "metadata": {},
   "outputs": [
    {
     "data": {
      "text/plain": [
       "array([-1501.66161838,  -253.68912755, -1451.78279467])"
      ]
     },
     "execution_count": 20,
     "metadata": {},
     "output_type": "execute_result"
    }
   ],
   "source": [
    "x_train[0]"
   ]
  },
  {
   "cell_type": "code",
   "execution_count": 21,
   "id": "28a3e2a8",
   "metadata": {},
   "outputs": [
    {
     "data": {
      "text/plain": [
       "(229, 3)"
      ]
     },
     "execution_count": 21,
     "metadata": {},
     "output_type": "execute_result"
    }
   ],
   "source": [
    "x_train.shape"
   ]
  },
  {
   "cell_type": "code",
   "execution_count": 22,
   "id": "8087beda",
   "metadata": {},
   "outputs": [
    {
     "data": {
      "text/plain": [
       "SVC()"
      ]
     },
     "execution_count": 22,
     "metadata": {},
     "output_type": "execute_result"
    }
   ],
   "source": [
    "\n",
    "svm = SVC()\n",
    "svm.fit(x_train, y_train)"
   ]
  },
  {
   "cell_type": "code",
   "execution_count": 23,
   "id": "e42884bd",
   "metadata": {},
   "outputs": [],
   "source": [
    "x_test = pca.transform(x_test)\n",
    "y_pred = svm.predict(x_test)"
   ]
  },
  {
   "cell_type": "code",
   "execution_count": 24,
   "id": "694d34b0",
   "metadata": {},
   "outputs": [
    {
     "data": {
      "text/plain": [
       "0.8051948051948052"
      ]
     },
     "execution_count": 24,
     "metadata": {},
     "output_type": "execute_result"
    }
   ],
   "source": [
    "accuracy_score(y_test,y_pred)"
   ]
  },
  {
   "cell_type": "code",
   "execution_count": 28,
   "id": "84e2a7d8",
   "metadata": {},
   "outputs": [
    {
     "name": "stdout",
     "output_type": "stream",
     "text": [
      "No Mask\n",
      "No Mask\n",
      "No Mask\n",
      "No Mask\n",
      "No Mask\n",
      "No Mask\n",
      "No Mask\n",
      "No Mask\n",
      "No Mask\n",
      "No Mask\n",
      "No Mask\n",
      "No Mask\n",
      "No Mask\n",
      "No Mask\n",
      "No Mask\n",
      "No Mask\n",
      "No Mask\n",
      "No Mask\n",
      "No Mask\n",
      "No Mask\n",
      "No Mask\n",
      "No Mask\n",
      "No Mask\n",
      "No Mask\n",
      "No Mask\n",
      "No Mask\n",
      "No Mask\n",
      "No Mask\n",
      "No Mask\n",
      "Mask\n",
      "Mask\n",
      "Mask\n",
      "Mask\n",
      "Mask\n",
      "Mask\n",
      "No Mask\n",
      "No Mask\n",
      "No Mask\n",
      "No Mask\n",
      "No Mask\n",
      "No Mask\n",
      "No Mask\n",
      "No Mask\n",
      "No Mask\n",
      "No Mask\n",
      "No Mask\n",
      "No Mask\n",
      "No Mask\n",
      "No Mask\n"
     ]
    }
   ],
   "source": [
    "haar_data = cv2.CascadeClassifier('haarcascade_frontalface_default.xml')\n",
    "capture = cv2.VideoCapture(0)\n",
    "data = []\n",
    "font = cv2.FONT_HERSHEY_COMPLEX_SMALL\n",
    "while True:\n",
    "    flag, img = capture.read()\n",
    "    if flag:\n",
    "        faces = haar_data.detectMultiScale(img)\n",
    "        for x,y,w,h in faces:\n",
    "            cv2.rectangle(img, (x,y), (x+w , y+h), (250,65,233), 4)\n",
    "            face = img[y:y+h, x:x+w, :]\n",
    "            face =  cv2.resize(face, (50,50))\n",
    "            face = face.reshape(1,-1)\n",
    "            face =  pca.transform(face)\n",
    "            pred = svm.predict(face)[0]\n",
    "            n =  names[int(pred)]\n",
    "            cv2.putText(img,n,(x,y),font,1,(33,55,244),1)\n",
    "            print(n)\n",
    "        cv2.imshow('result',img)\n",
    "        if cv2.waitKey(2) == 27:\n",
    "            break\n",
    "            \n",
    "capture.release()\n",
    "cv2.destroyAllWindows()"
   ]
  },
  {
   "cell_type": "code",
   "execution_count": null,
   "id": "77c73c26",
   "metadata": {},
   "outputs": [],
   "source": []
  }
 ],
 "metadata": {
  "kernelspec": {
   "display_name": "Python 3",
   "language": "python",
   "name": "python3"
  },
  "language_info": {
   "codemirror_mode": {
    "name": "ipython",
    "version": 3
   },
   "file_extension": ".py",
   "mimetype": "text/x-python",
   "name": "python",
   "nbconvert_exporter": "python",
   "pygments_lexer": "ipython3",
   "version": "3.8.8"
  }
 },
 "nbformat": 4,
 "nbformat_minor": 5
}
