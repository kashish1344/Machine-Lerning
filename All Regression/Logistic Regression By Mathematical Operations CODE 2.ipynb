{
 "cells": [
  {
   "cell_type": "code",
   "execution_count": 1,
   "id": "cd082eb3",
   "metadata": {},
   "outputs": [],
   "source": [
    "import pandas as pd\n",
    "import numpy as np\n",
    "import random"
   ]
  },
  {
   "cell_type": "code",
   "execution_count": 2,
   "id": "46b5303f",
   "metadata": {},
   "outputs": [],
   "source": [
    "df = pd.read_csv('pima-indians-diabetes.data.csv', header = None)"
   ]
  },
  {
   "cell_type": "code",
   "execution_count": 3,
   "id": "06bcd172",
   "metadata": {},
   "outputs": [
    {
     "data": {
      "text/html": [
       "<div>\n",
       "<style scoped>\n",
       "    .dataframe tbody tr th:only-of-type {\n",
       "        vertical-align: middle;\n",
       "    }\n",
       "\n",
       "    .dataframe tbody tr th {\n",
       "        vertical-align: top;\n",
       "    }\n",
       "\n",
       "    .dataframe thead th {\n",
       "        text-align: right;\n",
       "    }\n",
       "</style>\n",
       "<table border=\"1\" class=\"dataframe\">\n",
       "  <thead>\n",
       "    <tr style=\"text-align: right;\">\n",
       "      <th></th>\n",
       "      <th>0</th>\n",
       "      <th>1</th>\n",
       "      <th>2</th>\n",
       "      <th>3</th>\n",
       "      <th>4</th>\n",
       "      <th>5</th>\n",
       "      <th>6</th>\n",
       "      <th>7</th>\n",
       "      <th>8</th>\n",
       "    </tr>\n",
       "  </thead>\n",
       "  <tbody>\n",
       "    <tr>\n",
       "      <th>0</th>\n",
       "      <td>6</td>\n",
       "      <td>148</td>\n",
       "      <td>72</td>\n",
       "      <td>35</td>\n",
       "      <td>0</td>\n",
       "      <td>33.6</td>\n",
       "      <td>0.627</td>\n",
       "      <td>50</td>\n",
       "      <td>1</td>\n",
       "    </tr>\n",
       "    <tr>\n",
       "      <th>1</th>\n",
       "      <td>1</td>\n",
       "      <td>85</td>\n",
       "      <td>66</td>\n",
       "      <td>29</td>\n",
       "      <td>0</td>\n",
       "      <td>26.6</td>\n",
       "      <td>0.351</td>\n",
       "      <td>31</td>\n",
       "      <td>0</td>\n",
       "    </tr>\n",
       "    <tr>\n",
       "      <th>2</th>\n",
       "      <td>8</td>\n",
       "      <td>183</td>\n",
       "      <td>64</td>\n",
       "      <td>0</td>\n",
       "      <td>0</td>\n",
       "      <td>23.3</td>\n",
       "      <td>0.672</td>\n",
       "      <td>32</td>\n",
       "      <td>1</td>\n",
       "    </tr>\n",
       "    <tr>\n",
       "      <th>3</th>\n",
       "      <td>1</td>\n",
       "      <td>89</td>\n",
       "      <td>66</td>\n",
       "      <td>23</td>\n",
       "      <td>94</td>\n",
       "      <td>28.1</td>\n",
       "      <td>0.167</td>\n",
       "      <td>21</td>\n",
       "      <td>0</td>\n",
       "    </tr>\n",
       "    <tr>\n",
       "      <th>4</th>\n",
       "      <td>0</td>\n",
       "      <td>137</td>\n",
       "      <td>40</td>\n",
       "      <td>35</td>\n",
       "      <td>168</td>\n",
       "      <td>43.1</td>\n",
       "      <td>2.288</td>\n",
       "      <td>33</td>\n",
       "      <td>1</td>\n",
       "    </tr>\n",
       "  </tbody>\n",
       "</table>\n",
       "</div>"
      ],
      "text/plain": [
       "   0    1   2   3    4     5      6   7  8\n",
       "0  6  148  72  35    0  33.6  0.627  50  1\n",
       "1  1   85  66  29    0  26.6  0.351  31  0\n",
       "2  8  183  64   0    0  23.3  0.672  32  1\n",
       "3  1   89  66  23   94  28.1  0.167  21  0\n",
       "4  0  137  40  35  168  43.1  2.288  33  1"
      ]
     },
     "execution_count": 3,
     "metadata": {},
     "output_type": "execute_result"
    }
   ],
   "source": [
    "df.head()"
   ]
  },
  {
   "cell_type": "code",
   "execution_count": 4,
   "id": "83afe14a",
   "metadata": {},
   "outputs": [],
   "source": [
    "columns = ['Pregnancies','Glucose','BP','Skin Thickness','Insulin','BMI',\n",
    "          'Diabetes Pedigries','Age','Outcome']"
   ]
  },
  {
   "cell_type": "code",
   "execution_count": 5,
   "id": "9baf6f7f",
   "metadata": {},
   "outputs": [],
   "source": [
    "df.columns = columns"
   ]
  },
  {
   "cell_type": "code",
   "execution_count": 6,
   "id": "54a30c30",
   "metadata": {},
   "outputs": [
    {
     "data": {
      "text/html": [
       "<div>\n",
       "<style scoped>\n",
       "    .dataframe tbody tr th:only-of-type {\n",
       "        vertical-align: middle;\n",
       "    }\n",
       "\n",
       "    .dataframe tbody tr th {\n",
       "        vertical-align: top;\n",
       "    }\n",
       "\n",
       "    .dataframe thead th {\n",
       "        text-align: right;\n",
       "    }\n",
       "</style>\n",
       "<table border=\"1\" class=\"dataframe\">\n",
       "  <thead>\n",
       "    <tr style=\"text-align: right;\">\n",
       "      <th></th>\n",
       "      <th>Pregnancies</th>\n",
       "      <th>Glucose</th>\n",
       "      <th>BP</th>\n",
       "      <th>Skin Thickness</th>\n",
       "      <th>Insulin</th>\n",
       "      <th>BMI</th>\n",
       "      <th>Diabetes Pedigries</th>\n",
       "      <th>Age</th>\n",
       "      <th>Outcome</th>\n",
       "    </tr>\n",
       "  </thead>\n",
       "  <tbody>\n",
       "    <tr>\n",
       "      <th>0</th>\n",
       "      <td>6</td>\n",
       "      <td>148</td>\n",
       "      <td>72</td>\n",
       "      <td>35</td>\n",
       "      <td>0</td>\n",
       "      <td>33.6</td>\n",
       "      <td>0.627</td>\n",
       "      <td>50</td>\n",
       "      <td>1</td>\n",
       "    </tr>\n",
       "    <tr>\n",
       "      <th>1</th>\n",
       "      <td>1</td>\n",
       "      <td>85</td>\n",
       "      <td>66</td>\n",
       "      <td>29</td>\n",
       "      <td>0</td>\n",
       "      <td>26.6</td>\n",
       "      <td>0.351</td>\n",
       "      <td>31</td>\n",
       "      <td>0</td>\n",
       "    </tr>\n",
       "    <tr>\n",
       "      <th>2</th>\n",
       "      <td>8</td>\n",
       "      <td>183</td>\n",
       "      <td>64</td>\n",
       "      <td>0</td>\n",
       "      <td>0</td>\n",
       "      <td>23.3</td>\n",
       "      <td>0.672</td>\n",
       "      <td>32</td>\n",
       "      <td>1</td>\n",
       "    </tr>\n",
       "    <tr>\n",
       "      <th>3</th>\n",
       "      <td>1</td>\n",
       "      <td>89</td>\n",
       "      <td>66</td>\n",
       "      <td>23</td>\n",
       "      <td>94</td>\n",
       "      <td>28.1</td>\n",
       "      <td>0.167</td>\n",
       "      <td>21</td>\n",
       "      <td>0</td>\n",
       "    </tr>\n",
       "    <tr>\n",
       "      <th>4</th>\n",
       "      <td>0</td>\n",
       "      <td>137</td>\n",
       "      <td>40</td>\n",
       "      <td>35</td>\n",
       "      <td>168</td>\n",
       "      <td>43.1</td>\n",
       "      <td>2.288</td>\n",
       "      <td>33</td>\n",
       "      <td>1</td>\n",
       "    </tr>\n",
       "  </tbody>\n",
       "</table>\n",
       "</div>"
      ],
      "text/plain": [
       "   Pregnancies  Glucose  BP  Skin Thickness  Insulin   BMI  \\\n",
       "0            6      148  72              35        0  33.6   \n",
       "1            1       85  66              29        0  26.6   \n",
       "2            8      183  64               0        0  23.3   \n",
       "3            1       89  66              23       94  28.1   \n",
       "4            0      137  40              35      168  43.1   \n",
       "\n",
       "   Diabetes Pedigries  Age  Outcome  \n",
       "0               0.627   50        1  \n",
       "1               0.351   31        0  \n",
       "2               0.672   32        1  \n",
       "3               0.167   21        0  \n",
       "4               2.288   33        1  "
      ]
     },
     "execution_count": 6,
     "metadata": {},
     "output_type": "execute_result"
    }
   ],
   "source": [
    "df.head()"
   ]
  },
  {
   "cell_type": "code",
   "execution_count": 7,
   "id": "cedc0acc",
   "metadata": {},
   "outputs": [
    {
     "data": {
      "text/plain": [
       "(768, 9)"
      ]
     },
     "execution_count": 7,
     "metadata": {},
     "output_type": "execute_result"
    }
   ],
   "source": [
    "df.shape"
   ]
  },
  {
   "cell_type": "code",
   "execution_count": 8,
   "id": "78f87015",
   "metadata": {},
   "outputs": [],
   "source": [
    "x = df.iloc[:,:-1].values\n",
    "y = df.iloc[:,-1].values"
   ]
  },
  {
   "cell_type": "code",
   "execution_count": 9,
   "id": "298609a3",
   "metadata": {},
   "outputs": [
    {
     "data": {
      "text/plain": [
       "(768, 8)"
      ]
     },
     "execution_count": 9,
     "metadata": {},
     "output_type": "execute_result"
    }
   ],
   "source": [
    "x.shape"
   ]
  },
  {
   "cell_type": "code",
   "execution_count": 10,
   "id": "09f1c758",
   "metadata": {},
   "outputs": [
    {
     "data": {
      "text/plain": [
       "(768,)"
      ]
     },
     "execution_count": 10,
     "metadata": {},
     "output_type": "execute_result"
    }
   ],
   "source": [
    "y.shape"
   ]
  },
  {
   "cell_type": "code",
   "execution_count": 11,
   "id": "b1671ba3",
   "metadata": {},
   "outputs": [
    {
     "data": {
      "text/plain": [
       "array([  6.   , 148.   ,  72.   ,  35.   ,   0.   ,  33.6  ,   0.627,\n",
       "        50.   ])"
      ]
     },
     "execution_count": 11,
     "metadata": {},
     "output_type": "execute_result"
    }
   ],
   "source": [
    "x[0]"
   ]
  },
  {
   "cell_type": "code",
   "execution_count": 12,
   "id": "866f8291",
   "metadata": {},
   "outputs": [
    {
     "data": {
      "text/plain": [
       "768"
      ]
     },
     "execution_count": 12,
     "metadata": {},
     "output_type": "execute_result"
    }
   ],
   "source": [
    "df.shape[0]"
   ]
  },
  {
   "cell_type": "code",
   "execution_count": 13,
   "id": "2cdbd774",
   "metadata": {},
   "outputs": [
    {
     "data": {
      "text/plain": [
       "9"
      ]
     },
     "execution_count": 13,
     "metadata": {},
     "output_type": "execute_result"
    }
   ],
   "source": [
    "df.shape[1]"
   ]
  },
  {
   "cell_type": "code",
   "execution_count": 14,
   "id": "199a8085",
   "metadata": {},
   "outputs": [
    {
     "data": {
      "text/plain": [
       "array([[  6.   , 148.   ,  72.   , ...,   0.627,  50.   ,   1.   ],\n",
       "       [  1.   ,  85.   ,  66.   , ...,   0.351,  31.   ,   0.   ],\n",
       "       [  8.   , 183.   ,  64.   , ...,   0.672,  32.   ,   1.   ],\n",
       "       ...,\n",
       "       [  5.   , 121.   ,  72.   , ...,   0.245,  30.   ,   0.   ],\n",
       "       [  1.   , 126.   ,  60.   , ...,   0.349,  47.   ,   1.   ],\n",
       "       [  1.   ,  93.   ,  70.   , ...,   0.315,  23.   ,   0.   ]])"
      ]
     },
     "execution_count": 14,
     "metadata": {},
     "output_type": "execute_result"
    }
   ],
   "source": [
    "df.values"
   ]
  },
  {
   "cell_type": "code",
   "execution_count": 15,
   "id": "dba14b6c",
   "metadata": {},
   "outputs": [],
   "source": [
    "# Feature Scaling - Normalization\n",
    "\n",
    "\n",
    "def minMaxScaler(df):\n",
    "    n = df.shape[0]\n",
    "    df = df.values\n",
    "    for i in range(0,df.shape[1] - 1):\n",
    "        min_val = min(df[:,i])\n",
    "        max_val = max(df[:,i])\n",
    "        for j in range(n):\n",
    "            numer = df[j][i] - min_val\n",
    "            denom = max_val - min_val\n",
    "            df[j][i] = numer / denom\n",
    "    return df\n"
   ]
  },
  {
   "cell_type": "code",
   "execution_count": 16,
   "id": "749a672b",
   "metadata": {},
   "outputs": [],
   "source": [
    "df = minMaxScaler(df)"
   ]
  },
  {
   "cell_type": "code",
   "execution_count": 17,
   "id": "f719db27",
   "metadata": {},
   "outputs": [
    {
     "data": {
      "text/plain": [
       "array([0.35294118, 0.74371859, 0.59016393, 0.35353535, 0.        ,\n",
       "       0.50074516, 0.23441503, 0.48333333, 1.        ])"
      ]
     },
     "execution_count": 17,
     "metadata": {},
     "output_type": "execute_result"
    }
   ],
   "source": [
    "df[0]"
   ]
  },
  {
   "cell_type": "code",
   "execution_count": 18,
   "id": "a3a99ed0",
   "metadata": {},
   "outputs": [],
   "source": [
    "# Divide data = Train_Test_Split using K-Fold Cross Validation Technique\n",
    "\n",
    "def kfold(dataset,k=5):\n",
    "    dataset_copy = list(dataset)\n",
    "    fold_size = dataset.shape[0] // k\n",
    "    folds = []\n",
    "    for i in range(k):\n",
    "        fold =[]\n",
    "        while len(fold) < fold_size:\n",
    "            index = random.randrange(len(dataset_copy))\n",
    "            fold.append(dataset_copy.pop(index))\n",
    "        folds.append(fold)\n",
    "    return folds"
   ]
  },
  {
   "cell_type": "code",
   "execution_count": 19,
   "id": "4a96f764",
   "metadata": {},
   "outputs": [],
   "source": [
    "# Predict function to get the predictions\n",
    "\n",
    "def predict(coef, row):\n",
    "    x = coef[0]\n",
    "    for i in range(len(row)):\n",
    "        x += coef[i + 1] * row[i]\n",
    "    return 1 / (1 + np.exp(-x))"
   ]
  },
  {
   "cell_type": "code",
   "execution_count": 20,
   "id": "26183124",
   "metadata": {},
   "outputs": [],
   "source": [
    "# to find out accuracy of our model\n",
    "\n",
    "def accuracy(y_test,y_pred):\n",
    "    count = 0\n",
    "    for i in range(len(y_pred)):\n",
    "        if y_pred[i] == y_test[i]:\n",
    "            count +=1\n",
    "    return count / len(y_pred) * 100"
   ]
  },
  {
   "cell_type": "code",
   "execution_count": 26,
   "id": "764a2290",
   "metadata": {},
   "outputs": [],
   "source": [
    "# Gradient Descent\n",
    "# - Batch\n",
    "# - Stochastic\n",
    "# - Mini Batch\n",
    "def gradient_descent(x_train, y_train, epochs, alpha):\n",
    "    coef = [0] * (x_train.shape[1] + 1)\n",
    "    n = x_train.shape[0]\n",
    "    # logic to calculate coef using stochastic gradient descent\n",
    "    for epoch in range(epochs):\n",
    "        for i in range(len(x_train)):\n",
    "            output = predict(coef, x_train[i])\n",
    "            loss = y_train[i] - output\n",
    "            coef[0] = coef[0] - ((2/n) * loss) * alpha\n",
    "            for j in range(x_train.shape[1]):\n",
    "                coef[j + 1] = coef[j + 1] - ((2/n) * loss * x_train[i][j]) * alpha\n",
    "    return coef"
   ]
  },
  {
   "cell_type": "code",
   "execution_count": 27,
   "id": "f4c9464b",
   "metadata": {},
   "outputs": [],
   "source": [
    "def logistic(x_train,y_train,x_test,y_test,epochs,alpha):\n",
    "    coef = gradient_descent(x_train, y_train, epochs, alpha)\n",
    "    predictions =[]\n",
    "    for row in x_test:\n",
    "        y_pred = predict(coef, row)\n",
    "        predictions.append(np.round(y_pred))\n",
    "    acc_score = accuracy(y_test,predictions)\n",
    "    return acc_score"
   ]
  },
  {
   "cell_type": "code",
   "execution_count": 28,
   "id": "98daad6f",
   "metadata": {},
   "outputs": [],
   "source": [
    "folds = kfold(df)"
   ]
  },
  {
   "cell_type": "code",
   "execution_count": 29,
   "id": "c18cb532",
   "metadata": {},
   "outputs": [
    {
     "data": {
      "text/plain": [
       "(5, 153, 9)"
      ]
     },
     "execution_count": 29,
     "metadata": {},
     "output_type": "execute_result"
    }
   ],
   "source": [
    "np.asarray(folds).shape"
   ]
  },
  {
   "cell_type": "code",
   "execution_count": 30,
   "id": "73d4407d",
   "metadata": {},
   "outputs": [],
   "source": [
    "folds = np.asarray(folds)"
   ]
  },
  {
   "cell_type": "code",
   "execution_count": 31,
   "id": "df15ba58",
   "metadata": {},
   "outputs": [
    {
     "data": {
      "text/plain": [
       "array([[0.11764706, 0.61306533, 0.42622951, ..., 0.31511529, 0.11666667,\n",
       "        0.        ],\n",
       "       [0.17647059, 0.64824121, 0.52459016, ..., 0.06020495, 0.11666667,\n",
       "        1.        ],\n",
       "       [0.23529412, 0.72864322, 0.67213115, ..., 0.06703672, 0.81666667,\n",
       "        1.        ],\n",
       "       ...,\n",
       "       [0.41176471, 0.59798995, 0.        , ..., 0.0559351 , 0.26666667,\n",
       "        0.        ],\n",
       "       [0.17647059, 0.44723618, 0.60655738, ..., 0.20196413, 0.28333333,\n",
       "        0.        ],\n",
       "       [0.11764706, 0.43718593, 0.47540984, ..., 0.03757472, 0.06666667,\n",
       "        0.        ]])"
      ]
     },
     "execution_count": 31,
     "metadata": {},
     "output_type": "execute_result"
    }
   ],
   "source": [
    "folds[0]"
   ]
  },
  {
   "cell_type": "code",
   "execution_count": 32,
   "id": "702ff885",
   "metadata": {},
   "outputs": [],
   "source": [
    "def evaluate(dataset,epochs,alpha):\n",
    "    folds = kfold(dataset)\n",
    "    for i in range(len(folds)):\n",
    "        x_train = []\n",
    "        y_train = []\n",
    "        x_test = []\n",
    "        y_test = []\n",
    "        train = list(folds)\n",
    "        train.pop(i)\n",
    "        for train_fold in train:\n",
    "            for data in train_fold:\n",
    "                x_train.append(data[:-1])\n",
    "                y_train.append(data[-1])\n",
    "                \n",
    "        for data in folds[i]:\n",
    "            x_test.append(data[:-1])\n",
    "            y_test.append(data[-1])\n",
    "            \n",
    "        x_train = np.asarray(x_train)\n",
    "        y_train = np.asarray(y_train)\n",
    "        x_test = np.asarray(x_test)\n",
    "        y_test = np.asarray(y_test)\n",
    "        acc = logistic(x_train,y_train,x_test,y_test,epochs,alpha)\n",
    "        print(\"Folds : {} Accuracy is {}\".format(i,acc))\n",
    "        "
   ]
  },
  {
   "cell_type": "code",
   "execution_count": 33,
   "id": "a260dc00",
   "metadata": {},
   "outputs": [
    {
     "name": "stdout",
     "output_type": "stream",
     "text": [
      "Folds : 0 Accuracy is 39.869281045751634\n",
      "Folds : 1 Accuracy is 34.64052287581699\n",
      "Folds : 2 Accuracy is 37.254901960784316\n",
      "Folds : 3 Accuracy is 32.6797385620915\n",
      "Folds : 4 Accuracy is 30.718954248366014\n"
     ]
    }
   ],
   "source": [
    "epochs = 100\n",
    "alpha = 0.01\n",
    "evaluate(df,epochs,alpha)\n"
   ]
  },
  {
   "cell_type": "code",
   "execution_count": null,
   "id": "b8ae8e21",
   "metadata": {},
   "outputs": [],
   "source": []
  },
  {
   "cell_type": "code",
   "execution_count": null,
   "id": "7c1bc7af",
   "metadata": {},
   "outputs": [],
   "source": []
  },
  {
   "cell_type": "code",
   "execution_count": null,
   "id": "5d6c686c",
   "metadata": {},
   "outputs": [],
   "source": []
  }
 ],
 "metadata": {
  "kernelspec": {
   "display_name": "Python 3",
   "language": "python",
   "name": "python3"
  },
  "language_info": {
   "codemirror_mode": {
    "name": "ipython",
    "version": 3
   },
   "file_extension": ".py",
   "mimetype": "text/x-python",
   "name": "python",
   "nbconvert_exporter": "python",
   "pygments_lexer": "ipython3",
   "version": "3.8.8"
  }
 },
 "nbformat": 4,
 "nbformat_minor": 5
}
