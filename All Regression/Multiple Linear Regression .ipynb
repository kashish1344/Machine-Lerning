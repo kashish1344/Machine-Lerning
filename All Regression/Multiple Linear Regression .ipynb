{
 "cells": [
  {
   "cell_type": "code",
   "execution_count": 2,
   "id": "1ca38740",
   "metadata": {},
   "outputs": [],
   "source": [
    "import numpy as np\n",
    "import pandas as pd\n",
    "import matplotlib.pyplot as plt"
   ]
  },
  {
   "cell_type": "code",
   "execution_count": 4,
   "id": "c2931e44",
   "metadata": {},
   "outputs": [],
   "source": [
    "df = pd.read_csv('appl_1980_2014.csv')"
   ]
  },
  {
   "cell_type": "code",
   "execution_count": 5,
   "id": "15a4551e",
   "metadata": {},
   "outputs": [
    {
     "data": {
      "text/html": [
       "<div>\n",
       "<style scoped>\n",
       "    .dataframe tbody tr th:only-of-type {\n",
       "        vertical-align: middle;\n",
       "    }\n",
       "\n",
       "    .dataframe tbody tr th {\n",
       "        vertical-align: top;\n",
       "    }\n",
       "\n",
       "    .dataframe thead th {\n",
       "        text-align: right;\n",
       "    }\n",
       "</style>\n",
       "<table border=\"1\" class=\"dataframe\">\n",
       "  <thead>\n",
       "    <tr style=\"text-align: right;\">\n",
       "      <th></th>\n",
       "      <th>Date</th>\n",
       "      <th>Open</th>\n",
       "      <th>High</th>\n",
       "      <th>Low</th>\n",
       "      <th>Close</th>\n",
       "      <th>Volume</th>\n",
       "      <th>Adj Close</th>\n",
       "    </tr>\n",
       "  </thead>\n",
       "  <tbody>\n",
       "    <tr>\n",
       "      <th>0</th>\n",
       "      <td>2014-07-08</td>\n",
       "      <td>96.27</td>\n",
       "      <td>96.80</td>\n",
       "      <td>93.92</td>\n",
       "      <td>95.35</td>\n",
       "      <td>65130000</td>\n",
       "      <td>95.35</td>\n",
       "    </tr>\n",
       "    <tr>\n",
       "      <th>1</th>\n",
       "      <td>2014-07-07</td>\n",
       "      <td>94.14</td>\n",
       "      <td>95.99</td>\n",
       "      <td>94.10</td>\n",
       "      <td>95.97</td>\n",
       "      <td>56305400</td>\n",
       "      <td>95.97</td>\n",
       "    </tr>\n",
       "    <tr>\n",
       "      <th>2</th>\n",
       "      <td>2014-07-03</td>\n",
       "      <td>93.67</td>\n",
       "      <td>94.10</td>\n",
       "      <td>93.20</td>\n",
       "      <td>94.03</td>\n",
       "      <td>22891800</td>\n",
       "      <td>94.03</td>\n",
       "    </tr>\n",
       "    <tr>\n",
       "      <th>3</th>\n",
       "      <td>2014-07-02</td>\n",
       "      <td>93.87</td>\n",
       "      <td>94.06</td>\n",
       "      <td>93.09</td>\n",
       "      <td>93.48</td>\n",
       "      <td>28420900</td>\n",
       "      <td>93.48</td>\n",
       "    </tr>\n",
       "    <tr>\n",
       "      <th>4</th>\n",
       "      <td>2014-07-01</td>\n",
       "      <td>93.52</td>\n",
       "      <td>94.07</td>\n",
       "      <td>93.13</td>\n",
       "      <td>93.52</td>\n",
       "      <td>38170200</td>\n",
       "      <td>93.52</td>\n",
       "    </tr>\n",
       "  </tbody>\n",
       "</table>\n",
       "</div>"
      ],
      "text/plain": [
       "         Date   Open   High    Low  Close    Volume  Adj Close\n",
       "0  2014-07-08  96.27  96.80  93.92  95.35  65130000      95.35\n",
       "1  2014-07-07  94.14  95.99  94.10  95.97  56305400      95.97\n",
       "2  2014-07-03  93.67  94.10  93.20  94.03  22891800      94.03\n",
       "3  2014-07-02  93.87  94.06  93.09  93.48  28420900      93.48\n",
       "4  2014-07-01  93.52  94.07  93.13  93.52  38170200      93.52"
      ]
     },
     "execution_count": 5,
     "metadata": {},
     "output_type": "execute_result"
    }
   ],
   "source": [
    "df.head()"
   ]
  },
  {
   "cell_type": "code",
   "execution_count": 7,
   "id": "5fc4a722",
   "metadata": {},
   "outputs": [
    {
     "data": {
      "text/plain": [
       "(8465, 7)"
      ]
     },
     "execution_count": 7,
     "metadata": {},
     "output_type": "execute_result"
    }
   ],
   "source": [
    "df.shape"
   ]
  },
  {
   "cell_type": "code",
   "execution_count": 8,
   "id": "412c40de",
   "metadata": {},
   "outputs": [],
   "source": [
    "df['Date'] = pd.to_datetime(df['Date'])"
   ]
  },
  {
   "cell_type": "code",
   "execution_count": 10,
   "id": "f15d12a0",
   "metadata": {},
   "outputs": [
    {
     "data": {
      "image/png": "[encoded data removed]",
      "text/plain": [
       "<Figure size 432x288 with 1 Axes>"
      ]
     },
     "metadata": {
      "needs_background": "light"
     },
     "output_type": "display_data"
    }
   ],
   "source": [
    "plt.plot(df['Date'], df['Close'])\n",
    "plt.show()"
   ]
  },
  {
   "cell_type": "code",
   "execution_count": 103,
   "id": "59f4c43f",
   "metadata": {},
   "outputs": [],
   "source": [
    "x = df[['Open','High', 'Low']].values\n",
    "y = df['Close'].values"
   ]
  },
  {
   "cell_type": "code",
   "execution_count": 104,
   "id": "d9c24e6c",
   "metadata": {},
   "outputs": [],
   "source": [
    "n = len(x)\n",
    "x0 = np.ones(n)"
   ]
  },
  {
   "cell_type": "code",
   "execution_count": 105,
   "id": "795f1aed",
   "metadata": {},
   "outputs": [
    {
     "data": {
      "text/plain": [
       "array([1., 1., 1., ..., 1., 1., 1.])"
      ]
     },
     "execution_count": 105,
     "metadata": {},
     "output_type": "execute_result"
    }
   ],
   "source": [
    "x0"
   ]
  },
  {
   "cell_type": "code",
   "execution_count": 106,
   "id": "2987850b",
   "metadata": {},
   "outputs": [],
   "source": [
    "x = np.c_[x0, x]"
   ]
  },
  {
   "cell_type": "code",
   "execution_count": 107,
   "id": "7e8a4503",
   "metadata": {},
   "outputs": [
    {
     "data": {
      "text/plain": [
       "array([[ 1.  , 96.27, 96.8 , 93.92],\n",
       "       [ 1.  , 94.14, 95.99, 94.1 ],\n",
       "       [ 1.  , 93.67, 94.1 , 93.2 ],\n",
       "       ...,\n",
       "       [ 1.  , 25.37, 25.37, 25.25],\n",
       "       [ 1.  , 27.38, 27.38, 27.25],\n",
       "       [ 1.  , 28.75, 28.87, 28.75]])"
      ]
     },
     "execution_count": 107,
     "metadata": {},
     "output_type": "execute_result"
    }
   ],
   "source": [
    "x"
   ]
  },
  {
   "cell_type": "code",
   "execution_count": 108,
   "id": "e3c15b1a",
   "metadata": {},
   "outputs": [
    {
     "data": {
      "text/plain": [
       "(8465, 4)"
      ]
     },
     "execution_count": 108,
     "metadata": {},
     "output_type": "execute_result"
    }
   ],
   "source": [
    "x.shape"
   ]
  },
  {
   "cell_type": "code",
   "execution_count": 109,
   "id": "139dc41e",
   "metadata": {},
   "outputs": [
    {
     "data": {
      "text/plain": [
       "array([ 1.  , 96.27, 96.8 , 93.92])"
      ]
     },
     "execution_count": 109,
     "metadata": {},
     "output_type": "execute_result"
    }
   ],
   "source": [
    "x[0]"
   ]
  },
  {
   "cell_type": "code",
   "execution_count": 110,
   "id": "a026530c",
   "metadata": {},
   "outputs": [
    {
     "data": {
      "text/plain": [
       "4"
      ]
     },
     "execution_count": 110,
     "metadata": {},
     "output_type": "execute_result"
    }
   ],
   "source": [
    "x.shape[1]   # For Column"
   ]
  },
  {
   "cell_type": "code",
   "execution_count": 111,
   "id": "26d509a9",
   "metadata": {},
   "outputs": [
    {
     "data": {
      "text/plain": [
       "8465"
      ]
     },
     "execution_count": 111,
     "metadata": {},
     "output_type": "execute_result"
    }
   ],
   "source": [
    "x.shape[0]    # For Row"
   ]
  },
  {
   "cell_type": "code",
   "execution_count": 112,
   "id": "eb724be6",
   "metadata": {},
   "outputs": [
    {
     "data": {
      "text/plain": [
       "8465"
      ]
     },
     "execution_count": 112,
     "metadata": {},
     "output_type": "execute_result"
    }
   ],
   "source": [
    "n"
   ]
  },
  {
   "cell_type": "code",
   "execution_count": 113,
   "id": "c4c2e2ef",
   "metadata": {},
   "outputs": [],
   "source": [
    "for i in range(1,x.shape[1]):\n",
    "    min_val = min(x[:,i])\n",
    "    max_val = max(x[:,i])\n",
    "    for j in range(n):\n",
    "        numer = x[j][i] - min_val\n",
    "        denom = max_val - min_val\n",
    "        x[j][i] = numer / denom"
   ]
  },
  {
   "cell_type": "code",
   "execution_count": 114,
   "id": "a1e00b7e",
   "metadata": {},
   "outputs": [
    {
     "data": {
      "text/plain": [
       "array([1.        , 0.12317551, 0.12346711, 0.12042349])"
      ]
     },
     "execution_count": 114,
     "metadata": {},
     "output_type": "execute_result"
    }
   ],
   "source": [
    "x[0]"
   ]
  },
  {
   "cell_type": "code",
   "execution_count": 115,
   "id": "6c946e5f",
   "metadata": {},
   "outputs": [],
   "source": [
    "from sklearn.preprocessing import MinMaxScaler"
   ]
  },
  {
   "cell_type": "code",
   "execution_count": 116,
   "id": "9429899b",
   "metadata": {},
   "outputs": [],
   "source": [
    "mimmax = MinMaxScaler()\n",
    "scaled_x = mimmax.fit_transform(x)\n",
    "scaled_y = mimmax.fit_transform(y.reshape(-1,1))"
   ]
  },
  {
   "cell_type": "code",
   "execution_count": 117,
   "id": "643fc00c",
   "metadata": {},
   "outputs": [
    {
     "data": {
      "text/plain": [
       "array([0.        , 0.12317551, 0.12346711, 0.12042349])"
      ]
     },
     "execution_count": 117,
     "metadata": {},
     "output_type": "execute_result"
    }
   ],
   "source": [
    "scaled_x[0]"
   ]
  },
  {
   "cell_type": "code",
   "execution_count": 118,
   "id": "8beadfa7",
   "metadata": {},
   "outputs": [
    {
     "data": {
      "text/plain": [
       "array([0.1220518])"
      ]
     },
     "execution_count": 118,
     "metadata": {},
     "output_type": "execute_result"
    }
   ],
   "source": [
    "scaled_y[0]"
   ]
  },
  {
   "cell_type": "code",
   "execution_count": 119,
   "id": "d13fd117",
   "metadata": {},
   "outputs": [],
   "source": [
    "b = np.zeros(4)"
   ]
  },
  {
   "cell_type": "code",
   "execution_count": 131,
   "id": "957655a3",
   "metadata": {},
   "outputs": [],
   "source": [
    "epochs =200\n",
    "alpha = 0.1"
   ]
  },
  {
   "cell_type": "code",
   "execution_count": 132,
   "id": "e4ee5021",
   "metadata": {},
   "outputs": [],
   "source": [
    "def cost_functions(x,y,b):\n",
    "    mse = (1/n) * np.sum(((x.dot(b)) - y) ** 2 )   #mse is laso a cost or loss or you can say Error\n",
    "    return mse"
   ]
  },
  {
   "cell_type": "code",
   "execution_count": 133,
   "id": "1229491a",
   "metadata": {},
   "outputs": [],
   "source": [
    "def gradient(x,y,b):\n",
    "    slope = 0\n",
    "    inter = 0\n",
    "    cost_history = []\n",
    "    for epoch in range(epochs):\n",
    "        y_pred = x.dot(b)\n",
    "        loss = y_pred - y\n",
    "        grad_b = (2/n) * loss.T.dot(x)\n",
    "        b = b - grad_b * alpha\n",
    "        err = cost_functions(x,y,b)\n",
    "        cost_history.append(err)\n",
    "        print(\"Epoch : {} Loss : {}\".format(epoch,err))\n",
    "    return b, cost_history\n"
   ]
  },
  {
   "cell_type": "code",
   "execution_count": 134,
   "id": "c46ca698",
   "metadata": {},
   "outputs": [
    {
     "name": "stdout",
     "output_type": "stream",
     "text": [
      "Epoch : 0 Loss : 0.05419966017077635\n",
      "Epoch : 1 Loss : 0.05048484866618658\n",
      "Epoch : 2 Loss : 0.04702467939061157\n",
      "Epoch : 3 Loss : 0.043801697174441344\n",
      "Epoch : 4 Loss : 0.04079964336188564\n",
      "Epoch : 5 Loss : 0.03800337379256044\n",
      "Epoch : 6 Loss : 0.035398782405257595\n",
      "Epoch : 7 Loss : 0.032972730078509815\n",
      "Epoch : 8 Loss : 0.03071297834897949\n",
      "Epoch : 9 Loss : 0.028608127673307695\n",
      "Epoch : 10 Loss : 0.02664755992197862\n",
      "Epoch : 11 Loss : 0.024821384815104416\n",
      "Epoch : 12 Loss : 0.02312039002992002\n",
      "Epoch : 13 Loss : 0.02153599472830058\n",
      "Epoch : 14 Loss : 0.020060206269866147\n",
      "Epoch : 15 Loss : 0.018685579892308707\n",
      "Epoch : 16 Loss : 0.017405181155544843\n",
      "Epoch : 17 Loss : 0.016212550960239918\n",
      "Epoch : 18 Loss : 0.015101672964236095\n",
      "Epoch : 19 Loss : 0.014066943232513202\n",
      "Epoch : 20 Loss : 0.013103141967578606\n",
      "Epoch : 21 Loss : 0.012205407177677222\n",
      "Epoch : 22 Loss : 0.011369210149988315\n",
      "Epoch : 23 Loss : 0.010590332605081201\n",
      "Epoch : 24 Loss : 0.00986484541738317\n",
      "Epoch : 25 Loss : 0.009189088794312964\n",
      "Epoch : 26 Loss : 0.008559653814091439\n",
      "Epoch : 27 Loss : 0.007973365229095032\n",
      "Epoch : 28 Loss : 0.007427265448001882\n",
      "Epoch : 29 Loss : 0.006918599615926891\n",
      "Epoch : 30 Loss : 0.006444801717281002\n",
      "Epoch : 31 Loss : 0.006003481631249182\n",
      "Epoch : 32 Loss : 0.005592413074587157\n",
      "Epoch : 33 Loss : 0.0052095223709131494\n",
      "Epoch : 34 Loss : 0.004852877989840175\n",
      "Epoch : 35 Loss : 0.0045206808031780215\n",
      "Epoch : 36 Loss : 0.0042112550090513245\n",
      "Epoch : 37 Loss : 0.003923039678149581\n",
      "Epoch : 38 Loss : 0.0036545808794632663\n",
      "Epoch : 39 Loss : 0.0034045243457836018\n",
      "Epoch : 40 Loss : 0.0031716086419663007\n",
      "Epoch : 41 Loss : 0.002954658801495945\n",
      "Epoch : 42 Loss : 0.002752580399250004\n",
      "Epoch : 43 Loss : 0.002564354030561957\n",
      "Epoch : 44 Loss : 0.002389030168732591\n",
      "Epoch : 45 Loss : 0.0022257243750477005\n",
      "Epoch : 46 Loss : 0.002073612837138622\n",
      "Epoch : 47 Loss : 0.0019319282131784327\n",
      "Epoch : 48 Loss : 0.0017999557609494304\n",
      "Epoch : 49 Loss : 0.0016770297322546048\n",
      "Epoch : 50 Loss : 0.0015625300144843422\n",
      "Epoch : 51 Loss : 0.001455879002396398\n",
      "Epoch : 52 Loss : 0.0013565386843285552\n",
      "Epoch : 53 Loss : 0.0012640079281450276\n",
      "Epoch : 54 Loss : 0.0011778199532253327\n",
      "Epoch : 55 Loss : 0.0010975399757428151\n",
      "Epoch : 56 Loss : 0.0010227630153541905\n",
      "Epoch : 57 Loss : 0.0009531118522357387\n",
      "Epoch : 58 Loss : 0.0008882351241602145\n",
      "Epoch : 59 Loss : 0.0008278055540149864\n",
      "Epoch : 60 Loss : 0.0007715182988199419\n",
      "Epoch : 61 Loss : 0.0007190894119166134\n",
      "Epoch : 62 Loss : 0.0006702544105708901\n",
      "Epoch : 63 Loss : 0.0006247669417634425\n",
      "Epoch : 64 Loss : 0.0005823975394372992\n",
      "Epoch : 65 Loss : 0.0005429324669333959\n",
      "Epoch : 66 Loss : 0.0005061726387746437\n",
      "Epoch : 67 Loss : 0.0004719326163593467\n",
      "Epoch : 68 Loss : 0.0004400396724976504\n",
      "Epoch : 69 Loss : 0.00041033292007197245\n",
      "Epoch : 70 Loss : 0.0003826625004258634\n",
      "Epoch : 71 Loss : 0.00035688882738704026\n",
      "Epoch : 72 Loss : 0.0003328818831109946\n",
      "Epoch : 73 Loss : 0.000310520562192986\n",
      "Epoch : 74 Loss : 0.0002896920607397254\n",
      "Epoch : 75 Loss : 0.00027029130731886597\n",
      "Epoch : 76 Loss : 0.000252220432915664\n",
      "Epoch : 77 Loss : 0.00023538827722295572\n",
      "Epoch : 78 Loss : 0.0002197099287738794\n",
      "Epoch : 79 Loss : 0.00020510629659749603\n",
      "Epoch : 80 Loss : 0.0001915037112364859\n",
      "Epoch : 81 Loss : 0.00017883355311420747\n",
      "Epoch : 82 Loss : 0.000167031906376391\n",
      "Epoch : 83 Loss : 0.00015603923646122098\n",
      "Epoch : 84 Loss : 0.0001458000897712943\n",
      "Epoch : 85 Loss : 0.0001362628139324048\n",
      "Epoch : 86 Loss : 0.00012737929722798347\n",
      "Epoch : 87 Loss : 0.00011910472589473458\n",
      "Epoch : 88 Loss : 0.00011139735805513031\n",
      "Epoch : 89 Loss : 0.00010421831314633877\n",
      "Epoch : 90 Loss : 9.753137578333988e-05\n",
      "Epoch : 91 Loss : 9.130281306679799e-05\n",
      "Epoch : 92 Loss : 8.550120441407952e-05\n",
      "Epoch : 93 Loss : 8.009728305498505e-05\n",
      "Epoch : 94 Loss : 7.506378839260319e-05\n",
      "Epoch : 95 Loss : 7.03753284845049e-05\n",
      "Epoch : 96 Loss : 6.600825195055408e-05\n",
      "Epoch : 97 Loss : 6.194052866115545e-05\n",
      "Epoch : 98 Loss : 5.8151638604066776e-05\n",
      "Epoch : 99 Loss : 5.462246836914526e-05\n",
      "Epoch : 100 Loss : 5.1335214728841494e-05\n",
      "Epoch : 101 Loss : 4.827329482803841e-05\n",
      "Epoch : 102 Loss : 4.542126253018221e-05\n",
      "Epoch : 103 Loss : 4.2764730497702854e-05\n",
      "Epoch : 104 Loss : 4.029029761365294e-05\n",
      "Epoch : 105 Loss : 3.798548137843318e-05\n",
      "Epoch : 106 Loss : 3.5838654940577105e-05\n",
      "Epoch : 107 Loss : 3.383898844393617e-05\n",
      "Epoch : 108 Loss : 3.197639439538905e-05\n",
      "Epoch : 109 Loss : 3.0241476777474388e-05\n",
      "Epoch : 110 Loss : 2.8625483649241944e-05\n",
      "Epoch : 111 Loss : 2.7120262996211842e-05\n",
      "Epoch : 112 Loss : 2.571822160672336e-05\n",
      "Epoch : 113 Loss : 2.441228676721981e-05\n",
      "Epoch : 114 Loss : 2.3195870583238604e-05\n",
      "Epoch : 115 Loss : 2.2062836746118733e-05\n",
      "Epoch : 116 Loss : 2.1007469577779415e-05\n",
      "Epoch : 117 Loss : 2.002444519741058e-05\n",
      "Epoch : 118 Loss : 1.9108804664624016e-05\n",
      "Epoch : 119 Loss : 1.8255928963583508e-05\n",
      "Epoch : 120 Loss : 1.74615157019175e-05\n",
      "Epoch : 121 Loss : 1.67215574068712e-05\n",
      "Epoch : 122 Loss : 1.6032321309209797e-05\n",
      "Epoch : 123 Loss : 1.5390330512891104e-05\n",
      "Epoch : 124 Loss : 1.4792346455516006e-05\n",
      "Epoch : 125 Loss : 1.4235352571076882e-05\n",
      "Epoch : 126 Loss : 1.371653907258911e-05\n",
      "Epoch : 127 Loss : 1.3233288777839656e-05\n",
      "Epoch : 128 Loss : 1.2783163906750051e-05\n",
      "Epoch : 129 Loss : 1.236389378375127e-05\n",
      "Epoch : 130 Loss : 1.1973363383133751e-05\n",
      "Epoch : 131 Loss : 1.1609602659589078e-05\n",
      "Epoch : 132 Loss : 1.1270776610119367e-05\n",
      "Epoch : 133 Loss : 1.0955176017181552e-05\n",
      "Epoch : 134 Loss : 1.0661208826368571e-05\n",
      "Epoch : 135 Loss : 1.0387392115131845e-05\n",
      "Epoch : 136 Loss : 1.0132344612030271e-05\n",
      "Epoch : 137 Loss : 9.894779728768567e-06\n",
      "Epoch : 138 Loss : 9.673499069874018e-06\n",
      "Epoch : 139 Loss : 9.467386387270616e-06\n",
      "Epoch : 140 Loss : 9.275401949254286e-06\n",
      "Epoch : 141 Loss : 9.096577295462364e-06\n",
      "Epoch : 142 Loss : 8.930010351378626e-06\n",
      "Epoch : 143 Loss : 8.77486087772805e-06\n",
      "Epoch : 144 Loss : 8.630346231806048e-06\n",
      "Epoch : 145 Loss : 8.495737419358989e-06\n",
      "Epoch : 146 Loss : 8.370355417099991e-06\n",
      "Epoch : 147 Loss : 8.253567747308046e-06\n",
      "Epoch : 148 Loss : 8.144785287230877e-06\n",
      "Epoch : 149 Loss : 8.043459297196458e-06\n",
      "Epoch : 150 Loss : 7.94907865244091e-06\n",
      "Epoch : 151 Loss : 7.861167264688451e-06\n",
      "Epoch : 152 Loss : 7.779281680476708e-06\n",
      "Epoch : 153 Loss : 7.703008844111194e-06\n",
      "Epoch : 154 Loss : 7.631964013964779e-06\n",
      "Epoch : 155 Loss : 7.565788821610026e-06\n",
      "Epoch : 156 Loss : 7.5041494639938545e-06\n",
      "Epoch : 157 Loss : 7.446735019534652e-06\n",
      "Epoch : 158 Loss : 7.3932558796473955e-06\n",
      "Epoch : 159 Loss : 7.343442287784068e-06\n",
      "Epoch : 160 Loss : 7.297042978619968e-06\n",
      "Epoch : 161 Loss : 7.2538239105205005e-06\n",
      "Epoch : 162 Loss : 7.213567084894871e-06\n",
      "Epoch : 163 Loss : 7.176069446480395e-06\n",
      "Epoch : 164 Loss : 7.141141859009936e-06\n",
      "Epoch : 165 Loss : 7.108608151095073e-06\n",
      "Epoch : 166 Loss : 7.07830422751199e-06\n",
      "Epoch : 167 Loss : 7.050077241406639e-06\n",
      "Epoch : 168 Loss : 7.0237848232436635e-06\n",
      "Epoch : 169 Loss : 6.999294362608866e-06\n",
      "Epoch : 170 Loss : 6.976482339242839e-06\n",
      "Epoch : 171 Loss : 6.955233699930683e-06\n",
      "Epoch : 172 Loss : 6.935441278104506e-06\n",
      "Epoch : 173 Loss : 6.917005253230982e-06\n",
      "Epoch : 174 Loss : 6.899832647256715e-06\n",
      "Epoch : 175 Loss : 6.883836855571186e-06\n",
      "Epoch : 176 Loss : 6.868937210121038e-06\n",
      "Epoch : 177 Loss : 6.855058572472164e-06\n",
      "Epoch : 178 Loss : 6.842130954766234e-06\n",
      "Epoch : 179 Loss : 6.8300891666600605e-06\n",
      "Epoch : 180 Loss : 6.818872486466349e-06\n",
      "Epoch : 181 Loss : 6.8084243548370235e-06\n",
      "Epoch : 182 Loss : 6.798692089444074e-06\n",
      "Epoch : 183 Loss : 6.789626619218145e-06\n",
      "Epoch : 184 Loss : 6.7811822368047574e-06\n",
      "Epoch : 185 Loss : 6.773316367988899e-06\n",
      "Epoch : 186 Loss : 6.765989356925168e-06\n",
      "Epoch : 187 Loss : 6.759164266089933e-06\n",
      "Epoch : 188 Loss : 6.752806689946232e-06\n",
      "Epoch : 189 Loss : 6.746884581381688e-06\n",
      "Epoch : 190 Loss : 6.741368090043579e-06\n",
      "Epoch : 191 Loss : 6.736229411755786e-06\n",
      "Epoch : 192 Loss : 6.731442648257863e-06\n",
      "Epoch : 193 Loss : 6.726983676558616e-06\n",
      "Epoch : 194 Loss : 6.722830027245333e-06\n",
      "Epoch : 195 Loss : 6.718960771134545e-06\n",
      "Epoch : 196 Loss : 6.715356413692671e-06\n",
      "Epoch : 197 Loss : 6.711998796693908e-06\n",
      "Epoch : 198 Loss : 6.708871006619254e-06\n",
      "Epoch : 199 Loss : 6.705957289334537e-06\n"
     ]
    }
   ],
   "source": [
    "b = np.zeros(4)\n",
    "new_b , cost = gradient(scaled_x,scaled_y.flatten(),b)"
   ]
  },
  {
   "cell_type": "code",
   "execution_count": 135,
   "id": "56b69924",
   "metadata": {},
   "outputs": [
    {
     "data": {
      "text/plain": [
       "[<matplotlib.lines.Line2D at 0x4cbd34a850>]"
      ]
     },
     "execution_count": 135,
     "metadata": {},
     "output_type": "execute_result"
    },
    {
     "data": {
      "image/png": "[encoded data removed]",
      "text/plain": [
       "<Figure size 432x288 with 1 Axes>"
      ]
     },
     "metadata": {
      "needs_background": "light"
     },
     "output_type": "display_data"
    }
   ],
   "source": [
    "plt.plot(list(range(epochs)),cost)"
   ]
  },
  {
   "cell_type": "code",
   "execution_count": null,
   "id": "8e123653",
   "metadata": {},
   "outputs": [],
   "source": []
  },
  {
   "cell_type": "code",
   "execution_count": null,
   "id": "417522c5",
   "metadata": {},
   "outputs": [],
   "source": []
  },
  {
   "cell_type": "code",
   "execution_count": null,
   "id": "51709d73",
   "metadata": {},
   "outputs": [],
   "source": []
  }
 ],
 "metadata": {
  "kernelspec": {
   "display_name": "Python 3",
   "language": "python",
   "name": "python3"
  },
  "language_info": {
   "codemirror_mode": {
    "name": "ipython",
    "version": 3
   },
   "file_extension": ".py",
   "mimetype": "text/x-python",
   "name": "python",
   "nbconvert_exporter": "python",
   "pygments_lexer": "ipython3",
   "version": "3.8.8"
  }
 },
 "nbformat": 4,
 "nbformat_minor": 5
}
