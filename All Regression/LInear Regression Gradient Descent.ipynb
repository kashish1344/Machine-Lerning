{
 "cells": [
  {
   "cell_type": "code",
   "execution_count": 1,
   "id": "e80c2250",
   "metadata": {},
   "outputs": [],
   "source": [
    "import pandas as pd\n",
    "import numpy as np\n",
    "import matplotlib.pyplot as plt"
   ]
  },
  {
   "cell_type": "code",
   "execution_count": 2,
   "id": "62e3b5b9",
   "metadata": {},
   "outputs": [],
   "source": [
    "df = pd.read_csv('brainead.csv')"
   ]
  },
  {
   "cell_type": "code",
   "execution_count": 3,
   "id": "1ab9538b",
   "metadata": {},
   "outputs": [],
   "source": [
    "x = df['Head Size(cm^3)'].values\n",
    "y = df['Brain Weight(grams)'].values"
   ]
  },
  {
   "cell_type": "code",
   "execution_count": 4,
   "id": "749fee46",
   "metadata": {},
   "outputs": [
    {
     "data": {
      "text/plain": [
       "array([3777, 4177, 3585, 3785, 3559], dtype=int64)"
      ]
     },
     "execution_count": 4,
     "metadata": {},
     "output_type": "execute_result"
    }
   ],
   "source": [
    "x[:5]"
   ]
  },
  {
   "cell_type": "code",
   "execution_count": 5,
   "id": "5a3ab442",
   "metadata": {},
   "outputs": [
    {
     "data": {
      "text/plain": [
       "array([1282, 1590, 1300, 1400, 1255], dtype=int64)"
      ]
     },
     "execution_count": 5,
     "metadata": {},
     "output_type": "execute_result"
    }
   ],
   "source": [
    "y[:5]"
   ]
  },
  {
   "cell_type": "code",
   "execution_count": 6,
   "id": "17b17348",
   "metadata": {},
   "outputs": [],
   "source": [
    "from sklearn.preprocessing import MinMaxScaler , StandardScaler"
   ]
  },
  {
   "cell_type": "code",
   "execution_count": 7,
   "id": "cead55af",
   "metadata": {},
   "outputs": [],
   "source": [
    "minmax = MinMaxScaler()\n",
    "x = minmax.fit_transform(x.reshape(-1,1))"
   ]
  },
  {
   "cell_type": "code",
   "execution_count": 8,
   "id": "316486cc",
   "metadata": {},
   "outputs": [],
   "source": [
    "y = minmax.fit_transform(y.reshape(-1,1))"
   ]
  },
  {
   "cell_type": "code",
   "execution_count": 9,
   "id": "cc15d02b",
   "metadata": {},
   "outputs": [
    {
     "data": {
      "text/plain": [
       "(array([[0.52146029],\n",
       "        [0.71879625],\n",
       "        [0.42673902],\n",
       "        [0.52540701],\n",
       "        [0.41391219]]),\n",
       " array([[0.48088235],\n",
       "        [0.93382353],\n",
       "        [0.50735294],\n",
       "        [0.65441176],\n",
       "        [0.44117647]]))"
      ]
     },
     "execution_count": 9,
     "metadata": {},
     "output_type": "execute_result"
    }
   ],
   "source": [
    "x[:5] , y[:5]"
   ]
  },
  {
   "cell_type": "code",
   "execution_count": 30,
   "id": "1e720379",
   "metadata": {},
   "outputs": [],
   "source": [
    "epochs = 500\n",
    "alpha = 0.2"
   ]
  },
  {
   "cell_type": "code",
   "execution_count": 31,
   "id": "b471d41b",
   "metadata": {},
   "outputs": [],
   "source": [
    "n= len(x)\n",
    "def cost_functions(x,y,slope,inter):\n",
    "    mse = (1/n) * np.sum(((slope * x + inter) - y) ** 2 )   #mse is laso a cost or loss or you can say Error\n",
    "    return mse"
   ]
  },
  {
   "cell_type": "code",
   "execution_count": 32,
   "id": "9e0536f4",
   "metadata": {},
   "outputs": [],
   "source": [
    "def gradient(x,y):\n",
    "    slope = 0\n",
    "    inter = 0\n",
    "    cost_history = []\n",
    "    for epoch in range(epochs):\n",
    "        y_pred = slope * x + inter\n",
    "        loss = y_pred - y\n",
    "        grad_slope = (2/n) * loss.T.dot(x)\n",
    "        grad_inter = (2/n) * np.sum(loss)\n",
    "        slope = slope - grad_slope * alpha\n",
    "        inter = inter - grad_inter * alpha\n",
    "        err = cost_functions(x,y,slope,inter)\n",
    "        cost_history.append(err)\n",
    "        print(\"Epoch : {} Loss : {}\".format(epoch,err))\n",
    "    return slope, inter, cost_history\n",
    "\n"
   ]
  },
  {
   "cell_type": "code",
   "execution_count": 33,
   "id": "a43ffe76",
   "metadata": {},
   "outputs": [
    {
     "name": "stdout",
     "output_type": "stream",
     "text": [
      "Epoch : 0 Loss : 0.08661507941426835\n",
      "Epoch : 1 Loss : 0.039542863738633915\n",
      "Epoch : 2 Loss : 0.02675684791941463\n",
      "Epoch : 3 Loss : 0.02316495664624351\n",
      "Epoch : 4 Loss : 0.0220410301530007\n",
      "Epoch : 5 Loss : 0.021582008229092977\n",
      "Epoch : 6 Loss : 0.021304499641481112\n",
      "Epoch : 7 Loss : 0.02107886009558082\n",
      "Epoch : 8 Loss : 0.020870270786832176\n",
      "Epoch : 9 Loss : 0.020669332864365803\n",
      "Epoch : 10 Loss : 0.02047346281581022\n",
      "Epoch : 11 Loss : 0.020281905355996836\n",
      "Epoch : 12 Loss : 0.020094396572982492\n",
      "Epoch : 13 Loss : 0.019910805548856565\n",
      "Epoch : 14 Loss : 0.019731038267372783\n",
      "Epoch : 15 Loss : 0.01955501182975118\n",
      "Epoch : 16 Loss : 0.0193826475175646\n",
      "Epoch : 17 Loss : 0.019213868908234084\n",
      "Epoch : 18 Loss : 0.01904860134542685\n",
      "Epoch : 19 Loss : 0.018886771773153038\n",
      "Epoch : 20 Loss : 0.018728308667852127\n",
      "Epoch : 21 Loss : 0.01857314199723379\n",
      "Epoch : 22 Loss : 0.018421203186767897\n",
      "Epoch : 23 Loss : 0.018272425088692593\n",
      "Epoch : 24 Loss : 0.018126741952155124\n",
      "Epoch : 25 Loss : 0.017984089394104657\n",
      "Epoch : 26 Loss : 0.01784440437082573\n",
      "Epoch : 27 Loss : 0.017707625150073177\n",
      "Epoch : 28 Loss : 0.017573691283789376\n",
      "Epoch : 29 Loss : 0.01744254358138957\n",
      "Epoch : 30 Loss : 0.01731412408360323\n",
      "Epoch : 31 Loss : 0.01718837603685955\n",
      "Epoch : 32 Loss : 0.017065243868205855\n",
      "Epoch : 33 Loss : 0.01694467316074774\n",
      "Epoch : 34 Loss : 0.01682661062960012\n",
      "Epoch : 35 Loss : 0.016711004098338585\n",
      "Epoch : 36 Loss : 0.016597802475940587\n",
      "Epoch : 37 Loss : 0.016486955734206346\n",
      "Epoch : 38 Loss : 0.01637841488564943\n",
      "Epoch : 39 Loss : 0.016272131961847305\n",
      "Epoch : 40 Loss : 0.016168059992242186\n",
      "Epoch : 41 Loss : 0.016066152983382955\n",
      "Epoch : 42 Loss : 0.015966365898598837\n",
      "Epoch : 43 Loss : 0.01586865463809597\n",
      "Epoch : 44 Loss : 0.015772976019467977\n",
      "Epoch : 45 Loss : 0.015679287758611975\n",
      "Epoch : 46 Loss : 0.015587548451041598\n",
      "Epoch : 47 Loss : 0.015497717553588738\n",
      "Epoch : 48 Loss : 0.01540975536648595\n",
      "Epoch : 49 Loss : 0.01532362301582156\n",
      "Epoch : 50 Loss : 0.015239282436359799\n",
      "Epoch : 51 Loss : 0.015156696354718276\n",
      "Epoch : 52 Loss : 0.01507582827289542\n",
      "Epoch : 53 Loss : 0.014996642452140614\n",
      "Epoch : 54 Loss : 0.014919103897159818\n",
      "Epoch : 55 Loss : 0.014843178340649823\n",
      "Epoch : 56 Loss : 0.014768832228154168\n",
      "Epoch : 57 Loss : 0.01469603270323414\n",
      "Epoch : 58 Loss : 0.01462474759294823\n",
      "Epoch : 59 Loss : 0.014554945393633641\n",
      "Epoch : 60 Loss : 0.014486595256983627\n",
      "Epoch : 61 Loss : 0.014419666976414409\n",
      "Epoch : 62 Loss : 0.014354130973715703\n",
      "Epoch : 63 Loss : 0.014289958285978972\n",
      "Epoch : 64 Loss : 0.014227120552797585\n",
      "Epoch : 65 Loss : 0.014165590003733249\n",
      "Epoch : 66 Loss : 0.014105339446043174\n",
      "Epoch : 67 Loss : 0.014046342252662549\n",
      "Epoch : 68 Loss : 0.013988572350436983\n",
      "Epoch : 69 Loss : 0.013932004208599797\n",
      "Epoch : 70 Loss : 0.01387661282748896\n",
      "Epoch : 71 Loss : 0.013822373727498775\n",
      "Epoch : 72 Loss : 0.013769262938261395\n",
      "Epoch : 73 Loss : 0.013717256988053372\n",
      "Epoch : 74 Loss : 0.013666332893422603\n",
      "Epoch : 75 Loss : 0.013616468149031032\n",
      "Epoch : 76 Loss : 0.013567640717708686\n",
      "Epoch : 77 Loss : 0.013519829020714583\n",
      "Epoch : 78 Loss : 0.013473011928200232\n",
      "Epoch : 79 Loss : 0.01342716874987156\n",
      "Epoch : 80 Loss : 0.01338227922584505\n",
      "Epoch : 81 Loss : 0.013338323517694105\n",
      "Epoch : 82 Loss : 0.013295282199681692\n",
      "Epoch : 83 Loss : 0.013253136250175341\n",
      "Epoch : 84 Loss : 0.013211867043240743\n",
      "Epoch : 85 Loss : 0.013171456340410236\n",
      "Epoch : 86 Loss : 0.013131886282622523\n",
      "Epoch : 87 Loss : 0.013093139382330024\n",
      "Epoch : 88 Loss : 0.013055198515770498\n",
      "Epoch : 89 Loss : 0.013018046915399335\n",
      "Epoch : 90 Loss : 0.012981668162479367\n",
      "Epoch : 91 Loss : 0.01294604617982478\n",
      "Epoch : 92 Loss : 0.012911165224695952\n",
      "Epoch : 93 Loss : 0.012877009881842162\n",
      "Epoch : 94 Loss : 0.01284356505668897\n",
      "Epoch : 95 Loss : 0.012810815968667347\n",
      "Epoch : 96 Loss : 0.01277874814468156\n",
      "Epoch : 97 Loss : 0.012747347412712945\n",
      "Epoch : 98 Loss : 0.012716599895556749\n",
      "Epoch : 99 Loss : 0.012686492004689262\n",
      "Epoch : 100 Loss : 0.01265701043426249\n",
      "Epoch : 101 Loss : 0.012628142155223817\n",
      "Epoch : 102 Loss : 0.01259987440955793\n",
      "Epoch : 103 Loss : 0.012572194704648588\n",
      "Epoch : 104 Loss : 0.012545090807757618\n",
      "Epoch : 105 Loss : 0.012518550740618807\n",
      "Epoch : 106 Loss : 0.01249256277414425\n",
      "Epoch : 107 Loss : 0.01246711542324078\n",
      "Epoch : 108 Loss : 0.012442197441734299\n",
      "Epoch : 109 Loss : 0.012417797817399615\n",
      "Epoch : 110 Loss : 0.012393905767093741\n",
      "Epoch : 111 Loss : 0.0123705107319904\n",
      "Epoch : 112 Loss : 0.012347602372913652\n",
      "Epoch : 113 Loss : 0.012325170565768628\n",
      "Epoch : 114 Loss : 0.012303205397067297\n",
      "Epoch : 115 Loss : 0.012281697159547297\n",
      "Epoch : 116 Loss : 0.012260636347881928\n",
      "Epoch : 117 Loss : 0.012240013654479383\n",
      "Epoch : 118 Loss : 0.012219819965369352\n",
      "Epoch : 119 Loss : 0.01220004635617521\n",
      "Epoch : 120 Loss : 0.012180684088169974\n",
      "Epoch : 121 Loss : 0.012161724604414347\n",
      "Epoch : 122 Loss : 0.012143159525975056\n",
      "Epoch : 123 Loss : 0.012124980648221862\n",
      "Epoch : 124 Loss : 0.01210717993720164\n",
      "Epoch : 125 Loss : 0.012089749526087861\n",
      "Epoch : 126 Loss : 0.012072681711703913\n",
      "Epoch : 127 Loss : 0.012055968951118786\n",
      "Epoch : 128 Loss : 0.012039603858313557\n",
      "Epoch : 129 Loss : 0.012023579200917215\n",
      "Epoch : 130 Loss : 0.012007887897010395\n",
      "Epoch : 131 Loss : 0.011992523011995604\n",
      "Epoch : 132 Loss : 0.01197747775553256\n",
      "Epoch : 133 Loss : 0.011962745478537262\n",
      "Epoch : 134 Loss : 0.011948319670243507\n",
      "Epoch : 135 Loss : 0.011934193955325547\n",
      "Epoch : 136 Loss : 0.011920362091080541\n",
      "Epoch : 137 Loss : 0.011906817964669717\n",
      "Epoch : 138 Loss : 0.011893555590416828\n",
      "Epoch : 139 Loss : 0.011880569107162866\n",
      "Epoch : 140 Loss : 0.011867852775675787\n",
      "Epoch : 141 Loss : 0.011855400976114122\n",
      "Epoch : 142 Loss : 0.011843208205543345\n",
      "Epoch : 143 Loss : 0.011831269075503916\n",
      "Epoch : 144 Loss : 0.011819578309629918\n",
      "Epoch : 145 Loss : 0.011808130741317209\n",
      "Epoch : 146 Loss : 0.011796921311440113\n",
      "Epoch : 147 Loss : 0.011785945066115586\n",
      "Epoch : 148 Loss : 0.011775197154513917\n",
      "Epoch : 149 Loss : 0.011764672826714938\n",
      "Epoch : 150 Loss : 0.011754367431608865\n",
      "Epoch : 151 Loss : 0.011744276414840781\n",
      "Epoch : 152 Loss : 0.011734395316797904\n",
      "Epoch : 153 Loss : 0.011724719770638693\n",
      "Epoch : 154 Loss : 0.011715245500362978\n",
      "Epoch : 155 Loss : 0.011705968318922236\n",
      "Epoch : 156 Loss : 0.011696884126369165\n",
      "Epoch : 157 Loss : 0.011687988908045753\n",
      "Epoch : 158 Loss : 0.011679278732809058\n",
      "Epoch : 159 Loss : 0.011670749751293868\n",
      "Epoch : 160 Loss : 0.01166239819421153\n",
      "Epoch : 161 Loss : 0.011654220370684141\n",
      "Epoch : 162 Loss : 0.01164621266661342\n",
      "Epoch : 163 Loss : 0.01163837154308349\n",
      "Epoch : 164 Loss : 0.011630693534796885\n",
      "Epoch : 165 Loss : 0.011623175248543125\n",
      "Epoch : 166 Loss : 0.011615813361699095\n",
      "Epoch : 167 Loss : 0.011608604620760665\n",
      "Epoch : 168 Loss : 0.01160154583990484\n",
      "Epoch : 169 Loss : 0.011594633899581824\n",
      "Epoch : 170 Loss : 0.011587865745136344\n",
      "Epoch : 171 Loss : 0.011581238385457717\n",
      "Epoch : 172 Loss : 0.011574748891657941\n",
      "Epoch : 173 Loss : 0.011568394395777304\n",
      "Epoch : 174 Loss : 0.011562172089516924\n",
      "Epoch : 175 Loss : 0.011556079222997652\n",
      "Epoch : 176 Loss : 0.011550113103544804\n",
      "Epoch : 177 Loss : 0.011544271094498142\n",
      "Epoch : 178 Loss : 0.011538550614046655\n",
      "Epoch : 179 Loss : 0.011532949134087539\n",
      "Epoch : 180 Loss : 0.01152746417910894\n",
      "Epoch : 181 Loss : 0.011522093325095918\n",
      "Epoch : 182 Loss : 0.011516834198459195\n",
      "Epoch : 183 Loss : 0.011511684474986161\n",
      "Epoch : 184 Loss : 0.011506641878813718\n",
      "Epoch : 185 Loss : 0.011501704181422498\n",
      "Epoch : 186 Loss : 0.011496869200651972\n",
      "Epoch : 187 Loss : 0.011492134799736091\n",
      "Epoch : 188 Loss : 0.011487498886358949\n",
      "Epoch : 189 Loss : 0.011482959411730114\n",
      "Epoch : 190 Loss : 0.011478514369679196\n",
      "Epoch : 191 Loss : 0.011474161795769221\n",
      "Epoch : 192 Loss : 0.011469899766428496\n",
      "Epoch : 193 Loss : 0.011465726398100486\n",
      "Epoch : 194 Loss : 0.011461639846411409\n",
      "Epoch : 195 Loss : 0.011457638305355131\n",
      "Epoch : 196 Loss : 0.011453720006495029\n",
      "Epoch : 197 Loss : 0.01144988321818243\n",
      "Epoch : 198 Loss : 0.01144612624479136\n",
      "Epoch : 199 Loss : 0.011442447425969149\n",
      "Epoch : 200 Loss : 0.011438845135902681\n",
      "Epoch : 201 Loss : 0.011435317782599864\n",
      "Epoch : 202 Loss : 0.011431863807186082\n",
      "Epoch : 203 Loss : 0.011428481683215266\n",
      "Epoch : 204 Loss : 0.011425169915995282\n",
      "Epoch : 205 Loss : 0.011421927041927394\n",
      "Epoch : 206 Loss : 0.011418751627859424\n",
      "Epoch : 207 Loss : 0.011415642270452388\n",
      "Epoch : 208 Loss : 0.011412597595560315\n",
      "Epoch : 209 Loss : 0.011409616257622948\n",
      "Epoch : 210 Loss : 0.011406696939071101\n",
      "Epoch : 211 Loss : 0.011403838349744365\n",
      "Epoch : 212 Loss : 0.011401039226320926\n",
      "Epoch : 213 Loss : 0.011398298331759281\n",
      "Epoch : 214 Loss : 0.011395614454751521\n",
      "Epoch : 215 Loss : 0.011392986409188002\n",
      "Epoch : 216 Loss : 0.011390413033633185\n",
      "Epoch : 217 Loss : 0.011387893190812313\n",
      "Epoch : 218 Loss : 0.011385425767108848\n",
      "Epoch : 219 Loss : 0.011383009672072281\n",
      "Epoch : 220 Loss : 0.011380643837936246\n",
      "Epoch : 221 Loss : 0.011378327219146622\n",
      "Epoch : 222 Loss : 0.011376058791899462\n",
      "Epoch : 223 Loss : 0.011373837553688542\n",
      "Epoch : 224 Loss : 0.0113716625228623\n",
      "Epoch : 225 Loss : 0.011369532738190021\n",
      "Epoch : 226 Loss : 0.011367447258437021\n",
      "Epoch : 227 Loss : 0.011365405161948684\n",
      "Epoch : 228 Loss : 0.011363405546243151\n",
      "Epoch : 229 Loss : 0.01136144752761247\n",
      "Epoch : 230 Loss : 0.01135953024073205\n",
      "Epoch : 231 Loss : 0.011357652838278245\n",
      "Epoch : 232 Loss : 0.011355814490553895\n",
      "Epoch : 233 Loss : 0.011354014385121637\n",
      "Epoch : 234 Loss : 0.011352251726444874\n",
      "Epoch : 235 Loss : 0.011350525735536176\n",
      "Epoch : 236 Loss : 0.01134883564961303\n",
      "Epoch : 237 Loss : 0.011347180721760731\n",
      "Epoch : 238 Loss : 0.0113455602206023\n",
      "Epoch : 239 Loss : 0.011343973429975241\n",
      "Epoch : 240 Loss : 0.011342419648615066\n",
      "Epoch : 241 Loss : 0.011340898189845355\n",
      "Epoch : 242 Loss : 0.011339408381274303\n",
      "Epoch : 243 Loss : 0.01133794956449756\n",
      "Epoch : 244 Loss : 0.011336521094807251\n",
      "Epoch : 245 Loss : 0.011335122340907064\n",
      "Epoch : 246 Loss : 0.011333752684633247\n",
      "Epoch : 247 Loss : 0.011332411520681419\n",
      "Epoch : 248 Loss : 0.011331098256339068\n",
      "Epoch : 249 Loss : 0.011329812311223599\n",
      "Epoch : 250 Loss : 0.01132855311702586\n",
      "Epoch : 251 Loss : 0.011327320117258954\n",
      "Epoch : 252 Loss : 0.011326112767012328\n",
      "Epoch : 253 Loss : 0.011324930532710952\n",
      "Epoch : 254 Loss : 0.011323772891879504\n",
      "Epoch : 255 Loss : 0.011322639332911475\n",
      "Epoch : 256 Loss : 0.011321529354843072\n",
      "Epoch : 257 Loss : 0.011320442467131812\n",
      "Epoch : 258 Loss : 0.01131937818943974\n",
      "Epoch : 259 Loss : 0.011318336051421159\n",
      "Epoch : 260 Loss : 0.011317315592514738\n",
      "Epoch : 261 Loss : 0.01131631636174\n",
      "Epoch : 262 Loss : 0.011315337917498\n",
      "Epoch : 263 Loss : 0.01131437982737617\n",
      "Epoch : 264 Loss : 0.01131344166795723\n",
      "Epoch : 265 Loss : 0.011312523024632037\n",
      "Epoch : 266 Loss : 0.011311623491416374\n",
      "Epoch : 267 Loss : 0.011310742670771532\n",
      "Epoch : 268 Loss : 0.011309880173428608\n",
      "Epoch : 269 Loss : 0.01130903561821648\n",
      "Epoch : 270 Loss : 0.011308208631893352\n",
      "Epoch : 271 Loss : 0.011307398848981805\n",
      "Epoch : 272 Loss : 0.01130660591160727\n",
      "Epoch : 273 Loss : 0.011305829469339885\n",
      "Epoch : 274 Loss : 0.01130506917903961\n",
      "Epoch : 275 Loss : 0.011304324704704593\n",
      "Epoch : 276 Loss : 0.011303595717322671\n",
      "Epoch : 277 Loss : 0.011302881894725964\n",
      "Epoch : 278 Loss : 0.011302182921448505\n",
      "Epoch : 279 Loss : 0.011301498488586819\n",
      "Epoch : 280 Loss : 0.011300828293663401\n",
      "Epoch : 281 Loss : 0.011300172040493045\n",
      "Epoch : 282 Loss : 0.011299529439051957\n",
      "Epoch : 283 Loss : 0.011298900205349566\n",
      "Epoch : 284 Loss : 0.011298284061303024\n",
      "Epoch : 285 Loss : 0.01129768073461431\n",
      "Epoch : 286 Loss : 0.011297089958649899\n",
      "Epoch : 287 Loss : 0.011296511472322912\n",
      "Epoch : 288 Loss : 0.011295945019977745\n",
      "Epoch : 289 Loss : 0.01129539035127707\n",
      "Epoch : 290 Loss : 0.011294847221091218\n",
      "Epoch : 291 Loss : 0.011294315389389839\n",
      "Epoch : 292 Loss : 0.01129379462113581\n",
      "Epoch : 293 Loss : 0.011293284686181395\n",
      "Epoch : 294 Loss : 0.011292785359166498\n",
      "Epoch : 295 Loss : 0.011292296419419092\n",
      "Epoch : 296 Loss : 0.011291817650857685\n",
      "Epoch : 297 Loss : 0.01129134884189583\n",
      "Epoch : 298 Loss : 0.011290889785348614\n",
      "Epoch : 299 Loss : 0.011290440278341092\n",
      "Epoch : 300 Loss : 0.011290000122218632\n",
      "Epoch : 301 Loss : 0.011289569122459134\n",
      "Epoch : 302 Loss : 0.011289147088587031\n",
      "Epoch : 303 Loss : 0.011288733834089142\n",
      "Epoch : 304 Loss : 0.011288329176332238\n",
      "Epoch : 305 Loss : 0.011287932936482307\n",
      "Epoch : 306 Loss : 0.011287544939425555\n",
      "Epoch : 307 Loss : 0.011287165013690993\n",
      "Epoch : 308 Loss : 0.011286792991374658\n",
      "Epoch : 309 Loss : 0.011286428708065422\n",
      "Epoch : 310 Loss : 0.01128607200277232\n",
      "Epoch : 311 Loss : 0.011285722717853414\n",
      "Epoch : 312 Loss : 0.011285380698946103\n",
      "Epoch : 313 Loss : 0.01128504579489894\n",
      "Epoch : 314 Loss : 0.011284717857704797\n",
      "Epoch : 315 Loss : 0.011284396742435473\n",
      "Epoch : 316 Loss : 0.011284082307177642\n",
      "Epoch : 317 Loss : 0.011283774412970132\n",
      "Epoch : 318 Loss : 0.011283472923742517\n",
      "Epoch : 319 Loss : 0.011283177706254987\n",
      "Epoch : 320 Loss : 0.011282888630039449\n",
      "Epoch : 321 Loss : 0.011282605567341878\n",
      "Epoch : 322 Loss : 0.011282328393065857\n",
      "Epoch : 323 Loss : 0.011282056984717298\n",
      "Epoch : 324 Loss : 0.011281791222350292\n",
      "Epoch : 325 Loss : 0.011281530988514116\n",
      "Epoch : 326 Loss : 0.011281276168201314\n",
      "Epoch : 327 Loss : 0.011281026648796879\n",
      "Epoch : 328 Loss : 0.011280782320028479\n",
      "Epoch : 329 Loss : 0.011280543073917737\n",
      "Epoch : 330 Loss : 0.011280308804732483\n",
      "Epoch : 331 Loss : 0.011280079408940052\n",
      "Epoch : 332 Loss : 0.011279854785161525\n",
      "Epoch : 333 Loss : 0.011279634834126917\n",
      "Epoch : 334 Loss : 0.011279419458631312\n",
      "Epoch : 335 Loss : 0.011279208563491901\n",
      "Epoch : 336 Loss : 0.011279002055505919\n",
      "Epoch : 337 Loss : 0.011278799843409456\n",
      "Epoch : 338 Loss : 0.011278601837837118\n",
      "Epoch : 339 Loss : 0.011278407951282547\n",
      "Epoch : 340 Loss : 0.01127821809805973\n",
      "Epoch : 341 Loss : 0.011278032194265144\n",
      "Epoch : 342 Loss : 0.011277850157740675\n",
      "Epoch : 343 Loss : 0.011277671908037296\n",
      "Epoch : 344 Loss : 0.011277497366379539\n",
      "Epoch : 345 Loss : 0.011277326455630645\n",
      "Epoch : 346 Loss : 0.01127715910025852\n",
      "Epoch : 347 Loss : 0.011276995226302308\n",
      "Epoch : 348 Loss : 0.011276834761339736\n",
      "Epoch : 349 Loss : 0.011276677634455093\n",
      "Epoch : 350 Loss : 0.011276523776207907\n",
      "Epoch : 351 Loss : 0.011276373118602223\n",
      "Epoch : 352 Loss : 0.011276225595056592\n",
      "Epoch : 353 Loss : 0.011276081140374615\n",
      "Epoch : 354 Loss : 0.011275939690716157\n",
      "Epoch : 355 Loss : 0.01127580118356911\n",
      "Epoch : 356 Loss : 0.01127566555772178\n",
      "Epoch : 357 Loss : 0.011275532753235824\n",
      "Epoch : 358 Loss : 0.011275402711419781\n",
      "Epoch : 359 Loss : 0.011275275374803112\n",
      "Epoch : 360 Loss : 0.011275150687110814\n",
      "Epoch : 361 Loss : 0.011275028593238546\n",
      "Epoch : 362 Loss : 0.011274909039228277\n",
      "Epoch : 363 Loss : 0.01127479197224444\n",
      "Epoch : 364 Loss : 0.011274677340550583\n",
      "Epoch : 365 Loss : 0.011274565093486498\n",
      "Epoch : 366 Loss : 0.011274455181445845\n",
      "Epoch : 367 Loss : 0.011274347555854217\n",
      "Epoch : 368 Loss : 0.011274242169147684\n",
      "Epoch : 369 Loss : 0.011274138974751755\n",
      "Epoch : 370 Loss : 0.011274037927060814\n",
      "Epoch : 371 Loss : 0.01127393898141796\n",
      "Epoch : 372 Loss : 0.011273842094095259\n",
      "Epoch : 373 Loss : 0.011273747222274439\n",
      "Epoch : 374 Loss : 0.011273654324027957\n",
      "Epoch : 375 Loss : 0.011273563358300452\n",
      "Epoch : 376 Loss : 0.011273474284890643\n",
      "Epoch : 377 Loss : 0.011273387064433519\n",
      "Epoch : 378 Loss : 0.01127330165838297\n",
      "Epoch : 379 Loss : 0.011273218028994744\n",
      "Epoch : 380 Loss : 0.011273136139309749\n",
      "Epoch : 381 Loss : 0.011273055953137769\n",
      "Epoch : 382 Loss : 0.011272977435041399\n",
      "Epoch : 383 Loss : 0.011272900550320441\n",
      "Epoch : 384 Loss : 0.011272825264996547\n",
      "Epoch : 385 Loss : 0.011272751545798213\n",
      "Epoch : 386 Loss : 0.011272679360146049\n",
      "Epoch : 387 Loss : 0.011272608676138406\n",
      "Epoch : 388 Loss : 0.011272539462537281\n",
      "Epoch : 389 Loss : 0.011272471688754481\n",
      "Epoch : 390 Loss : 0.011272405324838147\n",
      "Epoch : 391 Loss : 0.011272340341459474\n",
      "Epoch : 392 Loss : 0.011272276709899779\n",
      "Epoch : 393 Loss : 0.01127221440203781\n",
      "Epoch : 394 Loss : 0.01127215339033729\n",
      "Epoch : 395 Loss : 0.011272093647834781\n",
      "Epoch : 396 Loss : 0.011272035148127748\n",
      "Epoch : 397 Loss : 0.011271977865362891\n",
      "Epoch : 398 Loss : 0.01127192177422473\n",
      "Epoch : 399 Loss : 0.01127186684992441\n",
      "Epoch : 400 Loss : 0.011271813068188748\n",
      "Epoch : 401 Loss : 0.011271760405249501\n",
      "Epoch : 402 Loss : 0.011271708837832867\n",
      "Epoch : 403 Loss : 0.011271658343149204\n",
      "Epoch : 404 Loss : 0.011271608898882941\n",
      "Epoch : 405 Loss : 0.011271560483182735\n",
      "Epoch : 406 Loss : 0.01127151307465181\n",
      "Epoch : 407 Loss : 0.011271466652338484\n",
      "Epoch : 408 Loss : 0.01127142119572694\n",
      "Epoch : 409 Loss : 0.011271376684728128\n",
      "Epoch : 410 Loss : 0.011271333099670907\n",
      "Epoch : 411 Loss : 0.011271290421293347\n",
      "Epoch : 412 Loss : 0.01127124863073421\n",
      "Epoch : 413 Loss : 0.011271207709524627\n",
      "Epoch : 414 Loss : 0.011271167639579919\n",
      "Epoch : 415 Loss : 0.011271128403191619\n",
      "Epoch : 416 Loss : 0.011271089983019646\n",
      "Epoch : 417 Loss : 0.011271052362084632\n",
      "Epoch : 418 Loss : 0.011271015523760416\n",
      "Epoch : 419 Loss : 0.011270979451766711\n",
      "Epoch : 420 Loss : 0.011270944130161907\n",
      "Epoch : 421 Loss : 0.011270909543336004\n",
      "Epoch : 422 Loss : 0.011270875676003744\n",
      "Epoch : 423 Loss : 0.011270842513197835\n",
      "Epoch : 424 Loss : 0.011270810040262341\n",
      "Epoch : 425 Loss : 0.01127077824284621\n",
      "Epoch : 426 Loss : 0.011270747106896932\n",
      "Epoch : 427 Loss : 0.01127071661865431\n",
      "Epoch : 428 Loss : 0.011270686764644412\n",
      "Epoch : 429 Loss : 0.011270657531673585\n",
      "Epoch : 430 Loss : 0.011270628906822646\n",
      "Epoch : 431 Loss : 0.01127060087744116\n",
      "Epoch : 432 Loss : 0.011270573431141847\n",
      "Epoch : 433 Loss : 0.011270546555795128\n",
      "Epoch : 434 Loss : 0.011270520239523739\n",
      "Epoch : 435 Loss : 0.011270494470697494\n",
      "Epoch : 436 Loss : 0.011270469237928146\n",
      "Epoch : 437 Loss : 0.011270444530064355\n",
      "Epoch : 438 Loss : 0.011270420336186759\n",
      "Epoch : 439 Loss : 0.011270396645603132\n",
      "Epoch : 440 Loss : 0.011270373447843695\n",
      "Epoch : 441 Loss : 0.01127035073265645\n",
      "Epoch : 442 Loss : 0.011270328490002668\n",
      "Epoch : 443 Loss : 0.011270306710052467\n",
      "Epoch : 444 Loss : 0.01127028538318043\n",
      "Epoch : 445 Loss : 0.011270264499961383\n",
      "Epoch : 446 Loss : 0.011270244051166228\n",
      "Epoch : 447 Loss : 0.011270224027757838\n",
      "Epoch : 448 Loss : 0.011270204420887093\n",
      "Epoch : 449 Loss : 0.011270185221888957\n",
      "Epoch : 450 Loss : 0.011270166422278644\n",
      "Epoch : 451 Loss : 0.011270148013747868\n",
      "Epoch : 452 Loss : 0.011270129988161197\n",
      "Epoch : 453 Loss : 0.011270112337552412\n",
      "Epoch : 454 Loss : 0.011270095054121028\n",
      "Epoch : 455 Loss : 0.011270078130228825\n",
      "Epoch : 456 Loss : 0.01127006155839647\n",
      "Epoch : 457 Loss : 0.011270045331300233\n",
      "Epoch : 458 Loss : 0.011270029441768728\n",
      "Epoch : 459 Loss : 0.011270013882779751\n",
      "Epoch : 460 Loss : 0.011269998647457178\n",
      "Epoch : 461 Loss : 0.01126998372906793\n",
      "Epoch : 462 Loss : 0.011269969121018991\n",
      "Epoch : 463 Loss : 0.011269954816854494\n",
      "Epoch : 464 Loss : 0.011269940810252874\n",
      "Epoch : 465 Loss : 0.011269927095024068\n",
      "Epoch : 466 Loss : 0.011269913665106787\n",
      "Epoch : 467 Loss : 0.011269900514565822\n",
      "Epoch : 468 Loss : 0.01126988763758944\n",
      "Epoch : 469 Loss : 0.011269875028486804\n",
      "Epoch : 470 Loss : 0.011269862681685462\n",
      "Epoch : 471 Loss : 0.011269850591728883\n",
      "Epoch : 472 Loss : 0.011269838753274043\n",
      "Epoch : 473 Loss : 0.011269827161089067\n",
      "Epoch : 474 Loss : 0.011269815810050921\n",
      "Epoch : 475 Loss : 0.011269804695143135\n",
      "Epoch : 476 Loss : 0.011269793811453608\n",
      "Epoch : 477 Loss : 0.011269783154172411\n",
      "Epoch : 478 Loss : 0.011269772718589668\n",
      "Epoch : 479 Loss : 0.011269762500093497\n",
      "Epoch : 480 Loss : 0.011269752494167947\n",
      "Epoch : 481 Loss : 0.011269742696391012\n",
      "Epoch : 482 Loss : 0.011269733102432667\n",
      "Epoch : 483 Loss : 0.011269723708052974\n",
      "Epoch : 484 Loss : 0.011269714509100186\n",
      "Epoch : 485 Loss : 0.011269705501508933\n",
      "Epoch : 486 Loss : 0.011269696681298411\n",
      "Epoch : 487 Loss : 0.011269688044570621\n",
      "Epoch : 488 Loss : 0.011269679587508658\n",
      "Epoch : 489 Loss : 0.011269671306375023\n",
      "Epoch : 490 Loss : 0.011269663197509956\n",
      "Epoch : 491 Loss : 0.011269655257329833\n",
      "Epoch : 492 Loss : 0.011269647482325583\n",
      "Epoch : 493 Loss : 0.011269639869061127\n",
      "Epoch : 494 Loss : 0.011269632414171865\n",
      "Epoch : 495 Loss : 0.0112696251143632\n",
      "Epoch : 496 Loss : 0.011269617966409054\n",
      "Epoch : 497 Loss : 0.011269610967150468\n",
      "Epoch : 498 Loss : 0.011269604113494208\n",
      "Epoch : 499 Loss : 0.011269597402411366\n"
     ]
    }
   ],
   "source": [
    "slope , inter, errors = gradient(x,y)"
   ]
  },
  {
   "cell_type": "code",
   "execution_count": 34,
   "id": "c93e08da",
   "metadata": {},
   "outputs": [
    {
     "data": {
      "text/plain": [
       "[<matplotlib.lines.Line2D at 0x931b41e0a0>]"
      ]
     },
     "execution_count": 34,
     "metadata": {},
     "output_type": "execute_result"
    },
    {
     "data": {
      "image/png": "[encoded data removed]",
      "text/plain": [
       "<Figure size 432x288 with 1 Axes>"
      ]
     },
     "metadata": {
      "needs_background": "light"
     },
     "output_type": "display_data"
    }
   ],
   "source": [
    "plt.plot(list(range(epochs)),errors)"
   ]
  },
  {
   "cell_type": "code",
   "execution_count": 35,
   "id": "80b0c69e",
   "metadata": {},
   "outputs": [
    {
     "data": {
      "text/plain": [
       "array([[0.7879091]])"
      ]
     },
     "execution_count": 35,
     "metadata": {},
     "output_type": "execute_result"
    }
   ],
   "source": [
    "slope"
   ]
  },
  {
   "cell_type": "code",
   "execution_count": 36,
   "id": "ca08b6dd",
   "metadata": {},
   "outputs": [
    {
     "data": {
      "text/plain": [
       "0.12763317276117495"
      ]
     },
     "execution_count": 36,
     "metadata": {},
     "output_type": "execute_result"
    }
   ],
   "source": [
    "inter"
   ]
  },
  {
   "cell_type": "code",
   "execution_count": 37,
   "id": "84f0981b",
   "metadata": {},
   "outputs": [],
   "source": [
    "predictions = []\n",
    "for i in range(len(x)):\n",
    "    y_pred = slope * x[i] + inter\n",
    "    predictions.append(y_pred[0][0])\n"
   ]
  },
  {
   "cell_type": "code",
   "execution_count": 38,
   "id": "fefe2645",
   "metadata": {},
   "outputs": [
    {
     "data": {
      "image/png": "[encoded data removed]",
      "text/plain": [
       "<Figure size 720x432 with 1 Axes>"
      ]
     },
     "metadata": {
      "needs_background": "light"
     },
     "output_type": "display_data"
    }
   ],
   "source": [
    "plt.figure(figsize=(10,6))\n",
    "plt.scatter(x,y)\n",
    "plt.plot(x,predictions,'r')\n",
    "plt.xlabel(\"Head Size\")\n",
    "plt.ylabel(\"Brain Weight\")\n",
    "plt.show()"
   ]
  },
  {
   "cell_type": "code",
   "execution_count": 39,
   "id": "32e0e4ef",
   "metadata": {},
   "outputs": [
    {
     "data": {
      "text/plain": [
       "0.011269597402411366"
      ]
     },
     "execution_count": 39,
     "metadata": {},
     "output_type": "execute_result"
    }
   ],
   "source": [
    "cost_functions(x,y,slope,inter)"
   ]
  },
  {
   "cell_type": "code",
   "execution_count": 40,
   "id": "1e8bc9ea",
   "metadata": {},
   "outputs": [
    {
     "data": {
      "text/plain": [
       "array([[0.7879091]])"
      ]
     },
     "execution_count": 40,
     "metadata": {},
     "output_type": "execute_result"
    }
   ],
   "source": [
    "slope"
   ]
  },
  {
   "cell_type": "code",
   "execution_count": 41,
   "id": "5071660b",
   "metadata": {},
   "outputs": [
    {
     "data": {
      "text/plain": [
       "0.12763317276117495"
      ]
     },
     "execution_count": 41,
     "metadata": {},
     "output_type": "execute_result"
    }
   ],
   "source": [
    "inter"
   ]
  },
  {
   "cell_type": "code",
   "execution_count": 44,
   "id": "8b3a0794",
   "metadata": {},
   "outputs": [
    {
     "data": {
      "text/plain": [
       "0.011269597402411366"
      ]
     },
     "execution_count": 44,
     "metadata": {},
     "output_type": "execute_result"
    }
   ],
   "source": [
    "cost_functions(x,y,slope,inter)"
   ]
  },
  {
   "cell_type": "code",
   "execution_count": null,
   "id": "bf47fe4e",
   "metadata": {},
   "outputs": [],
   "source": []
  }
 ],
 "metadata": {
  "kernelspec": {
   "display_name": "Python 3",
   "language": "python",
   "name": "python3"
  },
  "language_info": {
   "codemirror_mode": {
    "name": "ipython",
    "version": 3
   },
   "file_extension": ".py",
   "mimetype": "text/x-python",
   "name": "python",
   "nbconvert_exporter": "python",
   "pygments_lexer": "ipython3",
   "version": "3.8.8"
  }
 },
 "nbformat": 4,
 "nbformat_minor": 5
}
