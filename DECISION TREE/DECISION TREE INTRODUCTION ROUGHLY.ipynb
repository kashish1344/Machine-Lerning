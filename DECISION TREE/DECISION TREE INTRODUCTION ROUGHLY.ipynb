{
 "cells": [
  {
   "cell_type": "code",
   "execution_count": 1,
   "id": "ac1de017",
   "metadata": {},
   "outputs": [],
   "source": [
    "import numpy as np\n",
    "import pandas as pd"
   ]
  },
  {
   "cell_type": "code",
   "execution_count": 2,
   "id": "a7ca48fd",
   "metadata": {},
   "outputs": [],
   "source": [
    "data = {\n",
    "    \"outlook\" : ['sunny','sunny','overcast','rainy','rainy','rainy','overcast','sunny','sunny','rainy','sunny','overcast','overcast','rainy'],\n",
    "    \"temp\" : ['hot','hot','hot','mild','cool','cool','cool','mild','cool','mild','mild','mild','hot','mild'],\n",
    "    'humidity' : ['high','high','high','high','normal','normal','normal','high','normal','normal','normal','high','normal','high'],\n",
    "    'windy' : ['false','true','false','false','false','true','true','false','false','false','true','true','false','true'],\n",
    "    'play' : ['no','no','yes','yes','yes','no','yes','no','yes','yes','yes','yes','yes','no']\n",
    "}"
   ]
  },
  {
   "cell_type": "code",
   "execution_count": 3,
   "id": "e6ae475e",
   "metadata": {},
   "outputs": [],
   "source": [
    "df = pd.DataFrame(data)"
   ]
  },
  {
   "cell_type": "code",
   "execution_count": 4,
   "id": "6f13587d",
   "metadata": {},
   "outputs": [
    {
     "data": {
      "text/html": [
       "<div>\n",
       "<style scoped>\n",
       "    .dataframe tbody tr th:only-of-type {\n",
       "        vertical-align: middle;\n",
       "    }\n",
       "\n",
       "    .dataframe tbody tr th {\n",
       "        vertical-align: top;\n",
       "    }\n",
       "\n",
       "    .dataframe thead th {\n",
       "        text-align: right;\n",
       "    }\n",
       "</style>\n",
       "<table border=\"1\" class=\"dataframe\">\n",
       "  <thead>\n",
       "    <tr style=\"text-align: right;\">\n",
       "      <th></th>\n",
       "      <th>outlook</th>\n",
       "      <th>temp</th>\n",
       "      <th>humidity</th>\n",
       "      <th>windy</th>\n",
       "      <th>play</th>\n",
       "    </tr>\n",
       "  </thead>\n",
       "  <tbody>\n",
       "    <tr>\n",
       "      <th>0</th>\n",
       "      <td>sunny</td>\n",
       "      <td>hot</td>\n",
       "      <td>high</td>\n",
       "      <td>false</td>\n",
       "      <td>no</td>\n",
       "    </tr>\n",
       "    <tr>\n",
       "      <th>1</th>\n",
       "      <td>sunny</td>\n",
       "      <td>hot</td>\n",
       "      <td>high</td>\n",
       "      <td>true</td>\n",
       "      <td>no</td>\n",
       "    </tr>\n",
       "    <tr>\n",
       "      <th>2</th>\n",
       "      <td>overcast</td>\n",
       "      <td>hot</td>\n",
       "      <td>high</td>\n",
       "      <td>false</td>\n",
       "      <td>yes</td>\n",
       "    </tr>\n",
       "    <tr>\n",
       "      <th>3</th>\n",
       "      <td>rainy</td>\n",
       "      <td>mild</td>\n",
       "      <td>high</td>\n",
       "      <td>false</td>\n",
       "      <td>yes</td>\n",
       "    </tr>\n",
       "    <tr>\n",
       "      <th>4</th>\n",
       "      <td>rainy</td>\n",
       "      <td>cool</td>\n",
       "      <td>normal</td>\n",
       "      <td>false</td>\n",
       "      <td>yes</td>\n",
       "    </tr>\n",
       "  </tbody>\n",
       "</table>\n",
       "</div>"
      ],
      "text/plain": [
       "    outlook  temp humidity  windy play\n",
       "0     sunny   hot     high  false   no\n",
       "1     sunny   hot     high   true   no\n",
       "2  overcast   hot     high  false  yes\n",
       "3     rainy  mild     high  false  yes\n",
       "4     rainy  cool   normal  false  yes"
      ]
     },
     "execution_count": 4,
     "metadata": {},
     "output_type": "execute_result"
    }
   ],
   "source": [
    "df.head()"
   ]
  },
  {
   "cell_type": "code",
   "execution_count": 5,
   "id": "809c1835",
   "metadata": {},
   "outputs": [
    {
     "data": {
      "text/plain": [
       "yes    9\n",
       "no     5\n",
       "Name: play, dtype: int64"
      ]
     },
     "execution_count": 5,
     "metadata": {},
     "output_type": "execute_result"
    }
   ],
   "source": [
    "pd.value_counts(df['play'])"
   ]
  },
  {
   "cell_type": "code",
   "execution_count": 6,
   "id": "9f34319c",
   "metadata": {},
   "outputs": [],
   "source": [
    "values = pd.unique(df['play'])\n",
    "entropy = 0\n",
    "n = len(df)\n",
    "for value in values:\n",
    "    x = df['play'].value_counts()[value] / n\n",
    "    entropy+= -x * np.log2(x)    \n"
   ]
  },
  {
   "cell_type": "code",
   "execution_count": 7,
   "id": "d3f57ba0",
   "metadata": {},
   "outputs": [
    {
     "data": {
      "text/plain": [
       "0.9402859586706311"
      ]
     },
     "execution_count": 7,
     "metadata": {},
     "output_type": "execute_result"
    }
   ],
   "source": [
    "entropy"
   ]
  },
  {
   "cell_type": "code",
   "execution_count": 8,
   "id": "b6d2c6fd",
   "metadata": {},
   "outputs": [
    {
     "data": {
      "text/plain": [
       "array(['sunny', 'overcast', 'rainy'], dtype=object)"
      ]
     },
     "execution_count": 8,
     "metadata": {},
     "output_type": "execute_result"
    }
   ],
   "source": [
    "df['outlook'].unique()"
   ]
  },
  {
   "cell_type": "code",
   "execution_count": 9,
   "id": "338f069b",
   "metadata": {},
   "outputs": [
    {
     "data": {
      "text/plain": [
       "sunny       5\n",
       "rainy       5\n",
       "overcast    4\n",
       "Name: outlook, dtype: int64"
      ]
     },
     "execution_count": 9,
     "metadata": {},
     "output_type": "execute_result"
    }
   ],
   "source": [
    "df['outlook'].value_counts()"
   ]
  },
  {
   "cell_type": "code",
   "execution_count": 10,
   "id": "4a4ee01b",
   "metadata": {},
   "outputs": [
    {
     "data": {
      "text/plain": [
       "outlook   play\n",
       "overcast  yes     4\n",
       "rainy     yes     3\n",
       "          no      2\n",
       "sunny     no      3\n",
       "          yes     2\n",
       "Name: play, dtype: int64"
      ]
     },
     "execution_count": 10,
     "metadata": {},
     "output_type": "execute_result"
    }
   ],
   "source": [
    "df.groupby('outlook')['play'].value_counts()"
   ]
  },
  {
   "cell_type": "code",
   "execution_count": 11,
   "id": "5fedb032",
   "metadata": {},
   "outputs": [
    {
     "data": {
      "text/html": [
       "<div>\n",
       "<style scoped>\n",
       "    .dataframe tbody tr th:only-of-type {\n",
       "        vertical-align: middle;\n",
       "    }\n",
       "\n",
       "    .dataframe tbody tr th {\n",
       "        vertical-align: top;\n",
       "    }\n",
       "\n",
       "    .dataframe thead th {\n",
       "        text-align: right;\n",
       "    }\n",
       "</style>\n",
       "<table border=\"1\" class=\"dataframe\">\n",
       "  <thead>\n",
       "    <tr style=\"text-align: right;\">\n",
       "      <th></th>\n",
       "      <th>outlook</th>\n",
       "      <th>temp</th>\n",
       "      <th>humidity</th>\n",
       "      <th>windy</th>\n",
       "      <th>play</th>\n",
       "    </tr>\n",
       "  </thead>\n",
       "  <tbody>\n",
       "    <tr>\n",
       "      <th>2</th>\n",
       "      <td>overcast</td>\n",
       "      <td>hot</td>\n",
       "      <td>high</td>\n",
       "      <td>false</td>\n",
       "      <td>yes</td>\n",
       "    </tr>\n",
       "    <tr>\n",
       "      <th>6</th>\n",
       "      <td>overcast</td>\n",
       "      <td>cool</td>\n",
       "      <td>normal</td>\n",
       "      <td>true</td>\n",
       "      <td>yes</td>\n",
       "    </tr>\n",
       "    <tr>\n",
       "      <th>11</th>\n",
       "      <td>overcast</td>\n",
       "      <td>mild</td>\n",
       "      <td>high</td>\n",
       "      <td>true</td>\n",
       "      <td>yes</td>\n",
       "    </tr>\n",
       "    <tr>\n",
       "      <th>12</th>\n",
       "      <td>overcast</td>\n",
       "      <td>hot</td>\n",
       "      <td>normal</td>\n",
       "      <td>false</td>\n",
       "      <td>yes</td>\n",
       "    </tr>\n",
       "  </tbody>\n",
       "</table>\n",
       "</div>"
      ],
      "text/plain": [
       "     outlook  temp humidity  windy play\n",
       "2   overcast   hot     high  false  yes\n",
       "6   overcast  cool   normal   true  yes\n",
       "11  overcast  mild     high   true  yes\n",
       "12  overcast   hot   normal  false  yes"
      ]
     },
     "execution_count": 11,
     "metadata": {},
     "output_type": "execute_result"
    }
   ],
   "source": [
    "df[df['outlook'] == 'overcast']"
   ]
  },
  {
   "cell_type": "code",
   "execution_count": 12,
   "id": "5f294ee9",
   "metadata": {},
   "outputs": [
    {
     "name": "stderr",
     "output_type": "stream",
     "text": [
      "<ipython-input-12-f1803e9b177c>:1: UserWarning: Boolean Series key will be reindexed to match DataFrame index.\n",
      "  df[df['outlook'] == 'rainy'][df['play'] == 'no']['outlook']\n"
     ]
    },
    {
     "data": {
      "text/plain": [
       "5     rainy\n",
       "13    rainy\n",
       "Name: outlook, dtype: object"
      ]
     },
     "execution_count": 12,
     "metadata": {},
     "output_type": "execute_result"
    }
   ],
   "source": [
    "df[df['outlook'] == 'rainy'][df['play'] == 'no']['outlook']"
   ]
  },
  {
   "cell_type": "code",
   "execution_count": 13,
   "id": "58e6c697",
   "metadata": {},
   "outputs": [
    {
     "name": "stderr",
     "output_type": "stream",
     "text": [
      "<ipython-input-13-a33154bbd8ef>:1: UserWarning: Boolean Series key will be reindexed to match DataFrame index.\n",
      "  len(df[df['outlook'] == 'rainy'][df['play'] == 'no']['outlook'])\n"
     ]
    },
    {
     "data": {
      "text/plain": [
       "2"
      ]
     },
     "execution_count": 13,
     "metadata": {},
     "output_type": "execute_result"
    }
   ],
   "source": [
    "len(df[df['outlook'] == 'rainy'][df['play'] == 'no']['outlook'])"
   ]
  },
  {
   "cell_type": "code",
   "execution_count": 14,
   "id": "8f64cf56",
   "metadata": {},
   "outputs": [],
   "source": [
    "def calc_avg(df , feature):\n",
    "    variables = pd.unique(df[feature])\n",
    "    target_values = pd.unique(df['play'])\n",
    "    avg = 0\n",
    "    for var in variables:\n",
    "        entropy = 0\n",
    "        for target in target_values:\n",
    "            x = len(df[df[feature] == var][df['play'] == target][feature])\n",
    "            y = len(df[df[feature] == var][feature])\n",
    "            e = x / (y + np.finfo(float).eps)\n",
    "            entropy += -e * np.log2(e+np.finfo(float).eps)\n",
    "        attr  = y / len(df)\n",
    "        avg += attr * entropy\n",
    "    return avg\n",
    "        \n",
    "    "
   ]
  },
  {
   "cell_type": "code",
   "execution_count": 15,
   "id": "8932aa0c",
   "metadata": {},
   "outputs": [
    {
     "name": "stderr",
     "output_type": "stream",
     "text": [
      "<ipython-input-14-16fb44d12dd1>:8: UserWarning: Boolean Series key will be reindexed to match DataFrame index.\n",
      "  x = len(df[df[feature] == var][df['play'] == target][feature])\n"
     ]
    },
    {
     "data": {
      "text/plain": [
       "0.6935361388961914"
      ]
     },
     "execution_count": 15,
     "metadata": {},
     "output_type": "execute_result"
    }
   ],
   "source": [
    "calc_avg(df, 'outlook')"
   ]
  },
  {
   "cell_type": "code",
   "execution_count": 16,
   "id": "cd6b0ddc",
   "metadata": {},
   "outputs": [
    {
     "name": "stderr",
     "output_type": "stream",
     "text": [
      "<ipython-input-14-16fb44d12dd1>:8: UserWarning: Boolean Series key will be reindexed to match DataFrame index.\n",
      "  x = len(df[df[feature] == var][df['play'] == target][feature])\n"
     ]
    },
    {
     "data": {
      "text/plain": [
       "0.9110633930116756"
      ]
     },
     "execution_count": 16,
     "metadata": {},
     "output_type": "execute_result"
    }
   ],
   "source": [
    "calc_avg(df, 'temp')"
   ]
  },
  {
   "cell_type": "code",
   "execution_count": 17,
   "id": "04dc7fd6",
   "metadata": {},
   "outputs": [
    {
     "name": "stderr",
     "output_type": "stream",
     "text": [
      "<ipython-input-14-16fb44d12dd1>:8: UserWarning: Boolean Series key will be reindexed to match DataFrame index.\n",
      "  x = len(df[df[feature] == var][df['play'] == target][feature])\n"
     ]
    },
    {
     "data": {
      "text/plain": [
       "0.7884504573082889"
      ]
     },
     "execution_count": 17,
     "metadata": {},
     "output_type": "execute_result"
    }
   ],
   "source": [
    "calc_avg(df,'humidity')"
   ]
  },
  {
   "cell_type": "code",
   "execution_count": 18,
   "id": "3331b37e",
   "metadata": {},
   "outputs": [
    {
     "name": "stderr",
     "output_type": "stream",
     "text": [
      "<ipython-input-14-16fb44d12dd1>:8: UserWarning: Boolean Series key will be reindexed to match DataFrame index.\n",
      "  x = len(df[df[feature] == var][df['play'] == target][feature])\n"
     ]
    },
    {
     "data": {
      "text/plain": [
       "0.892158928262361"
      ]
     },
     "execution_count": 18,
     "metadata": {},
     "output_type": "execute_result"
    }
   ],
   "source": [
    "calc_avg(df,'windy')"
   ]
  },
  {
   "cell_type": "code",
   "execution_count": 19,
   "id": "d0d09fa4",
   "metadata": {},
   "outputs": [
    {
     "name": "stderr",
     "output_type": "stream",
     "text": [
      "<ipython-input-14-16fb44d12dd1>:8: UserWarning: Boolean Series key will be reindexed to match DataFrame index.\n",
      "  x = len(df[df[feature] == var][df['play'] == target][feature])\n"
     ]
    }
   ],
   "source": [
    "gain_outlook = entropy - calc_avg(df,'outlook')"
   ]
  },
  {
   "cell_type": "code",
   "execution_count": 20,
   "id": "96f80b1a",
   "metadata": {},
   "outputs": [
    {
     "data": {
      "text/plain": [
       "0.24674981977443977"
      ]
     },
     "execution_count": 20,
     "metadata": {},
     "output_type": "execute_result"
    }
   ],
   "source": [
    "gain_outlook"
   ]
  },
  {
   "cell_type": "code",
   "execution_count": 21,
   "id": "4ecc7c36",
   "metadata": {},
   "outputs": [
    {
     "name": "stderr",
     "output_type": "stream",
     "text": [
      "<ipython-input-14-16fb44d12dd1>:8: UserWarning: Boolean Series key will be reindexed to match DataFrame index.\n",
      "  x = len(df[df[feature] == var][df['play'] == target][feature])\n"
     ]
    }
   ],
   "source": [
    "gain_temp = entropy - calc_avg(df,'temp')"
   ]
  },
  {
   "cell_type": "code",
   "execution_count": 22,
   "id": "1dacbea7",
   "metadata": {},
   "outputs": [
    {
     "data": {
      "text/plain": [
       "0.029222565658955535"
      ]
     },
     "execution_count": 22,
     "metadata": {},
     "output_type": "execute_result"
    }
   ],
   "source": [
    "gain_temp"
   ]
  },
  {
   "cell_type": "code",
   "execution_count": 23,
   "id": "7768a341",
   "metadata": {},
   "outputs": [
    {
     "name": "stderr",
     "output_type": "stream",
     "text": [
      "<ipython-input-14-16fb44d12dd1>:8: UserWarning: Boolean Series key will be reindexed to match DataFrame index.\n",
      "  x = len(df[df[feature] == var][df['play'] == target][feature])\n"
     ]
    }
   ],
   "source": [
    "gain_hum = entropy - calc_avg(df,'humidity')"
   ]
  },
  {
   "cell_type": "code",
   "execution_count": 24,
   "id": "196c7c8a",
   "metadata": {},
   "outputs": [
    {
     "data": {
      "text/plain": [
       "0.15183550136234225"
      ]
     },
     "execution_count": 24,
     "metadata": {},
     "output_type": "execute_result"
    }
   ],
   "source": [
    "gain_hum"
   ]
  },
  {
   "cell_type": "code",
   "execution_count": 25,
   "id": "a08c4dae",
   "metadata": {},
   "outputs": [
    {
     "name": "stderr",
     "output_type": "stream",
     "text": [
      "<ipython-input-14-16fb44d12dd1>:8: UserWarning: Boolean Series key will be reindexed to match DataFrame index.\n",
      "  x = len(df[df[feature] == var][df['play'] == target][feature])\n"
     ]
    }
   ],
   "source": [
    "gain_wind = entropy - calc_avg(df,'windy')"
   ]
  },
  {
   "cell_type": "code",
   "execution_count": 26,
   "id": "81eb6558",
   "metadata": {},
   "outputs": [
    {
     "data": {
      "text/plain": [
       "0.048127030408270155"
      ]
     },
     "execution_count": 26,
     "metadata": {},
     "output_type": "execute_result"
    }
   ],
   "source": [
    "gain_wind"
   ]
  },
  {
   "cell_type": "code",
   "execution_count": 31,
   "id": "897f3633",
   "metadata": {},
   "outputs": [
    {
     "name": "stderr",
     "output_type": "stream",
     "text": [
      "<ipython-input-14-16fb44d12dd1>:8: UserWarning: Boolean Series key will be reindexed to match DataFrame index.\n",
      "  x = len(df[df[feature] == var][df['play'] == target][feature])\n"
     ]
    }
   ],
   "source": [
    "entropy_attrs = {}\n",
    "for i in range(len(df.columns) - 1):\n",
    "    entropy_attrs[df.columns[i]] = calc_avg(df, df.columns[i])"
   ]
  },
  {
   "cell_type": "code",
   "execution_count": 33,
   "id": "227778a6",
   "metadata": {},
   "outputs": [
    {
     "data": {
      "text/plain": [
       "{'outlook': 0.6935361388961914,\n",
       " 'temp': 0.9110633930116756,\n",
       " 'humidity': 0.7884504573082889,\n",
       " 'windy': 0.892158928262361}"
      ]
     },
     "execution_count": 33,
     "metadata": {},
     "output_type": "execute_result"
    }
   ],
   "source": [
    "entropy_attrs\n"
   ]
  },
  {
   "cell_type": "code",
   "execution_count": 34,
   "id": "15481c8c",
   "metadata": {},
   "outputs": [],
   "source": [
    "gain = {}\n",
    "for key in entropy_attrs:\n",
    "    gain[key] = entropy - entropy_attrs[key]"
   ]
  },
  {
   "cell_type": "code",
   "execution_count": 35,
   "id": "b0072428",
   "metadata": {},
   "outputs": [
    {
     "data": {
      "text/plain": [
       "{'outlook': 0.24674981977443977,\n",
       " 'temp': 0.029222565658955535,\n",
       " 'humidity': 0.15183550136234225,\n",
       " 'windy': 0.048127030408270155}"
      ]
     },
     "execution_count": 35,
     "metadata": {},
     "output_type": "execute_result"
    }
   ],
   "source": [
    "gain"
   ]
  },
  {
   "cell_type": "code",
   "execution_count": 41,
   "id": "8be379e2",
   "metadata": {},
   "outputs": [
    {
     "data": {
      "text/plain": [
       "'windy'"
      ]
     },
     "execution_count": 41,
     "metadata": {},
     "output_type": "execute_result"
    }
   ],
   "source": [
    "max(gain)"
   ]
  },
  {
   "cell_type": "code",
   "execution_count": null,
   "id": "5f3fbc03",
   "metadata": {},
   "outputs": [],
   "source": [
    "def calc_avg(df , feature):\n",
    "    variables = pd.unique(df[feature])\n",
    "    target_values = pd.unique(df['play'])\n",
    "    avg = 0\n",
    "    for var in variables:\n",
    "        entropy = 0\n",
    "        for target in target_values:\n",
    "            x = len(df[df[feature] == var][df['play'] == target][feature])\n",
    "            y = len(df[df[feature] == var][feature])\n",
    "            e = x / (y + np.finfo(float).eps)\n",
    "            entropy += -e * np.log2(e+np.finfo(float).eps)\n",
    "        attr  = y / len(df)\n",
    "        avg += attr * entropy\n",
    "    return avg\n",
    " \n",
    "    \n",
    "def calc_entropy():\n",
    "    values = pd.unique(df['play'])\n",
    "    entropy = 0\n",
    "    n = len(df)\n",
    "    for value in values:\n",
    "        x = df['play'].value_counts()[value] / n\n",
    "        entropy+= -x * np.log2(x)    \n",
    "    return entropy\n",
    "\n",
    "\n",
    "\n",
    "       "
   ]
  },
  {
   "cell_type": "code",
   "execution_count": 42,
   "id": "9f93efb4",
   "metadata": {},
   "outputs": [
    {
     "data": {
      "text/plain": [
       "'outlook'"
      ]
     },
     "execution_count": 42,
     "metadata": {},
     "output_type": "execute_result"
    }
   ],
   "source": [
    "max(gain , key = gain.get)"
   ]
  },
  {
   "cell_type": "code",
   "execution_count": 45,
   "id": "34ecac11",
   "metadata": {},
   "outputs": [
    {
     "data": {
      "text/html": [
       "<div>\n",
       "<style scoped>\n",
       "    .dataframe tbody tr th:only-of-type {\n",
       "        vertical-align: middle;\n",
       "    }\n",
       "\n",
       "    .dataframe tbody tr th {\n",
       "        vertical-align: top;\n",
       "    }\n",
       "\n",
       "    .dataframe thead th {\n",
       "        text-align: right;\n",
       "    }\n",
       "</style>\n",
       "<table border=\"1\" class=\"dataframe\">\n",
       "  <thead>\n",
       "    <tr style=\"text-align: right;\">\n",
       "      <th></th>\n",
       "      <th>outlook</th>\n",
       "      <th>temp</th>\n",
       "      <th>humidity</th>\n",
       "      <th>windy</th>\n",
       "      <th>play</th>\n",
       "    </tr>\n",
       "  </thead>\n",
       "  <tbody>\n",
       "    <tr>\n",
       "      <th>0</th>\n",
       "      <td>overcast</td>\n",
       "      <td>hot</td>\n",
       "      <td>high</td>\n",
       "      <td>false</td>\n",
       "      <td>yes</td>\n",
       "    </tr>\n",
       "    <tr>\n",
       "      <th>1</th>\n",
       "      <td>overcast</td>\n",
       "      <td>cool</td>\n",
       "      <td>normal</td>\n",
       "      <td>true</td>\n",
       "      <td>yes</td>\n",
       "    </tr>\n",
       "    <tr>\n",
       "      <th>2</th>\n",
       "      <td>overcast</td>\n",
       "      <td>mild</td>\n",
       "      <td>high</td>\n",
       "      <td>true</td>\n",
       "      <td>yes</td>\n",
       "    </tr>\n",
       "    <tr>\n",
       "      <th>3</th>\n",
       "      <td>overcast</td>\n",
       "      <td>hot</td>\n",
       "      <td>normal</td>\n",
       "      <td>false</td>\n",
       "      <td>yes</td>\n",
       "    </tr>\n",
       "  </tbody>\n",
       "</table>\n",
       "</div>"
      ],
      "text/plain": [
       "    outlook  temp humidity  windy play\n",
       "0  overcast   hot     high  false  yes\n",
       "1  overcast  cool   normal   true  yes\n",
       "2  overcast  mild     high   true  yes\n",
       "3  overcast   hot   normal  false  yes"
      ]
     },
     "execution_count": 45,
     "metadata": {},
     "output_type": "execute_result"
    }
   ],
   "source": [
    "node = 'outlook'\n",
    "val = 'overcast'\n",
    "\n",
    "df[df[node] == val].reset_index(drop=True)"
   ]
  },
  {
   "cell_type": "code",
   "execution_count": null,
   "id": "56918a3b",
   "metadata": {},
   "outputs": [],
   "source": []
  }
 ],
 "metadata": {
  "kernelspec": {
   "display_name": "Python 3",
   "language": "python",
   "name": "python3"
  },
  "language_info": {
   "codemirror_mode": {
    "name": "ipython",
    "version": 3
   },
   "file_extension": ".py",
   "mimetype": "text/x-python",
   "name": "python",
   "nbconvert_exporter": "python",
   "pygments_lexer": "ipython3",
   "version": "3.8.8"
  }
 },
 "nbformat": 4,
 "nbformat_minor": 5
}
