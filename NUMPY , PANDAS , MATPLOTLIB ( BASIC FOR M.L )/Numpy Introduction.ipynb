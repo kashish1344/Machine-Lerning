{
 "cells": [
  {
   "cell_type": "code",
   "execution_count": 6,
   "id": "d528e258",
   "metadata": {},
   "outputs": [],
   "source": [
    "import numpy as np"
   ]
  },
  {
   "cell_type": "markdown",
   "id": "6ad6bda1",
   "metadata": {},
   "source": [
    "### Things in Numpy\n",
    "### 1. ways to Create Array\n",
    "### 2. Slicing of Arrays\n",
    "### 3. Methods of Arrays"
   ]
  },
  {
   "cell_type": "markdown",
   "id": "05ad1133",
   "metadata": {},
   "source": [
    "# Ways to Create Array"
   ]
  },
  {
   "cell_type": "code",
   "execution_count": 7,
   "id": "cf66a6d5",
   "metadata": {},
   "outputs": [
    {
     "data": {
      "text/plain": [
       "array([ 3,  4,  6, 33, 55, 33, 55])"
      ]
     },
     "execution_count": 7,
     "metadata": {},
     "output_type": "execute_result"
    }
   ],
   "source": [
    "# 1st Way\n",
    "np.array([3,4,6,33,55,33,55])"
   ]
  },
  {
   "cell_type": "code",
   "execution_count": 8,
   "id": "895cfb7f",
   "metadata": {},
   "outputs": [
    {
     "data": {
      "text/plain": [
       "array([1, 2, 3, 4, 5, 6, 7, 8, 9])"
      ]
     },
     "execution_count": 8,
     "metadata": {},
     "output_type": "execute_result"
    }
   ],
   "source": [
    "# 2nd Way\n",
    "np.arange(1,10)"
   ]
  },
  {
   "cell_type": "code",
   "execution_count": 9,
   "id": "a2ee0f1b",
   "metadata": {},
   "outputs": [
    {
     "data": {
      "text/plain": [
       "array([10,  9,  8,  7,  6,  5,  4,  3,  2,  1])"
      ]
     },
     "execution_count": 9,
     "metadata": {},
     "output_type": "execute_result"
    }
   ],
   "source": [
    "np.arange(10,0,-1)"
   ]
  },
  {
   "cell_type": "code",
   "execution_count": 10,
   "id": "98bb5a23",
   "metadata": {},
   "outputs": [
    {
     "data": {
      "text/plain": [
       "array([ 1.        ,  1.18367347,  1.36734694,  1.55102041,  1.73469388,\n",
       "        1.91836735,  2.10204082,  2.28571429,  2.46938776,  2.65306122,\n",
       "        2.83673469,  3.02040816,  3.20408163,  3.3877551 ,  3.57142857,\n",
       "        3.75510204,  3.93877551,  4.12244898,  4.30612245,  4.48979592,\n",
       "        4.67346939,  4.85714286,  5.04081633,  5.2244898 ,  5.40816327,\n",
       "        5.59183673,  5.7755102 ,  5.95918367,  6.14285714,  6.32653061,\n",
       "        6.51020408,  6.69387755,  6.87755102,  7.06122449,  7.24489796,\n",
       "        7.42857143,  7.6122449 ,  7.79591837,  7.97959184,  8.16326531,\n",
       "        8.34693878,  8.53061224,  8.71428571,  8.89795918,  9.08163265,\n",
       "        9.26530612,  9.44897959,  9.63265306,  9.81632653, 10.        ])"
      ]
     },
     "execution_count": 10,
     "metadata": {},
     "output_type": "execute_result"
    }
   ],
   "source": [
    "# 3rd Way\n",
    "# Liner Space\n",
    "np.linspace(1,10)   #by default iy will return 50 elements in given range"
   ]
  },
  {
   "cell_type": "code",
   "execution_count": 11,
   "id": "4fe7e39c",
   "metadata": {},
   "outputs": [
    {
     "data": {
      "text/plain": [
       "array([ 1.        ,  1.47368421,  1.94736842,  2.42105263,  2.89473684,\n",
       "        3.36842105,  3.84210526,  4.31578947,  4.78947368,  5.26315789,\n",
       "        5.73684211,  6.21052632,  6.68421053,  7.15789474,  7.63157895,\n",
       "        8.10526316,  8.57894737,  9.05263158,  9.52631579, 10.        ])"
      ]
     },
     "execution_count": 11,
     "metadata": {},
     "output_type": "execute_result"
    }
   ],
   "source": [
    "np.linspace(1,10,num= 20)  # it will return 20 elements in given range"
   ]
  },
  {
   "cell_type": "code",
   "execution_count": 12,
   "id": "2a8098a7",
   "metadata": {},
   "outputs": [
    {
     "data": {
      "text/plain": [
       "(array([ 1.        ,  1.47368421,  1.94736842,  2.42105263,  2.89473684,\n",
       "         3.36842105,  3.84210526,  4.31578947,  4.78947368,  5.26315789,\n",
       "         5.73684211,  6.21052632,  6.68421053,  7.15789474,  7.63157895,\n",
       "         8.10526316,  8.57894737,  9.05263158,  9.52631579, 10.        ]),\n",
       " 0.47368421052631576)"
      ]
     },
     "execution_count": 12,
     "metadata": {},
     "output_type": "execute_result"
    }
   ],
   "source": [
    "np.linspace(1, 10, num= 20, retstep = True)"
   ]
  },
  {
   "cell_type": "code",
   "execution_count": 13,
   "id": "6b4dbf58",
   "metadata": {},
   "outputs": [
    {
     "data": {
      "text/plain": [
       "array([[2.12199579e-314, 1.01007000e-311],\n",
       "       [5.01970696e-321, 1.01007000e-311]])"
      ]
     },
     "execution_count": 13,
     "metadata": {},
     "output_type": "execute_result"
    }
   ],
   "source": [
    "# 4th Way\n",
    "\n",
    "np.empty([2,2])"
   ]
  },
  {
   "cell_type": "code",
   "execution_count": 14,
   "id": "19b01846",
   "metadata": {},
   "outputs": [
    {
     "data": {
      "text/plain": [
       "array([[0., 0.],\n",
       "       [0., 0.],\n",
       "       [0., 0.]])"
      ]
     },
     "execution_count": 14,
     "metadata": {},
     "output_type": "execute_result"
    }
   ],
   "source": [
    "# 5th Way\n",
    "np.empty([3,2])"
   ]
  },
  {
   "cell_type": "code",
   "execution_count": 15,
   "id": "30562552",
   "metadata": {},
   "outputs": [
    {
     "data": {
      "text/plain": [
       "array([[0., 0., 0., 0.],\n",
       "       [0., 0., 0., 0.],\n",
       "       [0., 0., 0., 0.],\n",
       "       [0., 0., 0., 0.]])"
      ]
     },
     "execution_count": 15,
     "metadata": {},
     "output_type": "execute_result"
    }
   ],
   "source": [
    "# 6th Way\n",
    "np.zeros((4,4))"
   ]
  },
  {
   "cell_type": "code",
   "execution_count": 16,
   "id": "d3b091ac",
   "metadata": {},
   "outputs": [
    {
     "data": {
      "text/plain": [
       "array([[1., 1., 1., 1.],\n",
       "       [1., 1., 1., 1.],\n",
       "       [1., 1., 1., 1.],\n",
       "       [1., 1., 1., 1.]])"
      ]
     },
     "execution_count": 16,
     "metadata": {},
     "output_type": "execute_result"
    }
   ],
   "source": [
    "# 7th Way\n",
    "np.ones((4,4))"
   ]
  },
  {
   "cell_type": "code",
   "execution_count": 17,
   "id": "6874f9e9",
   "metadata": {},
   "outputs": [
    {
     "data": {
      "text/plain": [
       "array([[1., 0., 0., 0., 0.],\n",
       "       [0., 1., 0., 0., 0.],\n",
       "       [0., 0., 1., 0., 0.],\n",
       "       [0., 0., 0., 1., 0.],\n",
       "       [0., 0., 0., 0., 1.]])"
      ]
     },
     "execution_count": 17,
     "metadata": {},
     "output_type": "execute_result"
    }
   ],
   "source": [
    "#8th Way\n",
    "np.identity(5)"
   ]
  },
  {
   "cell_type": "code",
   "execution_count": 18,
   "id": "5a86e9a6",
   "metadata": {},
   "outputs": [
    {
     "data": {
      "text/plain": [
       "array([[6., 0., 0., 0., 0.],\n",
       "       [0., 6., 0., 0., 0.],\n",
       "       [0., 0., 6., 0., 0.],\n",
       "       [0., 0., 0., 6., 0.],\n",
       "       [0., 0., 0., 0., 6.]])"
      ]
     },
     "execution_count": 18,
     "metadata": {},
     "output_type": "execute_result"
    }
   ],
   "source": [
    "np.identity(5) * 6"
   ]
  },
  {
   "cell_type": "code",
   "execution_count": 19,
   "id": "67228b61",
   "metadata": {},
   "outputs": [
    {
     "data": {
      "text/plain": [
       "0.8794948124346228"
      ]
     },
     "execution_count": 19,
     "metadata": {},
     "output_type": "execute_result"
    }
   ],
   "source": [
    "np.random.random()  # by default it will return a value btw 0 and 1"
   ]
  },
  {
   "cell_type": "code",
   "execution_count": 20,
   "id": "391c1c32",
   "metadata": {},
   "outputs": [
    {
     "data": {
      "text/plain": [
       "array([0.14885442, 0.68102493, 0.78230365, 0.88758602])"
      ]
     },
     "execution_count": 20,
     "metadata": {},
     "output_type": "execute_result"
    }
   ],
   "source": [
    "np.random.random(4)"
   ]
  },
  {
   "cell_type": "code",
   "execution_count": 21,
   "id": "5135c90a",
   "metadata": {},
   "outputs": [
    {
     "data": {
      "text/plain": [
       "array([[0.77488938, 0.86146282, 0.30335237, 0.944768  ],\n",
       "       [0.94514206, 0.42982562, 0.80276334, 0.97698297],\n",
       "       [0.10229369, 0.2364127 , 0.1970782 , 0.67416736],\n",
       "       [0.64572321, 0.06069377, 0.5567633 , 0.49621148]])"
      ]
     },
     "execution_count": 21,
     "metadata": {},
     "output_type": "execute_result"
    }
   ],
   "source": [
    "np.random.random([4,4])"
   ]
  },
  {
   "cell_type": "code",
   "execution_count": 22,
   "id": "d04c0fb8",
   "metadata": {},
   "outputs": [
    {
     "data": {
      "text/plain": [
       "array([[2.05293338, 2.54108733, 1.14814851, 1.21398723],\n",
       "       [4.68416021, 1.03882926, 2.48874272, 0.8401962 ],\n",
       "       [1.76853346, 1.21476221, 2.76048166, 1.1938628 ],\n",
       "       [0.41655818, 3.31969178, 2.95757868, 4.05747393]])"
      ]
     },
     "execution_count": 22,
     "metadata": {},
     "output_type": "execute_result"
    }
   ],
   "source": [
    "np.random.random([4,4]) * 5"
   ]
  },
  {
   "cell_type": "code",
   "execution_count": 23,
   "id": "a12e8b13",
   "metadata": {},
   "outputs": [
    {
     "data": {
      "text/plain": [
       "17"
      ]
     },
     "execution_count": 23,
     "metadata": {},
     "output_type": "execute_result"
    }
   ],
   "source": [
    "#random integer\n",
    "np.random.randint(10,100)"
   ]
  },
  {
   "cell_type": "code",
   "execution_count": 24,
   "id": "53c9b3d1",
   "metadata": {},
   "outputs": [
    {
     "data": {
      "text/plain": [
       "array([71, 41, 57, 22, 44, 43, 41, 14, 26, 69])"
      ]
     },
     "execution_count": 24,
     "metadata": {},
     "output_type": "execute_result"
    }
   ],
   "source": [
    "np.random.randint(10,100,10)"
   ]
  },
  {
   "cell_type": "code",
   "execution_count": 25,
   "id": "7ce791e2",
   "metadata": {},
   "outputs": [
    {
     "data": {
      "text/plain": [
       "array([[45, 16, 63, 63],\n",
       "       [67, 22, 42, 78],\n",
       "       [70, 44, 61, 54],\n",
       "       [29, 84, 63, 91]])"
      ]
     },
     "execution_count": 25,
     "metadata": {},
     "output_type": "execute_result"
    }
   ],
   "source": [
    "np.random.randint(10,100,[4,4])"
   ]
  },
  {
   "cell_type": "code",
   "execution_count": 26,
   "id": "cd15768f",
   "metadata": {},
   "outputs": [
    {
     "data": {
      "text/plain": [
       "array([[-0.59520617,  0.48824341, -0.48118663,  1.03131604],\n",
       "       [-1.00668528,  0.69445529, -0.37360315,  1.458344  ],\n",
       "       [ 1.11922575,  0.47689295,  1.39085622,  0.25019652]])"
      ]
     },
     "execution_count": 26,
     "metadata": {},
     "output_type": "execute_result"
    }
   ],
   "source": [
    "np.random.randn(3,4)  #zero centred values"
   ]
  },
  {
   "cell_type": "code",
   "execution_count": 27,
   "id": "01ca15ab",
   "metadata": {},
   "outputs": [],
   "source": [
    "#np.mean(np.random.randn(3,4))"
   ]
  },
  {
   "cell_type": "markdown",
   "id": "4e03c2b6",
   "metadata": {},
   "source": [
    "# Slicing of Array\n"
   ]
  },
  {
   "cell_type": "code",
   "execution_count": 28,
   "id": "fd0390a6",
   "metadata": {},
   "outputs": [],
   "source": [
    "#1-D Array\n",
    "x = np.random.randint(1,100,15)"
   ]
  },
  {
   "cell_type": "code",
   "execution_count": 29,
   "id": "5ab51d6d",
   "metadata": {},
   "outputs": [
    {
     "data": {
      "text/plain": [
       "array([24, 29, 38, 49, 92, 44, 38, 65, 12, 78, 67, 47, 99, 51, 93])"
      ]
     },
     "execution_count": 29,
     "metadata": {},
     "output_type": "execute_result"
    }
   ],
   "source": [
    "x"
   ]
  },
  {
   "cell_type": "code",
   "execution_count": 30,
   "id": "a081955f",
   "metadata": {},
   "outputs": [
    {
     "data": {
      "text/plain": [
       "24"
      ]
     },
     "execution_count": 30,
     "metadata": {},
     "output_type": "execute_result"
    }
   ],
   "source": [
    "x[0]"
   ]
  },
  {
   "cell_type": "code",
   "execution_count": 31,
   "id": "895ab016",
   "metadata": {},
   "outputs": [
    {
     "data": {
      "text/plain": [
       "array([24, 29, 38, 49])"
      ]
     },
     "execution_count": 31,
     "metadata": {},
     "output_type": "execute_result"
    }
   ],
   "source": [
    "x[0:4]"
   ]
  },
  {
   "cell_type": "code",
   "execution_count": 32,
   "id": "d1f9bc70",
   "metadata": {},
   "outputs": [
    {
     "data": {
      "text/plain": [
       "93"
      ]
     },
     "execution_count": 32,
     "metadata": {},
     "output_type": "execute_result"
    }
   ],
   "source": [
    "x[-1]"
   ]
  },
  {
   "cell_type": "code",
   "execution_count": 33,
   "id": "10df4799",
   "metadata": {},
   "outputs": [],
   "source": [
    "# 2-D Array\n",
    "\n",
    "x = np.random.randint(1,100,(5,5))"
   ]
  },
  {
   "cell_type": "code",
   "execution_count": 34,
   "id": "1c7442ab",
   "metadata": {},
   "outputs": [
    {
     "data": {
      "text/plain": [
       "array([[58, 81, 22, 92, 12],\n",
       "       [10, 67,  7, 40, 22],\n",
       "       [41,  9, 42, 41, 12],\n",
       "       [77,  2, 45, 41, 51],\n",
       "       [53, 58,  7, 61, 60]])"
      ]
     },
     "execution_count": 34,
     "metadata": {},
     "output_type": "execute_result"
    }
   ],
   "source": [
    "x"
   ]
  },
  {
   "cell_type": "code",
   "execution_count": 35,
   "id": "f0794dcd",
   "metadata": {},
   "outputs": [
    {
     "data": {
      "text/plain": [
       "2"
      ]
     },
     "execution_count": 35,
     "metadata": {},
     "output_type": "execute_result"
    }
   ],
   "source": [
    "x.ndim  #Dimension check"
   ]
  },
  {
   "cell_type": "code",
   "execution_count": 36,
   "id": "fb546cba",
   "metadata": {},
   "outputs": [
    {
     "data": {
      "text/plain": [
       "(5, 5)"
      ]
     },
     "execution_count": 36,
     "metadata": {},
     "output_type": "execute_result"
    }
   ],
   "source": [
    "x.shape  #shape check"
   ]
  },
  {
   "cell_type": "code",
   "execution_count": 37,
   "id": "d9b705b3",
   "metadata": {},
   "outputs": [
    {
     "data": {
      "text/plain": [
       "array([58, 81, 22, 92, 12])"
      ]
     },
     "execution_count": 37,
     "metadata": {},
     "output_type": "execute_result"
    }
   ],
   "source": [
    "x[0]   #it will return Row Wise Data"
   ]
  },
  {
   "cell_type": "code",
   "execution_count": 38,
   "id": "64600037",
   "metadata": {},
   "outputs": [
    {
     "data": {
      "text/plain": [
       "array([10, 67,  7, 40, 22])"
      ]
     },
     "execution_count": 38,
     "metadata": {},
     "output_type": "execute_result"
    }
   ],
   "source": [
    "x[1]"
   ]
  },
  {
   "cell_type": "code",
   "execution_count": 39,
   "id": "8e3f8038",
   "metadata": {},
   "outputs": [
    {
     "data": {
      "text/plain": [
       "81"
      ]
     },
     "execution_count": 39,
     "metadata": {},
     "output_type": "execute_result"
    }
   ],
   "source": [
    "x[0][1]  #now it will return the element"
   ]
  },
  {
   "cell_type": "code",
   "execution_count": 40,
   "id": "c4229195",
   "metadata": {},
   "outputs": [
    {
     "data": {
      "text/plain": [
       "12"
      ]
     },
     "execution_count": 40,
     "metadata": {},
     "output_type": "execute_result"
    }
   ],
   "source": [
    "x[2][-1]"
   ]
  },
  {
   "cell_type": "code",
   "execution_count": 41,
   "id": "76868f9a",
   "metadata": {},
   "outputs": [
    {
     "data": {
      "text/plain": [
       "array([[58, 81, 22, 92, 12],\n",
       "       [10, 67,  7, 40, 22],\n",
       "       [41,  9, 42, 41, 12],\n",
       "       [77,  2, 45, 41, 51],\n",
       "       [53, 58,  7, 61, 60]])"
      ]
     },
     "execution_count": 41,
     "metadata": {},
     "output_type": "execute_result"
    }
   ],
   "source": [
    "x[:]"
   ]
  },
  {
   "cell_type": "code",
   "execution_count": 42,
   "id": "828736c1",
   "metadata": {},
   "outputs": [
    {
     "data": {
      "text/plain": [
       "array([58, 10, 41, 77, 53])"
      ]
     },
     "execution_count": 42,
     "metadata": {},
     "output_type": "execute_result"
    }
   ],
   "source": [
    "x[:,0]"
   ]
  },
  {
   "cell_type": "code",
   "execution_count": 43,
   "id": "68696415",
   "metadata": {},
   "outputs": [
    {
     "data": {
      "text/plain": [
       "array([81, 67,  9,  2, 58])"
      ]
     },
     "execution_count": 43,
     "metadata": {},
     "output_type": "execute_result"
    }
   ],
   "source": [
    "x[0:,1]"
   ]
  },
  {
   "cell_type": "code",
   "execution_count": 44,
   "id": "5c4c0eae",
   "metadata": {},
   "outputs": [
    {
     "data": {
      "text/plain": [
       "array([[81, 22],\n",
       "       [67,  7],\n",
       "       [ 9, 42],\n",
       "       [ 2, 45],\n",
       "       [58,  7]])"
      ]
     },
     "execution_count": 44,
     "metadata": {},
     "output_type": "execute_result"
    }
   ],
   "source": [
    "x[0:,1:3]"
   ]
  },
  {
   "cell_type": "code",
   "execution_count": 45,
   "id": "e1522bc2",
   "metadata": {},
   "outputs": [
    {
     "data": {
      "text/plain": [
       "array([[42, 41],\n",
       "       [45, 41]])"
      ]
     },
     "execution_count": 45,
     "metadata": {},
     "output_type": "execute_result"
    }
   ],
   "source": [
    "x[2:4 , 2:4]"
   ]
  },
  {
   "cell_type": "code",
   "execution_count": 46,
   "id": "cbd21a92",
   "metadata": {},
   "outputs": [
    {
     "data": {
      "text/plain": [
       "array([[58],\n",
       "       [10],\n",
       "       [41],\n",
       "       [77],\n",
       "       [53]])"
      ]
     },
     "execution_count": 46,
     "metadata": {},
     "output_type": "execute_result"
    }
   ],
   "source": [
    "x[:,0:1]"
   ]
  },
  {
   "cell_type": "markdown",
   "id": "a69a951f",
   "metadata": {},
   "source": [
    "# Methods of Array\n"
   ]
  },
  {
   "cell_type": "code",
   "execution_count": 47,
   "id": "52a9169d",
   "metadata": {},
   "outputs": [
    {
     "data": {
      "text/plain": [
       "606"
      ]
     },
     "execution_count": 47,
     "metadata": {},
     "output_type": "execute_result"
    }
   ],
   "source": [
    "len(dir(np))"
   ]
  },
  {
   "cell_type": "code",
   "execution_count": 48,
   "id": "0db251d9",
   "metadata": {},
   "outputs": [],
   "source": [
    "x = np.random.randint(1,100,15)"
   ]
  },
  {
   "cell_type": "code",
   "execution_count": 49,
   "id": "81a9867b",
   "metadata": {},
   "outputs": [
    {
     "data": {
      "text/plain": [
       "array([38,  1,  4, 36, 73, 26, 83, 59, 79, 16, 71,  2, 67, 23, 93])"
      ]
     },
     "execution_count": 49,
     "metadata": {},
     "output_type": "execute_result"
    }
   ],
   "source": [
    "x"
   ]
  },
  {
   "cell_type": "code",
   "execution_count": 50,
   "id": "49cc389a",
   "metadata": {},
   "outputs": [
    {
     "data": {
      "text/plain": [
       "1"
      ]
     },
     "execution_count": 50,
     "metadata": {},
     "output_type": "execute_result"
    }
   ],
   "source": [
    "np.min(x)"
   ]
  },
  {
   "cell_type": "code",
   "execution_count": 51,
   "id": "0381e2eb",
   "metadata": {},
   "outputs": [
    {
     "data": {
      "text/plain": [
       "93"
      ]
     },
     "execution_count": 51,
     "metadata": {},
     "output_type": "execute_result"
    }
   ],
   "source": [
    "np.max(x)"
   ]
  },
  {
   "cell_type": "code",
   "execution_count": 52,
   "id": "77fe4033",
   "metadata": {},
   "outputs": [
    {
     "data": {
      "text/plain": [
       "array([ 1,  2,  4, 16, 23, 26, 36, 38, 59, 67, 71, 73, 79, 83, 93])"
      ]
     },
     "execution_count": 52,
     "metadata": {},
     "output_type": "execute_result"
    }
   ],
   "source": [
    "np.sort(x)"
   ]
  },
  {
   "cell_type": "code",
   "execution_count": 53,
   "id": "bd60272d",
   "metadata": {},
   "outputs": [
    {
     "data": {
      "text/plain": [
       "1"
      ]
     },
     "execution_count": 53,
     "metadata": {},
     "output_type": "execute_result"
    }
   ],
   "source": [
    "np.argmin(x)"
   ]
  },
  {
   "cell_type": "code",
   "execution_count": 54,
   "id": "b82a6a17",
   "metadata": {},
   "outputs": [
    {
     "data": {
      "text/plain": [
       "14"
      ]
     },
     "execution_count": 54,
     "metadata": {},
     "output_type": "execute_result"
    }
   ],
   "source": [
    "np.argmax(x)"
   ]
  },
  {
   "cell_type": "code",
   "execution_count": 55,
   "id": "77ad446b",
   "metadata": {},
   "outputs": [
    {
     "data": {
      "text/plain": [
       "array([ 1, 11,  2,  9, 13,  5,  3,  0,  7, 12, 10,  4,  8,  6, 14],\n",
       "      dtype=int64)"
      ]
     },
     "execution_count": 55,
     "metadata": {},
     "output_type": "execute_result"
    }
   ],
   "source": [
    "np.argsort(x)"
   ]
  },
  {
   "cell_type": "code",
   "execution_count": 56,
   "id": "f342c0f6",
   "metadata": {},
   "outputs": [
    {
     "data": {
      "text/plain": [
       "44.733333333333334"
      ]
     },
     "execution_count": 56,
     "metadata": {},
     "output_type": "execute_result"
    }
   ],
   "source": [
    "np.mean(x)"
   ]
  },
  {
   "cell_type": "code",
   "execution_count": 57,
   "id": "e7dc9711",
   "metadata": {},
   "outputs": [
    {
     "data": {
      "text/plain": [
       "38.0"
      ]
     },
     "execution_count": 57,
     "metadata": {},
     "output_type": "execute_result"
    }
   ],
   "source": [
    "np.median(x)"
   ]
  },
  {
   "cell_type": "code",
   "execution_count": 58,
   "id": "0b73bea8",
   "metadata": {},
   "outputs": [
    {
     "data": {
      "text/plain": [
       "30.90300237121881"
      ]
     },
     "execution_count": 58,
     "metadata": {},
     "output_type": "execute_result"
    }
   ],
   "source": [
    "np.std(x)"
   ]
  },
  {
   "cell_type": "code",
   "execution_count": 59,
   "id": "5c6cbd94",
   "metadata": {},
   "outputs": [
    {
     "data": {
      "text/plain": [
       "38.0"
      ]
     },
     "execution_count": 59,
     "metadata": {},
     "output_type": "execute_result"
    }
   ],
   "source": [
    "np.quantile(x,0.5)"
   ]
  },
  {
   "cell_type": "code",
   "execution_count": 60,
   "id": "48c8ccf6",
   "metadata": {},
   "outputs": [
    {
     "data": {
      "text/plain": [
       "(15,)"
      ]
     },
     "execution_count": 60,
     "metadata": {},
     "output_type": "execute_result"
    }
   ],
   "source": [
    "x.shape"
   ]
  },
  {
   "cell_type": "code",
   "execution_count": 61,
   "id": "1b207485",
   "metadata": {},
   "outputs": [
    {
     "data": {
      "text/plain": [
       "array([[38,  1,  4],\n",
       "       [36, 73, 26],\n",
       "       [83, 59, 79],\n",
       "       [16, 71,  2],\n",
       "       [67, 23, 93]])"
      ]
     },
     "execution_count": 61,
     "metadata": {},
     "output_type": "execute_result"
    }
   ],
   "source": [
    "x.reshape((5,3))"
   ]
  },
  {
   "cell_type": "code",
   "execution_count": 62,
   "id": "3caeda22",
   "metadata": {},
   "outputs": [],
   "source": [
    "x = x.reshape((5,3))"
   ]
  },
  {
   "cell_type": "code",
   "execution_count": 63,
   "id": "a06c0dba",
   "metadata": {},
   "outputs": [
    {
     "data": {
      "text/plain": [
       "array([[38, 36, 83, 16, 67],\n",
       "       [ 1, 73, 59, 71, 23],\n",
       "       [ 4, 26, 79,  2, 93]])"
      ]
     },
     "execution_count": 63,
     "metadata": {},
     "output_type": "execute_result"
    }
   ],
   "source": [
    "# Tranpose\n",
    "\n",
    "x.T"
   ]
  },
  {
   "cell_type": "code",
   "execution_count": 64,
   "id": "94622497",
   "metadata": {},
   "outputs": [
    {
     "data": {
      "text/plain": [
       "44.733333333333334"
      ]
     },
     "execution_count": 64,
     "metadata": {},
     "output_type": "execute_result"
    }
   ],
   "source": [
    "np.mean(x)"
   ]
  },
  {
   "cell_type": "code",
   "execution_count": 65,
   "id": "97ca7732",
   "metadata": {},
   "outputs": [
    {
     "data": {
      "text/plain": [
       "array([48. , 45.4, 40.8])"
      ]
     },
     "execution_count": 65,
     "metadata": {},
     "output_type": "execute_result"
    }
   ],
   "source": [
    "# Column Wise\n",
    "\n",
    "np.mean(x,0)"
   ]
  },
  {
   "cell_type": "code",
   "execution_count": 66,
   "id": "dd2de7fc",
   "metadata": {},
   "outputs": [
    {
     "data": {
      "text/plain": [
       "array([14.33333333, 45.        , 73.66666667, 29.66666667, 61.        ])"
      ]
     },
     "execution_count": 66,
     "metadata": {},
     "output_type": "execute_result"
    }
   ],
   "source": [
    "# Row Wise\n",
    "\n",
    "np.mean(x,1)"
   ]
  },
  {
   "cell_type": "code",
   "execution_count": 67,
   "id": "2ccc02d4",
   "metadata": {},
   "outputs": [
    {
     "data": {
      "text/plain": [
       "array([ 4., 36., 79., 16., 67.])"
      ]
     },
     "execution_count": 67,
     "metadata": {},
     "output_type": "execute_result"
    }
   ],
   "source": [
    "np.median(x,1)"
   ]
  },
  {
   "cell_type": "code",
   "execution_count": 68,
   "id": "a657b951",
   "metadata": {},
   "outputs": [
    {
     "data": {
      "text/plain": [
       "array([16.77961726, 20.2155056 , 10.49867717, 29.78067979, 28.89059824])"
      ]
     },
     "execution_count": 68,
     "metadata": {},
     "output_type": "execute_result"
    }
   ],
   "source": [
    "np.std(x,1)"
   ]
  },
  {
   "cell_type": "code",
   "execution_count": 69,
   "id": "d7cbc3a5",
   "metadata": {},
   "outputs": [
    {
     "data": {
      "text/plain": [
       "array([38,  1,  4, 36, 73, 26, 83, 59, 79, 16, 71,  2, 67, 23, 93])"
      ]
     },
     "execution_count": 69,
     "metadata": {},
     "output_type": "execute_result"
    }
   ],
   "source": [
    "# convert data to 1-D\n",
    "\n",
    "x.flatten()"
   ]
  },
  {
   "cell_type": "code",
   "execution_count": 70,
   "id": "a569921a",
   "metadata": {},
   "outputs": [
    {
     "data": {
      "text/plain": [
       "array([[38,  1,  4],\n",
       "       [36, 73, 26],\n",
       "       [83, 59, 79],\n",
       "       [16, 71,  2],\n",
       "       [67, 23, 93]])"
      ]
     },
     "execution_count": 70,
     "metadata": {},
     "output_type": "execute_result"
    }
   ],
   "source": [
    "x.reshape(5,-1)  # -1 means 3 by default"
   ]
  },
  {
   "cell_type": "code",
   "execution_count": 71,
   "id": "2ee11696",
   "metadata": {},
   "outputs": [
    {
     "data": {
      "text/plain": [
       "array([[38,  1,  4, 36, 73],\n",
       "       [26, 83, 59, 79, 16],\n",
       "       [71,  2, 67, 23, 93]])"
      ]
     },
     "execution_count": 71,
     "metadata": {},
     "output_type": "execute_result"
    }
   ],
   "source": [
    "x.reshape(-1,5)"
   ]
  },
  {
   "cell_type": "code",
   "execution_count": 72,
   "id": "abf6bb01",
   "metadata": {},
   "outputs": [
    {
     "data": {
      "text/plain": [
       "(5, 3)"
      ]
     },
     "execution_count": 72,
     "metadata": {},
     "output_type": "execute_result"
    }
   ],
   "source": [
    "x.shape"
   ]
  },
  {
   "cell_type": "code",
   "execution_count": 74,
   "id": "0e9d5047",
   "metadata": {},
   "outputs": [
    {
     "data": {
      "text/plain": [
       "array([[38,  1,  4],\n",
       "       [36, 73, 26],\n",
       "       [83, 59, 79],\n",
       "       [16, 71,  2],\n",
       "       [67, 23, 93],\n",
       "       [10, 20, 30]])"
      ]
     },
     "execution_count": 74,
     "metadata": {},
     "output_type": "execute_result"
    }
   ],
   "source": [
    "np.r_[x, [[10,20,30]]]  # adding row "
   ]
  },
  {
   "cell_type": "code",
   "execution_count": 78,
   "id": "b5b88732",
   "metadata": {},
   "outputs": [
    {
     "data": {
      "text/plain": [
       "array([[ 38,   1,   4, 101],\n",
       "       [ 36,  73,  26, 201],\n",
       "       [ 83,  59,  79, 301],\n",
       "       [ 16,  71,   2, 501],\n",
       "       [ 67,  23,  93, 601]])"
      ]
     },
     "execution_count": 78,
     "metadata": {},
     "output_type": "execute_result"
    }
   ],
   "source": [
    "np.c_[x, [[101],[201],[301],[501],[601]]] #adding a column"
   ]
  },
  {
   "cell_type": "markdown",
   "id": "25eba988",
   "metadata": {},
   "source": []
  }
 ],
 "metadata": {
  "kernelspec": {
   "display_name": "Python 3",
   "language": "python",
   "name": "python3"
  },
  "language_info": {
   "codemirror_mode": {
    "name": "ipython",
    "version": 3
   },
   "file_extension": ".py",
   "mimetype": "text/x-python",
   "name": "python",
   "nbconvert_exporter": "python",
   "pygments_lexer": "ipython3",
   "version": "3.8.8"
  }
 },
 "nbformat": 4,
 "nbformat_minor": 5
}
