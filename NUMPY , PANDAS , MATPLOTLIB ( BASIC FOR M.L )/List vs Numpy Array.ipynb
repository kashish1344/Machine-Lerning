{
 "cells": [
  {
   "cell_type": "code",
   "execution_count": 3,
   "id": "06c0b910",
   "metadata": {},
   "outputs": [],
   "source": [
    "import sys, time\n",
    "import numpy as np"
   ]
  },
  {
   "cell_type": "code",
   "execution_count": 5,
   "id": "49f2f20e",
   "metadata": {},
   "outputs": [
    {
     "data": {
      "text/plain": [
       "array([4, 3, 5, 8, 5])"
      ]
     },
     "execution_count": 5,
     "metadata": {},
     "output_type": "execute_result"
    }
   ],
   "source": [
    "np.array([4,3,5,8,5])"
   ]
  },
  {
   "cell_type": "code",
   "execution_count": 6,
   "id": "b54cf9c6",
   "metadata": {},
   "outputs": [
    {
     "data": {
      "text/plain": [
       "array([ 4. ,  5. ,  6. ,  7. ,  8.6, 20. , 33. ])"
      ]
     },
     "execution_count": 6,
     "metadata": {},
     "output_type": "execute_result"
    }
   ],
   "source": [
    "np.array([4,5,6,7,8.6,20,33])"
   ]
  },
  {
   "cell_type": "code",
   "execution_count": 7,
   "id": "8e9811cb",
   "metadata": {},
   "outputs": [
    {
     "data": {
      "text/plain": [
       "array(['4', '5', '6', '8', '9', '7', 'hello'], dtype='<U11')"
      ]
     },
     "execution_count": 7,
     "metadata": {},
     "output_type": "execute_result"
    }
   ],
   "source": [
    "np.array([4,5,6,8,9,7,'hello'])"
   ]
  },
  {
   "cell_type": "markdown",
   "id": "c78adb6e",
   "metadata": {},
   "source": [
    "# List v/s Numpy Array\n"
   ]
  },
  {
   "cell_type": "code",
   "execution_count": 8,
   "id": "e2866948",
   "metadata": {},
   "outputs": [],
   "source": [
    "# Space Complexity\n",
    "\n",
    "list_1 = list()"
   ]
  },
  {
   "cell_type": "code",
   "execution_count": 9,
   "id": "57ddf89a",
   "metadata": {},
   "outputs": [
    {
     "data": {
      "text/plain": [
       "56"
      ]
     },
     "execution_count": 9,
     "metadata": {},
     "output_type": "execute_result"
    }
   ],
   "source": [
    "sys.getsizeof(list_1)"
   ]
  },
  {
   "cell_type": "code",
   "execution_count": 10,
   "id": "17f83a20",
   "metadata": {},
   "outputs": [
    {
     "data": {
      "text/plain": [
       "104"
      ]
     },
     "execution_count": 10,
     "metadata": {},
     "output_type": "execute_result"
    }
   ],
   "source": [
    "arr_1 = np.array([])\n",
    "sys.getsizeof(arr_1)"
   ]
  },
  {
   "cell_type": "code",
   "execution_count": 11,
   "id": "00ec9dec",
   "metadata": {},
   "outputs": [
    {
     "data": {
      "text/plain": [
       "72"
      ]
     },
     "execution_count": 11,
     "metadata": {},
     "output_type": "execute_result"
    }
   ],
   "source": [
    "list_1 = [3,4]\n",
    "sys.getsizeof(list_1)"
   ]
  },
  {
   "cell_type": "code",
   "execution_count": 12,
   "id": "ccfec667",
   "metadata": {},
   "outputs": [
    {
     "data": {
      "text/plain": [
       "112"
      ]
     },
     "execution_count": 12,
     "metadata": {},
     "output_type": "execute_result"
    }
   ],
   "source": [
    "arr_1 = np.array([3,4])\n",
    "sys.getsizeof(arr_1)"
   ]
  },
  {
   "cell_type": "code",
   "execution_count": 13,
   "id": "be8ff3be",
   "metadata": {},
   "outputs": [
    {
     "data": {
      "text/plain": [
       "8048"
      ]
     },
     "execution_count": 13,
     "metadata": {},
     "output_type": "execute_result"
    }
   ],
   "source": [
    "list_1 = list(range(1,1000))\n",
    "sys.getsizeof(list_1)"
   ]
  },
  {
   "cell_type": "code",
   "execution_count": 14,
   "id": "f505bdce",
   "metadata": {},
   "outputs": [
    {
     "data": {
      "text/plain": [
       "4116"
      ]
     },
     "execution_count": 14,
     "metadata": {},
     "output_type": "execute_result"
    }
   ],
   "source": [
    "arr_1 = np.array([list_1])\n",
    "sys.getsizeof(arr_1)"
   ]
  },
  {
   "cell_type": "code",
   "execution_count": 15,
   "id": "4cc7b8fe",
   "metadata": {},
   "outputs": [],
   "source": [
    "# Time Complexity"
   ]
  },
  {
   "cell_type": "code",
   "execution_count": 20,
   "id": "0643e09d",
   "metadata": {},
   "outputs": [
    {
     "name": "stdout",
     "output_type": "stream",
     "text": [
      "Total Time Taken:  1.8844819068908691\n"
     ]
    }
   ],
   "source": [
    "list_1  = list(range(1,10000000))\n",
    "list_2  = list(range(1,10000000))\n",
    "list_3  = []\n",
    "\n",
    "start = time.time()\n",
    "\n",
    "for i in range(len(list_1)):\n",
    "    list_3.append(list_1[i] + list_2[i])\n",
    "    \n",
    "end = time.time()\n",
    "total = end - start\n",
    "print(\"Total Time Taken: \",total)"
   ]
  },
  {
   "cell_type": "code",
   "execution_count": 23,
   "id": "098277bc",
   "metadata": {},
   "outputs": [
    {
     "name": "stdout",
     "output_type": "stream",
     "text": [
      "Total Time Taken:  0.02393817901611328\n"
     ]
    }
   ],
   "source": [
    "array_1  = np.array(list_1)\n",
    "array_2  = np.array(list_2)\n",
    "\n",
    "start = time.time()\n",
    "\n",
    "array_3  = array_1 + array_2\n",
    "\n",
    "    \n",
    "end = time.time()\n",
    "total = end - start\n",
    "print(\"Total Time Taken: \",total)"
   ]
  },
  {
   "cell_type": "code",
   "execution_count": 24,
   "id": "58d653e1",
   "metadata": {},
   "outputs": [],
   "source": [
    "list_1 = list(range(1,10))"
   ]
  },
  {
   "cell_type": "code",
   "execution_count": 25,
   "id": "f28f4853",
   "metadata": {},
   "outputs": [
    {
     "data": {
      "text/plain": [
       "[1, 2, 3, 4, 5, 6, 7, 8, 9]"
      ]
     },
     "execution_count": 25,
     "metadata": {},
     "output_type": "execute_result"
    }
   ],
   "source": [
    "list_1"
   ]
  },
  {
   "cell_type": "code",
   "execution_count": 26,
   "id": "8fa8a3d1",
   "metadata": {},
   "outputs": [
    {
     "data": {
      "text/plain": [
       "array([1, 2, 3, 4, 5, 6, 7, 8, 9])"
      ]
     },
     "execution_count": 26,
     "metadata": {},
     "output_type": "execute_result"
    }
   ],
   "source": [
    "np.array(list_1)"
   ]
  },
  {
   "cell_type": "code",
   "execution_count": null,
   "id": "f3b2cbb7",
   "metadata": {},
   "outputs": [],
   "source": []
  }
 ],
 "metadata": {
  "kernelspec": {
   "display_name": "Python 3",
   "language": "python",
   "name": "python3"
  },
  "language_info": {
   "codemirror_mode": {
    "name": "ipython",
    "version": 3
   },
   "file_extension": ".py",
   "mimetype": "text/x-python",
   "name": "python",
   "nbconvert_exporter": "python",
   "pygments_lexer": "ipython3",
   "version": "3.9.4"
  }
 },
 "nbformat": 4,
 "nbformat_minor": 5
}
